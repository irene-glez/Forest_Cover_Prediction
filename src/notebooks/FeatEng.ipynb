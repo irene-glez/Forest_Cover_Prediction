{
 "cells": [
  {
   "cell_type": "markdown",
   "metadata": {},
   "source": []
  },
  {
   "cell_type": "markdown",
   "metadata": {},
   "source": [
    "## project\n",
    "\n",
    "- Task: to predict the forest cover type (the predominant kind of tree cover) from strictly cartographic variables (as opposed to remotely sensed data). \n",
    "- The dataset: The actual forest cover type for a given 30 x 30 meter cell was determined from US Forest Service (USFS) Region 2 Resource Information System data. Independent variables were then derived from data obtained from the US Geological Survey and USFS. The data is in raw form (not scaled) and contains binary columns of data for qualitative independent variables such as wilderness areas and soil type.\n",
    "\n",
    "This study area includes four wilderness areas located in the Roosevelt National Forest of northern Colorado. These areas represent forests with minimal human-caused disturbances, so that existing forest cover types are more a result of ecological processes rather than forest management practices.\n",
    "\n",
    "- source: https://www.kaggle.com/competitions/forest-cover-type-prediction/data"
   ]
  },
  {
   "cell_type": "markdown",
   "metadata": {},
   "source": [
    "## target\n",
    "\n",
    "- What kind of tree will gow in Roosevelt National Forest, Colorado?\n",
    "- The seven types of cover type (trees) are:\n",
    "\n",
    "1. Spruce/Fir\n",
    "2. Lodgepole Pine\n",
    "3. Ponderosa Pine\n",
    "4. Cottonwood/Willow\n",
    "5. Aspen\n",
    "6. Douglas-fir\n",
    "7. Krummholz"
   ]
  },
  {
   "cell_type": "markdown",
   "metadata": {},
   "source": [
    "## features\n",
    "\n",
    "- Elevation - Elevation in meters\n",
    "- Aspect - Aspect in degrees azimuth\n",
    "- Slope - Slope in degrees\n",
    "- Horizontal_Distance_To_Hydrology - Horz Dist to nearest surface water features\n",
    "- Vertical_Distance_To_Hydrology - Vert Dist to nearest surface water features\n",
    "- Horizontal_Distance_To_Roadways - Horz Dist to nearest roadway\n",
    "- Hillshade_9am (0 to 255 index) - Hillshade index at 9am, summer solstice\n",
    "- Hillshade_Noon (0 to 255 index) - Hillshade index at noon, summer solstice\n",
    "- Hillshade_3pm (0 to 255 index) - Hillshade index at 3pm, summer solstice\n",
    "- Horizontal_Distance_To_Fire_Points - Horz Dist to nearest wildfire ignition points\n",
    "- Wilderness_Area (4 binary columns, 0 = absence or 1 = presence) - Wilderness area designation\n",
    "- Soil_Type (40 binary columns, 0 = absence or 1 = presence) - Soil Type designation\n",
    "- Cover_Type (7 types, integers 1 to 7) - Forest Cover Type designation\n",
    "\n",
    "- The wilderness areas are:\n",
    "\n",
    "1. Rawah Wilderness Area\n",
    "2. Neota Wilderness Area\n",
    "3. Comanche Peak Wilderness Area\n",
    "4. Cache la Poudre Wilderness Area\n",
    "\n",
    "- The soil types are:\n",
    "\n",
    "1. Cathedral family - Rock outcrop complex, extremely stony.\n",
    "2. Vanet - Ratake families complex, very stony.\n",
    "3. Haploborolis - Rock outcrop complex, rubbly.\n",
    "4. Ratake family - Rock outcrop complex, rubbly.\n",
    "5. Vanet family - Rock outcrop complex complex, rubbly.\n",
    "6. Vanet - Wetmore families - Rock outcrop complex, stony.\n",
    "7. Gothic family.\n",
    "8. Supervisor - Limber families complex.\n",
    "9. Troutville family, very stony.\n",
    "10. Bullwark - Catamount families - Rock outcrop complex, rubbly.\n",
    "11. Bullwark - Catamount families - Rock land complex, rubbly.\n",
    "12. Legault family - Rock land complex, stony.\n",
    "13. Catamount family - Rock land - Bullwark family complex, rubbly.\n",
    "14. Pachic Argiborolis - Aquolis complex.\n",
    "15. unspecified in the USFS Soil and ELU Survey.\n",
    "16. Cryaquolis - Cryoborolis complex.\n",
    "17. Gateview family - Cryaquolis complex.\n",
    "18. Rogert family, very stony.\n",
    "19. Typic Cryaquolis - Borohemists complex.\n",
    "20. Typic Cryaquepts - Typic Cryaquolls complex.\n",
    "21. Typic Cryaquolls - Leighcan family, till substratum complex.\n",
    "22. Leighcan family, till substratum, extremely bouldery.\n",
    "23. Leighcan family, till substratum - Typic Cryaquolls complex.\n",
    "24. Leighcan family, extremely stony.\n",
    "25. Leighcan family, warm, extremely stony.\n",
    "26. Granile - Catamount families complex, very stony.\n",
    "27. Leighcan family, warm - Rock outcrop complex, extremely stony.\n",
    "28. Leighcan family - Rock outcrop complex, extremely stony.\n",
    "29. Como - Legault families complex, extremely stony.\n",
    "30. Como family - Rock land - Legault family complex, extremely stony.\n",
    "31. Leighcan - Catamount families complex, extremely stony.\n",
    "32. Catamount family - Rock outcrop - Leighcan family complex, extremely stony.\n",
    "33. Leighcan - Catamount families - Rock outcrop complex, extremely stony.\n",
    "34. Cryorthents - Rock land complex, extremely stony.\n",
    "35. Cryumbrepts - Rock outcrop - Cryaquepts complex.\n",
    "36. Bross family - Rock land - Cryumbrepts complex, extremely stony.\n",
    "37. Rock outcrop - Cryumbrepts - Cryorthents complex, extremely stony.\n",
    "38. Leighcan - Moran families - Cryaquolls complex, extremely stony.\n",
    "39. Moran family - Cryorthents - Leighcan family complex, extremely stony.\n",
    "40. Moran family - Cryorthents - Rock land complex, extremely stony."
   ]
  },
  {
   "cell_type": "markdown",
   "metadata": {},
   "source": []
  },
  {
   "cell_type": "code",
   "execution_count": 1,
   "metadata": {},
   "outputs": [],
   "source": [
    "# common imports\n",
    "import numpy as np\n",
    "import os\n",
    "import sklearn\n",
    "import pandas as pd\n",
    "\n",
    "# to make this notebook's output stable across runs\n",
    "np.random.seed(4)\n",
    "\n",
    "# to plot figures\n",
    "%matplotlib inline\n",
    "import matplotlib as mpl\n",
    "import matplotlib.pyplot as plt\n",
    "import seaborn as sns\n",
    "\n",
    "sns.set_style('whitegrid')\n",
    "plt.style.use(\"fivethirtyeight\")\n",
    "\n",
    "mpl.rc('axes', labelsize=14)\n",
    "mpl.rc('xtick', labelsize=12)\n",
    "mpl.rc('ytick', labelsize=12)"
   ]
  },
  {
   "cell_type": "code",
   "execution_count": 6,
   "metadata": {},
   "outputs": [
    {
     "data": {
      "text/plain": [
       "(565892, 55)"
      ]
     },
     "execution_count": 6,
     "metadata": {},
     "output_type": "execute_result"
    }
   ],
   "source": [
    "test = pd.read_csv('data/test.csv')\n",
    "test.shape"
   ]
  },
  {
   "cell_type": "code",
   "execution_count": 5,
   "metadata": {},
   "outputs": [
    {
     "data": {
      "text/plain": [
       "(15120, 56)"
      ]
     },
     "execution_count": 5,
     "metadata": {},
     "output_type": "execute_result"
    }
   ],
   "source": [
    "train = pd.read_csv('data/train.csv')\n",
    "train.shape"
   ]
  },
  {
   "cell_type": "code",
   "execution_count": 22,
   "metadata": {},
   "outputs": [
    {
     "name": "stdout",
     "output_type": "stream",
     "text": [
      "<class 'pandas.core.frame.DataFrame'>\n",
      "RangeIndex: 15120 entries, 0 to 15119\n",
      "Data columns (total 20 columns):\n",
      " #   Column                              Non-Null Count  Dtype\n",
      "---  ------                              --------------  -----\n",
      " 0   Id                                  15120 non-null  int64\n",
      " 1   Elevation                           15120 non-null  int64\n",
      " 2   Aspect                              15120 non-null  int64\n",
      " 3   Slope                               15120 non-null  int64\n",
      " 4   Horizontal_Distance_To_Hydrology    15120 non-null  int64\n",
      " 5   Vertical_Distance_To_Hydrology      15120 non-null  int64\n",
      " 6   Horizontal_Distance_To_Roadways     15120 non-null  int64\n",
      " 7   Hillshade_9am                       15120 non-null  int64\n",
      " 8   Hillshade_Noon                      15120 non-null  int64\n",
      " 9   Hillshade_3pm                       15120 non-null  int64\n",
      " 10  Horizontal_Distance_To_Fire_Points  15120 non-null  int64\n",
      " 11  Wilderness_Area1                    15120 non-null  int64\n",
      " 12  Wilderness_Area2                    15120 non-null  int64\n",
      " 13  Wilderness_Area3                    15120 non-null  int64\n",
      " 14  Wilderness_Area4                    15120 non-null  int64\n",
      " 15  Soil_Type1                          15120 non-null  int64\n",
      " 16  Soil_Type2                          15120 non-null  int64\n",
      " 17  Soil_Type3                          15120 non-null  int64\n",
      " 18  Soil_Type4                          15120 non-null  int64\n",
      " 19  Soil_Type5                          15120 non-null  int64\n",
      "dtypes: int64(20)\n",
      "memory usage: 2.3 MB\n"
     ]
    }
   ],
   "source": [
    "train.iloc[:, :20].info()"
   ]
  },
  {
   "cell_type": "code",
   "execution_count": 23,
   "metadata": {},
   "outputs": [
    {
     "name": "stdout",
     "output_type": "stream",
     "text": [
      "<class 'pandas.core.frame.DataFrame'>\n",
      "RangeIndex: 15120 entries, 0 to 15119\n",
      "Data columns (total 20 columns):\n",
      " #   Column       Non-Null Count  Dtype\n",
      "---  ------       --------------  -----\n",
      " 0   Soil_Type6   15120 non-null  int64\n",
      " 1   Soil_Type7   15120 non-null  int64\n",
      " 2   Soil_Type8   15120 non-null  int64\n",
      " 3   Soil_Type9   15120 non-null  int64\n",
      " 4   Soil_Type10  15120 non-null  int64\n",
      " 5   Soil_Type11  15120 non-null  int64\n",
      " 6   Soil_Type12  15120 non-null  int64\n",
      " 7   Soil_Type13  15120 non-null  int64\n",
      " 8   Soil_Type14  15120 non-null  int64\n",
      " 9   Soil_Type15  15120 non-null  int64\n",
      " 10  Soil_Type16  15120 non-null  int64\n",
      " 11  Soil_Type17  15120 non-null  int64\n",
      " 12  Soil_Type18  15120 non-null  int64\n",
      " 13  Soil_Type19  15120 non-null  int64\n",
      " 14  Soil_Type20  15120 non-null  int64\n",
      " 15  Soil_Type21  15120 non-null  int64\n",
      " 16  Soil_Type22  15120 non-null  int64\n",
      " 17  Soil_Type23  15120 non-null  int64\n",
      " 18  Soil_Type24  15120 non-null  int64\n",
      " 19  Soil_Type25  15120 non-null  int64\n",
      "dtypes: int64(20)\n",
      "memory usage: 2.3 MB\n"
     ]
    }
   ],
   "source": [
    "train.iloc[:, 20:40].info()"
   ]
  },
  {
   "cell_type": "code",
   "execution_count": 25,
   "metadata": {},
   "outputs": [
    {
     "name": "stdout",
     "output_type": "stream",
     "text": [
      "<class 'pandas.core.frame.DataFrame'>\n",
      "RangeIndex: 15120 entries, 0 to 15119\n",
      "Data columns (total 16 columns):\n",
      " #   Column       Non-Null Count  Dtype\n",
      "---  ------       --------------  -----\n",
      " 0   Soil_Type26  15120 non-null  int64\n",
      " 1   Soil_Type27  15120 non-null  int64\n",
      " 2   Soil_Type28  15120 non-null  int64\n",
      " 3   Soil_Type29  15120 non-null  int64\n",
      " 4   Soil_Type30  15120 non-null  int64\n",
      " 5   Soil_Type31  15120 non-null  int64\n",
      " 6   Soil_Type32  15120 non-null  int64\n",
      " 7   Soil_Type33  15120 non-null  int64\n",
      " 8   Soil_Type34  15120 non-null  int64\n",
      " 9   Soil_Type35  15120 non-null  int64\n",
      " 10  Soil_Type36  15120 non-null  int64\n",
      " 11  Soil_Type37  15120 non-null  int64\n",
      " 12  Soil_Type38  15120 non-null  int64\n",
      " 13  Soil_Type39  15120 non-null  int64\n",
      " 14  Soil_Type40  15120 non-null  int64\n",
      " 15  Cover_Type   15120 non-null  int64\n",
      "dtypes: int64(16)\n",
      "memory usage: 1.8 MB\n"
     ]
    }
   ],
   "source": [
    "train.iloc[:, 40:].info()"
   ]
  },
  {
   "cell_type": "markdown",
   "metadata": {},
   "source": [
    "- all values are integers"
   ]
  },
  {
   "cell_type": "code",
   "execution_count": 30,
   "metadata": {},
   "outputs": [
    {
     "data": {
      "text/html": [
       "<div>\n",
       "<style scoped>\n",
       "    .dataframe tbody tr th:only-of-type {\n",
       "        vertical-align: middle;\n",
       "    }\n",
       "\n",
       "    .dataframe tbody tr th {\n",
       "        vertical-align: top;\n",
       "    }\n",
       "\n",
       "    .dataframe thead th {\n",
       "        text-align: right;\n",
       "    }\n",
       "</style>\n",
       "<table border=\"1\" class=\"dataframe\">\n",
       "  <thead>\n",
       "    <tr style=\"text-align: right;\">\n",
       "      <th></th>\n",
       "      <th>Id</th>\n",
       "      <th>Elevation</th>\n",
       "      <th>Aspect</th>\n",
       "      <th>Slope</th>\n",
       "      <th>Horizontal_Distance_To_Hydrology</th>\n",
       "      <th>Vertical_Distance_To_Hydrology</th>\n",
       "      <th>Horizontal_Distance_To_Roadways</th>\n",
       "      <th>Hillshade_9am</th>\n",
       "      <th>Hillshade_Noon</th>\n",
       "      <th>Hillshade_3pm</th>\n",
       "      <th>Horizontal_Distance_To_Fire_Points</th>\n",
       "      <th>Wilderness_Area1</th>\n",
       "      <th>Wilderness_Area2</th>\n",
       "      <th>Wilderness_Area3</th>\n",
       "      <th>Wilderness_Area4</th>\n",
       "      <th>Soil_Type1</th>\n",
       "      <th>Soil_Type2</th>\n",
       "      <th>Soil_Type3</th>\n",
       "      <th>Soil_Type4</th>\n",
       "      <th>Soil_Type5</th>\n",
       "    </tr>\n",
       "  </thead>\n",
       "  <tbody>\n",
       "    <tr>\n",
       "      <th>0</th>\n",
       "      <td>1</td>\n",
       "      <td>2596</td>\n",
       "      <td>51</td>\n",
       "      <td>3</td>\n",
       "      <td>258</td>\n",
       "      <td>0</td>\n",
       "      <td>510</td>\n",
       "      <td>221</td>\n",
       "      <td>232</td>\n",
       "      <td>148</td>\n",
       "      <td>6279</td>\n",
       "      <td>1</td>\n",
       "      <td>0</td>\n",
       "      <td>0</td>\n",
       "      <td>0</td>\n",
       "      <td>0</td>\n",
       "      <td>0</td>\n",
       "      <td>0</td>\n",
       "      <td>0</td>\n",
       "      <td>0</td>\n",
       "    </tr>\n",
       "    <tr>\n",
       "      <th>1</th>\n",
       "      <td>2</td>\n",
       "      <td>2590</td>\n",
       "      <td>56</td>\n",
       "      <td>2</td>\n",
       "      <td>212</td>\n",
       "      <td>-6</td>\n",
       "      <td>390</td>\n",
       "      <td>220</td>\n",
       "      <td>235</td>\n",
       "      <td>151</td>\n",
       "      <td>6225</td>\n",
       "      <td>1</td>\n",
       "      <td>0</td>\n",
       "      <td>0</td>\n",
       "      <td>0</td>\n",
       "      <td>0</td>\n",
       "      <td>0</td>\n",
       "      <td>0</td>\n",
       "      <td>0</td>\n",
       "      <td>0</td>\n",
       "    </tr>\n",
       "    <tr>\n",
       "      <th>2</th>\n",
       "      <td>3</td>\n",
       "      <td>2804</td>\n",
       "      <td>139</td>\n",
       "      <td>9</td>\n",
       "      <td>268</td>\n",
       "      <td>65</td>\n",
       "      <td>3180</td>\n",
       "      <td>234</td>\n",
       "      <td>238</td>\n",
       "      <td>135</td>\n",
       "      <td>6121</td>\n",
       "      <td>1</td>\n",
       "      <td>0</td>\n",
       "      <td>0</td>\n",
       "      <td>0</td>\n",
       "      <td>0</td>\n",
       "      <td>0</td>\n",
       "      <td>0</td>\n",
       "      <td>0</td>\n",
       "      <td>0</td>\n",
       "    </tr>\n",
       "    <tr>\n",
       "      <th>3</th>\n",
       "      <td>4</td>\n",
       "      <td>2785</td>\n",
       "      <td>155</td>\n",
       "      <td>18</td>\n",
       "      <td>242</td>\n",
       "      <td>118</td>\n",
       "      <td>3090</td>\n",
       "      <td>238</td>\n",
       "      <td>238</td>\n",
       "      <td>122</td>\n",
       "      <td>6211</td>\n",
       "      <td>1</td>\n",
       "      <td>0</td>\n",
       "      <td>0</td>\n",
       "      <td>0</td>\n",
       "      <td>0</td>\n",
       "      <td>0</td>\n",
       "      <td>0</td>\n",
       "      <td>0</td>\n",
       "      <td>0</td>\n",
       "    </tr>\n",
       "    <tr>\n",
       "      <th>4</th>\n",
       "      <td>5</td>\n",
       "      <td>2595</td>\n",
       "      <td>45</td>\n",
       "      <td>2</td>\n",
       "      <td>153</td>\n",
       "      <td>-1</td>\n",
       "      <td>391</td>\n",
       "      <td>220</td>\n",
       "      <td>234</td>\n",
       "      <td>150</td>\n",
       "      <td>6172</td>\n",
       "      <td>1</td>\n",
       "      <td>0</td>\n",
       "      <td>0</td>\n",
       "      <td>0</td>\n",
       "      <td>0</td>\n",
       "      <td>0</td>\n",
       "      <td>0</td>\n",
       "      <td>0</td>\n",
       "      <td>0</td>\n",
       "    </tr>\n",
       "    <tr>\n",
       "      <th>15115</th>\n",
       "      <td>15116</td>\n",
       "      <td>2607</td>\n",
       "      <td>243</td>\n",
       "      <td>23</td>\n",
       "      <td>258</td>\n",
       "      <td>7</td>\n",
       "      <td>660</td>\n",
       "      <td>170</td>\n",
       "      <td>251</td>\n",
       "      <td>214</td>\n",
       "      <td>1282</td>\n",
       "      <td>0</td>\n",
       "      <td>0</td>\n",
       "      <td>1</td>\n",
       "      <td>0</td>\n",
       "      <td>0</td>\n",
       "      <td>0</td>\n",
       "      <td>0</td>\n",
       "      <td>1</td>\n",
       "      <td>0</td>\n",
       "    </tr>\n",
       "    <tr>\n",
       "      <th>15116</th>\n",
       "      <td>15117</td>\n",
       "      <td>2603</td>\n",
       "      <td>121</td>\n",
       "      <td>19</td>\n",
       "      <td>633</td>\n",
       "      <td>195</td>\n",
       "      <td>618</td>\n",
       "      <td>249</td>\n",
       "      <td>221</td>\n",
       "      <td>91</td>\n",
       "      <td>1325</td>\n",
       "      <td>0</td>\n",
       "      <td>0</td>\n",
       "      <td>1</td>\n",
       "      <td>0</td>\n",
       "      <td>0</td>\n",
       "      <td>0</td>\n",
       "      <td>0</td>\n",
       "      <td>1</td>\n",
       "      <td>0</td>\n",
       "    </tr>\n",
       "    <tr>\n",
       "      <th>15117</th>\n",
       "      <td>15118</td>\n",
       "      <td>2492</td>\n",
       "      <td>134</td>\n",
       "      <td>25</td>\n",
       "      <td>365</td>\n",
       "      <td>117</td>\n",
       "      <td>335</td>\n",
       "      <td>250</td>\n",
       "      <td>220</td>\n",
       "      <td>83</td>\n",
       "      <td>1187</td>\n",
       "      <td>0</td>\n",
       "      <td>0</td>\n",
       "      <td>1</td>\n",
       "      <td>0</td>\n",
       "      <td>0</td>\n",
       "      <td>0</td>\n",
       "      <td>0</td>\n",
       "      <td>1</td>\n",
       "      <td>0</td>\n",
       "    </tr>\n",
       "    <tr>\n",
       "      <th>15118</th>\n",
       "      <td>15119</td>\n",
       "      <td>2487</td>\n",
       "      <td>167</td>\n",
       "      <td>28</td>\n",
       "      <td>218</td>\n",
       "      <td>101</td>\n",
       "      <td>242</td>\n",
       "      <td>229</td>\n",
       "      <td>237</td>\n",
       "      <td>119</td>\n",
       "      <td>932</td>\n",
       "      <td>0</td>\n",
       "      <td>0</td>\n",
       "      <td>1</td>\n",
       "      <td>0</td>\n",
       "      <td>0</td>\n",
       "      <td>0</td>\n",
       "      <td>0</td>\n",
       "      <td>1</td>\n",
       "      <td>0</td>\n",
       "    </tr>\n",
       "    <tr>\n",
       "      <th>15119</th>\n",
       "      <td>15120</td>\n",
       "      <td>2475</td>\n",
       "      <td>197</td>\n",
       "      <td>34</td>\n",
       "      <td>319</td>\n",
       "      <td>78</td>\n",
       "      <td>270</td>\n",
       "      <td>189</td>\n",
       "      <td>244</td>\n",
       "      <td>164</td>\n",
       "      <td>914</td>\n",
       "      <td>0</td>\n",
       "      <td>0</td>\n",
       "      <td>1</td>\n",
       "      <td>0</td>\n",
       "      <td>0</td>\n",
       "      <td>1</td>\n",
       "      <td>0</td>\n",
       "      <td>0</td>\n",
       "      <td>0</td>\n",
       "    </tr>\n",
       "  </tbody>\n",
       "</table>\n",
       "</div>"
      ],
      "text/plain": [
       "          Id  Elevation  Aspect  Slope  Horizontal_Distance_To_Hydrology  \\\n",
       "0          1       2596      51      3                               258   \n",
       "1          2       2590      56      2                               212   \n",
       "2          3       2804     139      9                               268   \n",
       "3          4       2785     155     18                               242   \n",
       "4          5       2595      45      2                               153   \n",
       "15115  15116       2607     243     23                               258   \n",
       "15116  15117       2603     121     19                               633   \n",
       "15117  15118       2492     134     25                               365   \n",
       "15118  15119       2487     167     28                               218   \n",
       "15119  15120       2475     197     34                               319   \n",
       "\n",
       "       Vertical_Distance_To_Hydrology  Horizontal_Distance_To_Roadways  \\\n",
       "0                                   0                              510   \n",
       "1                                  -6                              390   \n",
       "2                                  65                             3180   \n",
       "3                                 118                             3090   \n",
       "4                                  -1                              391   \n",
       "15115                               7                              660   \n",
       "15116                             195                              618   \n",
       "15117                             117                              335   \n",
       "15118                             101                              242   \n",
       "15119                              78                              270   \n",
       "\n",
       "       Hillshade_9am  Hillshade_Noon  Hillshade_3pm  \\\n",
       "0                221             232            148   \n",
       "1                220             235            151   \n",
       "2                234             238            135   \n",
       "3                238             238            122   \n",
       "4                220             234            150   \n",
       "15115            170             251            214   \n",
       "15116            249             221             91   \n",
       "15117            250             220             83   \n",
       "15118            229             237            119   \n",
       "15119            189             244            164   \n",
       "\n",
       "       Horizontal_Distance_To_Fire_Points  Wilderness_Area1  Wilderness_Area2  \\\n",
       "0                                    6279                 1                 0   \n",
       "1                                    6225                 1                 0   \n",
       "2                                    6121                 1                 0   \n",
       "3                                    6211                 1                 0   \n",
       "4                                    6172                 1                 0   \n",
       "15115                                1282                 0                 0   \n",
       "15116                                1325                 0                 0   \n",
       "15117                                1187                 0                 0   \n",
       "15118                                 932                 0                 0   \n",
       "15119                                 914                 0                 0   \n",
       "\n",
       "       Wilderness_Area3  Wilderness_Area4  Soil_Type1  Soil_Type2  Soil_Type3  \\\n",
       "0                     0                 0           0           0           0   \n",
       "1                     0                 0           0           0           0   \n",
       "2                     0                 0           0           0           0   \n",
       "3                     0                 0           0           0           0   \n",
       "4                     0                 0           0           0           0   \n",
       "15115                 1                 0           0           0           0   \n",
       "15116                 1                 0           0           0           0   \n",
       "15117                 1                 0           0           0           0   \n",
       "15118                 1                 0           0           0           0   \n",
       "15119                 1                 0           0           1           0   \n",
       "\n",
       "       Soil_Type4  Soil_Type5  \n",
       "0               0           0  \n",
       "1               0           0  \n",
       "2               0           0  \n",
       "3               0           0  \n",
       "4               0           0  \n",
       "15115           1           0  \n",
       "15116           1           0  \n",
       "15117           1           0  \n",
       "15118           1           0  \n",
       "15119           0           0  "
      ]
     },
     "execution_count": 30,
     "metadata": {},
     "output_type": "execute_result"
    }
   ],
   "source": [
    "train.iloc[:, :20].head().append(train.iloc[:, :20].tail())"
   ]
  },
  {
   "cell_type": "code",
   "execution_count": 33,
   "metadata": {},
   "outputs": [
    {
     "data": {
      "text/html": [
       "<div>\n",
       "<style scoped>\n",
       "    .dataframe tbody tr th:only-of-type {\n",
       "        vertical-align: middle;\n",
       "    }\n",
       "\n",
       "    .dataframe tbody tr th {\n",
       "        vertical-align: top;\n",
       "    }\n",
       "\n",
       "    .dataframe thead th {\n",
       "        text-align: right;\n",
       "    }\n",
       "</style>\n",
       "<table border=\"1\" class=\"dataframe\">\n",
       "  <thead>\n",
       "    <tr style=\"text-align: right;\">\n",
       "      <th></th>\n",
       "      <th>Soil_Type6</th>\n",
       "      <th>Soil_Type7</th>\n",
       "      <th>Soil_Type8</th>\n",
       "      <th>Soil_Type9</th>\n",
       "      <th>Soil_Type10</th>\n",
       "      <th>Soil_Type11</th>\n",
       "      <th>Soil_Type12</th>\n",
       "      <th>Soil_Type13</th>\n",
       "      <th>Soil_Type14</th>\n",
       "      <th>Soil_Type15</th>\n",
       "      <th>Soil_Type16</th>\n",
       "      <th>Soil_Type17</th>\n",
       "      <th>Soil_Type18</th>\n",
       "      <th>Soil_Type19</th>\n",
       "      <th>Soil_Type20</th>\n",
       "      <th>Soil_Type21</th>\n",
       "      <th>Soil_Type22</th>\n",
       "      <th>Soil_Type23</th>\n",
       "      <th>Soil_Type24</th>\n",
       "      <th>Soil_Type25</th>\n",
       "    </tr>\n",
       "  </thead>\n",
       "  <tbody>\n",
       "    <tr>\n",
       "      <th>0</th>\n",
       "      <td>0</td>\n",
       "      <td>0</td>\n",
       "      <td>0</td>\n",
       "      <td>0</td>\n",
       "      <td>0</td>\n",
       "      <td>0</td>\n",
       "      <td>0</td>\n",
       "      <td>0</td>\n",
       "      <td>0</td>\n",
       "      <td>0</td>\n",
       "      <td>0</td>\n",
       "      <td>0</td>\n",
       "      <td>0</td>\n",
       "      <td>0</td>\n",
       "      <td>0</td>\n",
       "      <td>0</td>\n",
       "      <td>0</td>\n",
       "      <td>0</td>\n",
       "      <td>0</td>\n",
       "      <td>0</td>\n",
       "    </tr>\n",
       "    <tr>\n",
       "      <th>1</th>\n",
       "      <td>0</td>\n",
       "      <td>0</td>\n",
       "      <td>0</td>\n",
       "      <td>0</td>\n",
       "      <td>0</td>\n",
       "      <td>0</td>\n",
       "      <td>0</td>\n",
       "      <td>0</td>\n",
       "      <td>0</td>\n",
       "      <td>0</td>\n",
       "      <td>0</td>\n",
       "      <td>0</td>\n",
       "      <td>0</td>\n",
       "      <td>0</td>\n",
       "      <td>0</td>\n",
       "      <td>0</td>\n",
       "      <td>0</td>\n",
       "      <td>0</td>\n",
       "      <td>0</td>\n",
       "      <td>0</td>\n",
       "    </tr>\n",
       "    <tr>\n",
       "      <th>2</th>\n",
       "      <td>0</td>\n",
       "      <td>0</td>\n",
       "      <td>0</td>\n",
       "      <td>0</td>\n",
       "      <td>0</td>\n",
       "      <td>0</td>\n",
       "      <td>1</td>\n",
       "      <td>0</td>\n",
       "      <td>0</td>\n",
       "      <td>0</td>\n",
       "      <td>0</td>\n",
       "      <td>0</td>\n",
       "      <td>0</td>\n",
       "      <td>0</td>\n",
       "      <td>0</td>\n",
       "      <td>0</td>\n",
       "      <td>0</td>\n",
       "      <td>0</td>\n",
       "      <td>0</td>\n",
       "      <td>0</td>\n",
       "    </tr>\n",
       "    <tr>\n",
       "      <th>3</th>\n",
       "      <td>0</td>\n",
       "      <td>0</td>\n",
       "      <td>0</td>\n",
       "      <td>0</td>\n",
       "      <td>0</td>\n",
       "      <td>0</td>\n",
       "      <td>0</td>\n",
       "      <td>0</td>\n",
       "      <td>0</td>\n",
       "      <td>0</td>\n",
       "      <td>0</td>\n",
       "      <td>0</td>\n",
       "      <td>0</td>\n",
       "      <td>0</td>\n",
       "      <td>0</td>\n",
       "      <td>0</td>\n",
       "      <td>0</td>\n",
       "      <td>0</td>\n",
       "      <td>0</td>\n",
       "      <td>0</td>\n",
       "    </tr>\n",
       "    <tr>\n",
       "      <th>4</th>\n",
       "      <td>0</td>\n",
       "      <td>0</td>\n",
       "      <td>0</td>\n",
       "      <td>0</td>\n",
       "      <td>0</td>\n",
       "      <td>0</td>\n",
       "      <td>0</td>\n",
       "      <td>0</td>\n",
       "      <td>0</td>\n",
       "      <td>0</td>\n",
       "      <td>0</td>\n",
       "      <td>0</td>\n",
       "      <td>0</td>\n",
       "      <td>0</td>\n",
       "      <td>0</td>\n",
       "      <td>0</td>\n",
       "      <td>0</td>\n",
       "      <td>0</td>\n",
       "      <td>0</td>\n",
       "      <td>0</td>\n",
       "    </tr>\n",
       "    <tr>\n",
       "      <th>15115</th>\n",
       "      <td>0</td>\n",
       "      <td>0</td>\n",
       "      <td>0</td>\n",
       "      <td>0</td>\n",
       "      <td>0</td>\n",
       "      <td>0</td>\n",
       "      <td>0</td>\n",
       "      <td>0</td>\n",
       "      <td>0</td>\n",
       "      <td>0</td>\n",
       "      <td>0</td>\n",
       "      <td>0</td>\n",
       "      <td>0</td>\n",
       "      <td>0</td>\n",
       "      <td>0</td>\n",
       "      <td>0</td>\n",
       "      <td>0</td>\n",
       "      <td>0</td>\n",
       "      <td>0</td>\n",
       "      <td>0</td>\n",
       "    </tr>\n",
       "    <tr>\n",
       "      <th>15116</th>\n",
       "      <td>0</td>\n",
       "      <td>0</td>\n",
       "      <td>0</td>\n",
       "      <td>0</td>\n",
       "      <td>0</td>\n",
       "      <td>0</td>\n",
       "      <td>0</td>\n",
       "      <td>0</td>\n",
       "      <td>0</td>\n",
       "      <td>0</td>\n",
       "      <td>0</td>\n",
       "      <td>0</td>\n",
       "      <td>0</td>\n",
       "      <td>0</td>\n",
       "      <td>0</td>\n",
       "      <td>0</td>\n",
       "      <td>0</td>\n",
       "      <td>0</td>\n",
       "      <td>0</td>\n",
       "      <td>0</td>\n",
       "    </tr>\n",
       "    <tr>\n",
       "      <th>15117</th>\n",
       "      <td>0</td>\n",
       "      <td>0</td>\n",
       "      <td>0</td>\n",
       "      <td>0</td>\n",
       "      <td>0</td>\n",
       "      <td>0</td>\n",
       "      <td>0</td>\n",
       "      <td>0</td>\n",
       "      <td>0</td>\n",
       "      <td>0</td>\n",
       "      <td>0</td>\n",
       "      <td>0</td>\n",
       "      <td>0</td>\n",
       "      <td>0</td>\n",
       "      <td>0</td>\n",
       "      <td>0</td>\n",
       "      <td>0</td>\n",
       "      <td>0</td>\n",
       "      <td>0</td>\n",
       "      <td>0</td>\n",
       "    </tr>\n",
       "    <tr>\n",
       "      <th>15118</th>\n",
       "      <td>0</td>\n",
       "      <td>0</td>\n",
       "      <td>0</td>\n",
       "      <td>0</td>\n",
       "      <td>0</td>\n",
       "      <td>0</td>\n",
       "      <td>0</td>\n",
       "      <td>0</td>\n",
       "      <td>0</td>\n",
       "      <td>0</td>\n",
       "      <td>0</td>\n",
       "      <td>0</td>\n",
       "      <td>0</td>\n",
       "      <td>0</td>\n",
       "      <td>0</td>\n",
       "      <td>0</td>\n",
       "      <td>0</td>\n",
       "      <td>0</td>\n",
       "      <td>0</td>\n",
       "      <td>0</td>\n",
       "    </tr>\n",
       "    <tr>\n",
       "      <th>15119</th>\n",
       "      <td>0</td>\n",
       "      <td>0</td>\n",
       "      <td>0</td>\n",
       "      <td>0</td>\n",
       "      <td>0</td>\n",
       "      <td>0</td>\n",
       "      <td>0</td>\n",
       "      <td>0</td>\n",
       "      <td>0</td>\n",
       "      <td>0</td>\n",
       "      <td>0</td>\n",
       "      <td>0</td>\n",
       "      <td>0</td>\n",
       "      <td>0</td>\n",
       "      <td>0</td>\n",
       "      <td>0</td>\n",
       "      <td>0</td>\n",
       "      <td>0</td>\n",
       "      <td>0</td>\n",
       "      <td>0</td>\n",
       "    </tr>\n",
       "  </tbody>\n",
       "</table>\n",
       "</div>"
      ],
      "text/plain": [
       "       Soil_Type6  Soil_Type7  Soil_Type8  Soil_Type9  Soil_Type10  \\\n",
       "0               0           0           0           0            0   \n",
       "1               0           0           0           0            0   \n",
       "2               0           0           0           0            0   \n",
       "3               0           0           0           0            0   \n",
       "4               0           0           0           0            0   \n",
       "15115           0           0           0           0            0   \n",
       "15116           0           0           0           0            0   \n",
       "15117           0           0           0           0            0   \n",
       "15118           0           0           0           0            0   \n",
       "15119           0           0           0           0            0   \n",
       "\n",
       "       Soil_Type11  Soil_Type12  Soil_Type13  Soil_Type14  Soil_Type15  \\\n",
       "0                0            0            0            0            0   \n",
       "1                0            0            0            0            0   \n",
       "2                0            1            0            0            0   \n",
       "3                0            0            0            0            0   \n",
       "4                0            0            0            0            0   \n",
       "15115            0            0            0            0            0   \n",
       "15116            0            0            0            0            0   \n",
       "15117            0            0            0            0            0   \n",
       "15118            0            0            0            0            0   \n",
       "15119            0            0            0            0            0   \n",
       "\n",
       "       Soil_Type16  Soil_Type17  Soil_Type18  Soil_Type19  Soil_Type20  \\\n",
       "0                0            0            0            0            0   \n",
       "1                0            0            0            0            0   \n",
       "2                0            0            0            0            0   \n",
       "3                0            0            0            0            0   \n",
       "4                0            0            0            0            0   \n",
       "15115            0            0            0            0            0   \n",
       "15116            0            0            0            0            0   \n",
       "15117            0            0            0            0            0   \n",
       "15118            0            0            0            0            0   \n",
       "15119            0            0            0            0            0   \n",
       "\n",
       "       Soil_Type21  Soil_Type22  Soil_Type23  Soil_Type24  Soil_Type25  \n",
       "0                0            0            0            0            0  \n",
       "1                0            0            0            0            0  \n",
       "2                0            0            0            0            0  \n",
       "3                0            0            0            0            0  \n",
       "4                0            0            0            0            0  \n",
       "15115            0            0            0            0            0  \n",
       "15116            0            0            0            0            0  \n",
       "15117            0            0            0            0            0  \n",
       "15118            0            0            0            0            0  \n",
       "15119            0            0            0            0            0  "
      ]
     },
     "execution_count": 33,
     "metadata": {},
     "output_type": "execute_result"
    }
   ],
   "source": [
    "train.iloc[:, 20:40].head().append(train.iloc[:, 20:40].tail())"
   ]
  },
  {
   "cell_type": "code",
   "execution_count": 34,
   "metadata": {},
   "outputs": [
    {
     "data": {
      "text/html": [
       "<div>\n",
       "<style scoped>\n",
       "    .dataframe tbody tr th:only-of-type {\n",
       "        vertical-align: middle;\n",
       "    }\n",
       "\n",
       "    .dataframe tbody tr th {\n",
       "        vertical-align: top;\n",
       "    }\n",
       "\n",
       "    .dataframe thead th {\n",
       "        text-align: right;\n",
       "    }\n",
       "</style>\n",
       "<table border=\"1\" class=\"dataframe\">\n",
       "  <thead>\n",
       "    <tr style=\"text-align: right;\">\n",
       "      <th></th>\n",
       "      <th>Soil_Type26</th>\n",
       "      <th>Soil_Type27</th>\n",
       "      <th>Soil_Type28</th>\n",
       "      <th>Soil_Type29</th>\n",
       "      <th>Soil_Type30</th>\n",
       "      <th>Soil_Type31</th>\n",
       "      <th>Soil_Type32</th>\n",
       "      <th>Soil_Type33</th>\n",
       "      <th>Soil_Type34</th>\n",
       "      <th>Soil_Type35</th>\n",
       "      <th>Soil_Type36</th>\n",
       "      <th>Soil_Type37</th>\n",
       "      <th>Soil_Type38</th>\n",
       "      <th>Soil_Type39</th>\n",
       "      <th>Soil_Type40</th>\n",
       "      <th>Cover_Type</th>\n",
       "    </tr>\n",
       "  </thead>\n",
       "  <tbody>\n",
       "    <tr>\n",
       "      <th>0</th>\n",
       "      <td>0</td>\n",
       "      <td>0</td>\n",
       "      <td>0</td>\n",
       "      <td>1</td>\n",
       "      <td>0</td>\n",
       "      <td>0</td>\n",
       "      <td>0</td>\n",
       "      <td>0</td>\n",
       "      <td>0</td>\n",
       "      <td>0</td>\n",
       "      <td>0</td>\n",
       "      <td>0</td>\n",
       "      <td>0</td>\n",
       "      <td>0</td>\n",
       "      <td>0</td>\n",
       "      <td>5</td>\n",
       "    </tr>\n",
       "    <tr>\n",
       "      <th>1</th>\n",
       "      <td>0</td>\n",
       "      <td>0</td>\n",
       "      <td>0</td>\n",
       "      <td>1</td>\n",
       "      <td>0</td>\n",
       "      <td>0</td>\n",
       "      <td>0</td>\n",
       "      <td>0</td>\n",
       "      <td>0</td>\n",
       "      <td>0</td>\n",
       "      <td>0</td>\n",
       "      <td>0</td>\n",
       "      <td>0</td>\n",
       "      <td>0</td>\n",
       "      <td>0</td>\n",
       "      <td>5</td>\n",
       "    </tr>\n",
       "    <tr>\n",
       "      <th>2</th>\n",
       "      <td>0</td>\n",
       "      <td>0</td>\n",
       "      <td>0</td>\n",
       "      <td>0</td>\n",
       "      <td>0</td>\n",
       "      <td>0</td>\n",
       "      <td>0</td>\n",
       "      <td>0</td>\n",
       "      <td>0</td>\n",
       "      <td>0</td>\n",
       "      <td>0</td>\n",
       "      <td>0</td>\n",
       "      <td>0</td>\n",
       "      <td>0</td>\n",
       "      <td>0</td>\n",
       "      <td>2</td>\n",
       "    </tr>\n",
       "    <tr>\n",
       "      <th>3</th>\n",
       "      <td>0</td>\n",
       "      <td>0</td>\n",
       "      <td>0</td>\n",
       "      <td>0</td>\n",
       "      <td>1</td>\n",
       "      <td>0</td>\n",
       "      <td>0</td>\n",
       "      <td>0</td>\n",
       "      <td>0</td>\n",
       "      <td>0</td>\n",
       "      <td>0</td>\n",
       "      <td>0</td>\n",
       "      <td>0</td>\n",
       "      <td>0</td>\n",
       "      <td>0</td>\n",
       "      <td>2</td>\n",
       "    </tr>\n",
       "    <tr>\n",
       "      <th>4</th>\n",
       "      <td>0</td>\n",
       "      <td>0</td>\n",
       "      <td>0</td>\n",
       "      <td>1</td>\n",
       "      <td>0</td>\n",
       "      <td>0</td>\n",
       "      <td>0</td>\n",
       "      <td>0</td>\n",
       "      <td>0</td>\n",
       "      <td>0</td>\n",
       "      <td>0</td>\n",
       "      <td>0</td>\n",
       "      <td>0</td>\n",
       "      <td>0</td>\n",
       "      <td>0</td>\n",
       "      <td>5</td>\n",
       "    </tr>\n",
       "    <tr>\n",
       "      <th>15115</th>\n",
       "      <td>0</td>\n",
       "      <td>0</td>\n",
       "      <td>0</td>\n",
       "      <td>0</td>\n",
       "      <td>0</td>\n",
       "      <td>0</td>\n",
       "      <td>0</td>\n",
       "      <td>0</td>\n",
       "      <td>0</td>\n",
       "      <td>0</td>\n",
       "      <td>0</td>\n",
       "      <td>0</td>\n",
       "      <td>0</td>\n",
       "      <td>0</td>\n",
       "      <td>0</td>\n",
       "      <td>3</td>\n",
       "    </tr>\n",
       "    <tr>\n",
       "      <th>15116</th>\n",
       "      <td>0</td>\n",
       "      <td>0</td>\n",
       "      <td>0</td>\n",
       "      <td>0</td>\n",
       "      <td>0</td>\n",
       "      <td>0</td>\n",
       "      <td>0</td>\n",
       "      <td>0</td>\n",
       "      <td>0</td>\n",
       "      <td>0</td>\n",
       "      <td>0</td>\n",
       "      <td>0</td>\n",
       "      <td>0</td>\n",
       "      <td>0</td>\n",
       "      <td>0</td>\n",
       "      <td>3</td>\n",
       "    </tr>\n",
       "    <tr>\n",
       "      <th>15117</th>\n",
       "      <td>0</td>\n",
       "      <td>0</td>\n",
       "      <td>0</td>\n",
       "      <td>0</td>\n",
       "      <td>0</td>\n",
       "      <td>0</td>\n",
       "      <td>0</td>\n",
       "      <td>0</td>\n",
       "      <td>0</td>\n",
       "      <td>0</td>\n",
       "      <td>0</td>\n",
       "      <td>0</td>\n",
       "      <td>0</td>\n",
       "      <td>0</td>\n",
       "      <td>0</td>\n",
       "      <td>3</td>\n",
       "    </tr>\n",
       "    <tr>\n",
       "      <th>15118</th>\n",
       "      <td>0</td>\n",
       "      <td>0</td>\n",
       "      <td>0</td>\n",
       "      <td>0</td>\n",
       "      <td>0</td>\n",
       "      <td>0</td>\n",
       "      <td>0</td>\n",
       "      <td>0</td>\n",
       "      <td>0</td>\n",
       "      <td>0</td>\n",
       "      <td>0</td>\n",
       "      <td>0</td>\n",
       "      <td>0</td>\n",
       "      <td>0</td>\n",
       "      <td>0</td>\n",
       "      <td>3</td>\n",
       "    </tr>\n",
       "    <tr>\n",
       "      <th>15119</th>\n",
       "      <td>0</td>\n",
       "      <td>0</td>\n",
       "      <td>0</td>\n",
       "      <td>0</td>\n",
       "      <td>0</td>\n",
       "      <td>0</td>\n",
       "      <td>0</td>\n",
       "      <td>0</td>\n",
       "      <td>0</td>\n",
       "      <td>0</td>\n",
       "      <td>0</td>\n",
       "      <td>0</td>\n",
       "      <td>0</td>\n",
       "      <td>0</td>\n",
       "      <td>0</td>\n",
       "      <td>3</td>\n",
       "    </tr>\n",
       "  </tbody>\n",
       "</table>\n",
       "</div>"
      ],
      "text/plain": [
       "       Soil_Type26  Soil_Type27  Soil_Type28  Soil_Type29  Soil_Type30  \\\n",
       "0                0            0            0            1            0   \n",
       "1                0            0            0            1            0   \n",
       "2                0            0            0            0            0   \n",
       "3                0            0            0            0            1   \n",
       "4                0            0            0            1            0   \n",
       "15115            0            0            0            0            0   \n",
       "15116            0            0            0            0            0   \n",
       "15117            0            0            0            0            0   \n",
       "15118            0            0            0            0            0   \n",
       "15119            0            0            0            0            0   \n",
       "\n",
       "       Soil_Type31  Soil_Type32  Soil_Type33  Soil_Type34  Soil_Type35  \\\n",
       "0                0            0            0            0            0   \n",
       "1                0            0            0            0            0   \n",
       "2                0            0            0            0            0   \n",
       "3                0            0            0            0            0   \n",
       "4                0            0            0            0            0   \n",
       "15115            0            0            0            0            0   \n",
       "15116            0            0            0            0            0   \n",
       "15117            0            0            0            0            0   \n",
       "15118            0            0            0            0            0   \n",
       "15119            0            0            0            0            0   \n",
       "\n",
       "       Soil_Type36  Soil_Type37  Soil_Type38  Soil_Type39  Soil_Type40  \\\n",
       "0                0            0            0            0            0   \n",
       "1                0            0            0            0            0   \n",
       "2                0            0            0            0            0   \n",
       "3                0            0            0            0            0   \n",
       "4                0            0            0            0            0   \n",
       "15115            0            0            0            0            0   \n",
       "15116            0            0            0            0            0   \n",
       "15117            0            0            0            0            0   \n",
       "15118            0            0            0            0            0   \n",
       "15119            0            0            0            0            0   \n",
       "\n",
       "       Cover_Type  \n",
       "0               5  \n",
       "1               5  \n",
       "2               2  \n",
       "3               2  \n",
       "4               5  \n",
       "15115           3  \n",
       "15116           3  \n",
       "15117           3  \n",
       "15118           3  \n",
       "15119           3  "
      ]
     },
     "execution_count": 34,
     "metadata": {},
     "output_type": "execute_result"
    }
   ],
   "source": [
    "train.iloc[:, 40:].head().append(train.iloc[:, 40:].tail())"
   ]
  },
  {
   "cell_type": "markdown",
   "metadata": {},
   "source": [
    "## - nulls, duplicates and outliers"
   ]
  },
  {
   "cell_type": "code",
   "execution_count": 36,
   "metadata": {},
   "outputs": [
    {
     "data": {
      "text/plain": [
       "Id                                    0\n",
       "Elevation                             0\n",
       "Aspect                                0\n",
       "Slope                                 0\n",
       "Horizontal_Distance_To_Hydrology      0\n",
       "Vertical_Distance_To_Hydrology        0\n",
       "Horizontal_Distance_To_Roadways       0\n",
       "Hillshade_9am                         0\n",
       "Hillshade_Noon                        0\n",
       "Hillshade_3pm                         0\n",
       "Horizontal_Distance_To_Fire_Points    0\n",
       "Wilderness_Area1                      0\n",
       "Wilderness_Area2                      0\n",
       "Wilderness_Area3                      0\n",
       "Wilderness_Area4                      0\n",
       "Soil_Type1                            0\n",
       "Soil_Type2                            0\n",
       "Soil_Type3                            0\n",
       "Soil_Type4                            0\n",
       "Soil_Type5                            0\n",
       "dtype: int64"
      ]
     },
     "execution_count": 36,
     "metadata": {},
     "output_type": "execute_result"
    }
   ],
   "source": [
    "# checking for nulls\n",
    "\n",
    "train.iloc[:, :20].isnull().sum()"
   ]
  },
  {
   "cell_type": "code",
   "execution_count": 37,
   "metadata": {},
   "outputs": [
    {
     "data": {
      "text/plain": [
       "Soil_Type6     0\n",
       "Soil_Type7     0\n",
       "Soil_Type8     0\n",
       "Soil_Type9     0\n",
       "Soil_Type10    0\n",
       "Soil_Type11    0\n",
       "Soil_Type12    0\n",
       "Soil_Type13    0\n",
       "Soil_Type14    0\n",
       "Soil_Type15    0\n",
       "Soil_Type16    0\n",
       "Soil_Type17    0\n",
       "Soil_Type18    0\n",
       "Soil_Type19    0\n",
       "Soil_Type20    0\n",
       "Soil_Type21    0\n",
       "Soil_Type22    0\n",
       "Soil_Type23    0\n",
       "Soil_Type24    0\n",
       "Soil_Type25    0\n",
       "dtype: int64"
      ]
     },
     "execution_count": 37,
     "metadata": {},
     "output_type": "execute_result"
    }
   ],
   "source": [
    "train.iloc[:, 20:40].isnull().sum()"
   ]
  },
  {
   "cell_type": "code",
   "execution_count": 38,
   "metadata": {},
   "outputs": [
    {
     "data": {
      "text/plain": [
       "Soil_Type26    0\n",
       "Soil_Type27    0\n",
       "Soil_Type28    0\n",
       "Soil_Type29    0\n",
       "Soil_Type30    0\n",
       "Soil_Type31    0\n",
       "Soil_Type32    0\n",
       "Soil_Type33    0\n",
       "Soil_Type34    0\n",
       "Soil_Type35    0\n",
       "Soil_Type36    0\n",
       "Soil_Type37    0\n",
       "Soil_Type38    0\n",
       "Soil_Type39    0\n",
       "Soil_Type40    0\n",
       "Cover_Type     0\n",
       "dtype: int64"
      ]
     },
     "execution_count": 38,
     "metadata": {},
     "output_type": "execute_result"
    }
   ],
   "source": [
    "train.iloc[:, 40:].isnull().sum()"
   ]
  },
  {
   "cell_type": "code",
   "execution_count": 39,
   "metadata": {},
   "outputs": [
    {
     "data": {
      "text/plain": [
       "0"
      ]
     },
     "execution_count": 39,
     "metadata": {},
     "output_type": "execute_result"
    }
   ],
   "source": [
    "train.isnull().sum().sum()"
   ]
  },
  {
   "cell_type": "markdown",
   "metadata": {},
   "source": [
    "- 0 nulls"
   ]
  },
  {
   "cell_type": "code",
   "execution_count": 42,
   "metadata": {},
   "outputs": [
    {
     "data": {
      "text/html": [
       "<div>\n",
       "<style scoped>\n",
       "    .dataframe tbody tr th:only-of-type {\n",
       "        vertical-align: middle;\n",
       "    }\n",
       "\n",
       "    .dataframe tbody tr th {\n",
       "        vertical-align: top;\n",
       "    }\n",
       "\n",
       "    .dataframe thead th {\n",
       "        text-align: right;\n",
       "    }\n",
       "</style>\n",
       "<table border=\"1\" class=\"dataframe\">\n",
       "  <thead>\n",
       "    <tr style=\"text-align: right;\">\n",
       "      <th></th>\n",
       "      <th>Id</th>\n",
       "      <th>Elevation</th>\n",
       "      <th>Aspect</th>\n",
       "      <th>Slope</th>\n",
       "      <th>Horizontal_Distance_To_Hydrology</th>\n",
       "      <th>Vertical_Distance_To_Hydrology</th>\n",
       "      <th>Horizontal_Distance_To_Roadways</th>\n",
       "      <th>Hillshade_9am</th>\n",
       "      <th>Hillshade_Noon</th>\n",
       "      <th>Hillshade_3pm</th>\n",
       "      <th>...</th>\n",
       "      <th>Soil_Type32</th>\n",
       "      <th>Soil_Type33</th>\n",
       "      <th>Soil_Type34</th>\n",
       "      <th>Soil_Type35</th>\n",
       "      <th>Soil_Type36</th>\n",
       "      <th>Soil_Type37</th>\n",
       "      <th>Soil_Type38</th>\n",
       "      <th>Soil_Type39</th>\n",
       "      <th>Soil_Type40</th>\n",
       "      <th>Cover_Type</th>\n",
       "    </tr>\n",
       "  </thead>\n",
       "  <tbody>\n",
       "  </tbody>\n",
       "</table>\n",
       "<p>0 rows × 56 columns</p>\n",
       "</div>"
      ],
      "text/plain": [
       "Empty DataFrame\n",
       "Columns: [Id, Elevation, Aspect, Slope, Horizontal_Distance_To_Hydrology, Vertical_Distance_To_Hydrology, Horizontal_Distance_To_Roadways, Hillshade_9am, Hillshade_Noon, Hillshade_3pm, Horizontal_Distance_To_Fire_Points, Wilderness_Area1, Wilderness_Area2, Wilderness_Area3, Wilderness_Area4, Soil_Type1, Soil_Type2, Soil_Type3, Soil_Type4, Soil_Type5, Soil_Type6, Soil_Type7, Soil_Type8, Soil_Type9, Soil_Type10, Soil_Type11, Soil_Type12, Soil_Type13, Soil_Type14, Soil_Type15, Soil_Type16, Soil_Type17, Soil_Type18, Soil_Type19, Soil_Type20, Soil_Type21, Soil_Type22, Soil_Type23, Soil_Type24, Soil_Type25, Soil_Type26, Soil_Type27, Soil_Type28, Soil_Type29, Soil_Type30, Soil_Type31, Soil_Type32, Soil_Type33, Soil_Type34, Soil_Type35, Soil_Type36, Soil_Type37, Soil_Type38, Soil_Type39, Soil_Type40, Cover_Type]\n",
       "Index: []\n",
       "\n",
       "[0 rows x 56 columns]"
      ]
     },
     "execution_count": 42,
     "metadata": {},
     "output_type": "execute_result"
    }
   ],
   "source": [
    "train[train.duplicated() == True]"
   ]
  },
  {
   "cell_type": "markdown",
   "metadata": {},
   "source": [
    "- 0 duplicates"
   ]
  },
  {
   "cell_type": "code",
   "execution_count": 2,
   "metadata": {},
   "outputs": [],
   "source": [
    "cont_columns = [ 'Elevation', 'Aspect', 'Slope',\n",
    "       'Horizontal_Distance_To_Hydrology', 'Vertical_Distance_To_Hydrology',\n",
    "       'Horizontal_Distance_To_Roadways', 'Hillshade_9am', 'Hillshade_Noon',\n",
    "       'Hillshade_3pm', 'Horizontal_Distance_To_Fire_Points']"
   ]
  },
  {
   "cell_type": "code",
   "execution_count": 3,
   "metadata": {},
   "outputs": [],
   "source": [
    "# outliers\n",
    "\n",
    "# outliers\n",
    "\n",
    "def number_of_outliers(df):\n",
    "    \n",
    "    df = df[[ 'Elevation', 'Aspect', 'Slope',\n",
    "       'Horizontal_Distance_To_Hydrology', 'Vertical_Distance_To_Hydrology',\n",
    "       'Horizontal_Distance_To_Roadways', 'Hillshade_9am', 'Hillshade_Noon',\n",
    "       'Hillshade_3pm', 'Horizontal_Distance_To_Fire_Points']]\n",
    "    \n",
    "    Q1 = df.quantile(0.25)\n",
    "    Q3 = df.quantile(0.75)\n",
    "    IQR = Q3 - Q1\n",
    "    \n",
    "    return ((df < (Q1 - 1.5 * IQR)) | (df > (Q3 + 1.5 * IQR))).sum()"
   ]
  },
  {
   "cell_type": "code",
   "execution_count": 7,
   "metadata": {},
   "outputs": [
    {
     "data": {
      "text/plain": [
       "Elevation                               0\n",
       "Aspect                                  0\n",
       "Slope                                  57\n",
       "Hillshade_3pm                         124\n",
       "Hillshade_Noon                        393\n",
       "Hillshade_9am                         408\n",
       "Horizontal_Distance_To_Hydrology      512\n",
       "Vertical_Distance_To_Hydrology        586\n",
       "Horizontal_Distance_To_Fire_Points    645\n",
       "Horizontal_Distance_To_Roadways       830\n",
       "dtype: int64"
      ]
     },
     "execution_count": 7,
     "metadata": {},
     "output_type": "execute_result"
    }
   ],
   "source": [
    "number_of_outliers(train).sort_values().tail(20)"
   ]
  },
  {
   "cell_type": "code",
   "execution_count": 48,
   "metadata": {},
   "outputs": [
    {
     "data": {
      "text/plain": [
       "<AxesSubplot:>"
      ]
     },
     "execution_count": 48,
     "metadata": {},
     "output_type": "execute_result"
    },
    {
     "data": {
      "image/png": "[encoded data removed]",
      "text/plain": [
       "<Figure size 864x576 with 1 Axes>"
      ]
     },
     "metadata": {},
     "output_type": "display_data"
    }
   ],
   "source": [
    "# plot for the outliers in non binary columns\n",
    "plt.figure(figsize=(12,8))\n",
    "sns.boxplot(data=train[['Horizontal_Distance_To_Roadways', 'Horizontal_Distance_To_Fire_Points']])"
   ]
  },
  {
   "cell_type": "markdown",
   "metadata": {},
   "source": [
    "## - the target:\n"
   ]
  },
  {
   "cell_type": "code",
   "execution_count": 5,
   "metadata": {},
   "outputs": [
    {
     "data": {
      "text/plain": [
       "5    2160\n",
       "2    2160\n",
       "1    2160\n",
       "7    2160\n",
       "3    2160\n",
       "6    2160\n",
       "4    2160\n",
       "Name: Cover_Type, dtype: int64"
      ]
     },
     "execution_count": 5,
     "metadata": {},
     "output_type": "execute_result"
    }
   ],
   "source": [
    "# ver muestras por cat del target: bastante balanceada-> ok accuracy \n",
    "# #(no bal a partir de 19/90)\n",
    "train['Cover_Type'].value_counts()"
   ]
  },
  {
   "cell_type": "code",
   "execution_count": 6,
   "metadata": {},
   "outputs": [
    {
     "data": {
      "text/plain": [
       "<AxesSubplot:>"
      ]
     },
     "execution_count": 6,
     "metadata": {},
     "output_type": "execute_result"
    },
    {
     "data": {
      "image/png": "[encoded data removed]",
      "text/plain": [
       "<Figure size 864x576 with 1 Axes>"
      ]
     },
     "metadata": {},
     "output_type": "display_data"
    }
   ],
   "source": [
    "plt.figure(figsize=(12,8))\n",
    "sns.boxplot(data=train[['Cover_Type']])"
   ]
  },
  {
   "cell_type": "markdown",
   "metadata": {},
   "source": [
    "OK: it's balanced"
   ]
  },
  {
   "cell_type": "code",
   "execution_count": null,
   "metadata": {},
   "outputs": [],
   "source": []
  },
  {
   "cell_type": "markdown",
   "metadata": {},
   "source": [
    "## data categories"
   ]
  },
  {
   "cell_type": "code",
   "execution_count": 8,
   "metadata": {},
   "outputs": [],
   "source": [
    "cont_columns = [ 'Elevation', 'Aspect', 'Slope',\n",
    "       'Horizontal_Distance_To_Hydrology', 'Vertical_Distance_To_Hydrology',\n",
    "       'Horizontal_Distance_To_Roadways', 'Hillshade_9am', 'Hillshade_Noon',\n",
    "       'Hillshade_3pm', 'Horizontal_Distance_To_Fire_Points']\n",
    "    \n",
    "cat_columns = [ 'Wilderness_Area1', 'Wilderness_Area2', 'Wilderness_Area3',\n",
    "       'Wilderness_Area4', 'Soil_Type1', 'Soil_Type2', 'Soil_Type3',\n",
    "       'Soil_Type4', 'Soil_Type5', 'Soil_Type6', 'Soil_Type7', 'Soil_Type8',\n",
    "       'Soil_Type9', 'Soil_Type10', 'Soil_Type11', 'Soil_Type12',\n",
    "       'Soil_Type13', 'Soil_Type14', 'Soil_Type15', 'Soil_Type16',\n",
    "       'Soil_Type17', 'Soil_Type18', 'Soil_Type19', 'Soil_Type20',\n",
    "       'Soil_Type21', 'Soil_Type22', 'Soil_Type23', 'Soil_Type24',\n",
    "       'Soil_Type25', 'Soil_Type26', 'Soil_Type27', 'Soil_Type28',\n",
    "       'Soil_Type29', 'Soil_Type30', 'Soil_Type31', 'Soil_Type32',\n",
    "       'Soil_Type33', 'Soil_Type34', 'Soil_Type35', 'Soil_Type36',\n",
    "       'Soil_Type37', 'Soil_Type38', 'Soil_Type39', 'Soil_Type40']\n",
    "\n",
    "target = 'Cover_Type'"
   ]
  },
  {
   "cell_type": "markdown",
   "metadata": {},
   "source": [
    " - distribution of the continuous colums"
   ]
  },
  {
   "cell_type": "code",
   "execution_count": 54,
   "metadata": {},
   "outputs": [
    {
     "data": {
      "image/png": "[encoded data removed]",
      "text/plain": [
       "<Figure size 1080x1080 with 12 Axes>"
      ]
     },
     "metadata": {},
     "output_type": "display_data"
    }
   ],
   "source": [
    "train[cont_columns].hist(figsize=(15,15));"
   ]
  },
  {
   "cell_type": "markdown",
   "metadata": {},
   "source": [
    "- only Hillshade_3pm is normally distributed"
   ]
  },
  {
   "cell_type": "markdown",
   "metadata": {},
   "source": [
    "\n",
    "- non-gaussian dist (apply MinMaxScaling)\n",
    "- gaussian dist (apply StandardScaler) : Hillshade_3pm"
   ]
  },
  {
   "cell_type": "code",
   "execution_count": null,
   "metadata": {},
   "outputs": [],
   "source": []
  },
  {
   "cell_type": "code",
   "execution_count": 11,
   "metadata": {},
   "outputs": [
    {
     "data": {
      "text/plain": [
       "Cover_Type                            1.000000\n",
       "Soil_Type38                           0.257810\n",
       "Soil_Type39                           0.240384\n",
       "Wilderness_Area1                      0.230117\n",
       "Soil_Type29                           0.218564\n",
       "Soil_Type40                           0.205851\n",
       "Soil_Type22                           0.195993\n",
       "Soil_Type23                           0.158762\n",
       "Soil_Type32                           0.132312\n",
       "Soil_Type12                           0.129985\n",
       "Soil_Type10                           0.128972\n",
       "Wilderness_Area3                      0.122146\n",
       "Soil_Type35                           0.114327\n",
       "Id                                    0.108363\n",
       "Horizontal_Distance_To_Roadways       0.105662\n",
       "Soil_Type24                           0.100797\n",
       "Hillshade_Noon                        0.098905\n",
       "Horizontal_Distance_To_Fire_Points    0.089389\n",
       "Slope                                 0.087722\n",
       "Soil_Type31                           0.079882\n",
       "Soil_Type33                           0.078955\n",
       "Wilderness_Area4                      0.075774\n",
       "Vertical_Distance_To_Hydrology        0.075647\n",
       "Soil_Type37                           0.071210\n",
       "Hillshade_3pm                         0.053399\n",
       "Soil_Type20                           0.053013\n",
       "Soil_Type17                           0.042453\n",
       "Soil_Type13                           0.040528\n",
       "Soil_Type19                           0.031824\n",
       "Soil_Type4                            0.027816\n",
       "Soil_Type5                            0.027692\n",
       "Soil_Type9                            0.027012\n",
       "Soil_Type36                           0.025726\n",
       "Soil_Type21                           0.024410\n",
       "Soil_Type27                           0.023109\n",
       "Soil_Type2                            0.022627\n",
       "Soil_Type14                           0.022019\n",
       "Soil_Type26                           0.017184\n",
       "Soil_Type3                            0.016393\n",
       "Elevation                             0.016090\n",
       "Soil_Type1                            0.015069\n",
       "Wilderness_Area2                      0.014994\n",
       "Soil_Type28                           0.012202\n",
       "Horizontal_Distance_To_Hydrology      0.010515\n",
       "Hillshade_9am                         0.010286\n",
       "Soil_Type11                           0.010228\n",
       "Soil_Type16                           0.008793\n",
       "Soil_Type25                           0.008133\n",
       "Soil_Type8                            0.008133\n",
       "Aspect                                0.008015\n",
       "Soil_Type6                            0.006521\n",
       "Soil_Type18                           0.006312\n",
       "Soil_Type34                           0.003470\n",
       "Soil_Type30                           0.001393\n",
       "Soil_Type7                                 NaN\n",
       "Soil_Type15                                NaN\n",
       "dtype: float64"
      ]
     },
     "execution_count": 11,
     "metadata": {},
     "output_type": "execute_result"
    }
   ],
   "source": [
    "abs(train.corrwith(train['Cover_Type'])).sort_values(ascending=False)"
   ]
  },
  {
   "cell_type": "code",
   "execution_count": 12,
   "metadata": {},
   "outputs": [
    {
     "data": {
      "text/plain": [
       "array([0], dtype=int64)"
      ]
     },
     "execution_count": 12,
     "metadata": {},
     "output_type": "execute_result"
    }
   ],
   "source": [
    "train['Soil_Type7'].unique()"
   ]
  },
  {
   "cell_type": "code",
   "execution_count": 13,
   "metadata": {},
   "outputs": [
    {
     "data": {
      "text/plain": [
       "array([0], dtype=int64)"
      ]
     },
     "execution_count": 13,
     "metadata": {},
     "output_type": "execute_result"
    }
   ],
   "source": [
    "train['Soil_Type15'].unique()"
   ]
  },
  {
   "cell_type": "code",
   "execution_count": null,
   "metadata": {},
   "outputs": [],
   "source": []
  },
  {
   "cell_type": "code",
   "execution_count": 14,
   "metadata": {},
   "outputs": [],
   "source": [
    "correlatio = train[['Cover_Type','Soil_Type38', 'Soil_Type39', 'Wilderness_Area1', 'Soil_Type29', 'Soil_Type40', 'Soil_Type22']]"
   ]
  },
  {
   "cell_type": "code",
   "execution_count": 15,
   "metadata": {},
   "outputs": [
    {
     "data": {
      "text/plain": [
       "<AxesSubplot:>"
      ]
     },
     "execution_count": 15,
     "metadata": {},
     "output_type": "execute_result"
    },
    {
     "data": {
      "image/png": "[encoded data removed]",
      "text/plain": [
       "<Figure size 432x288 with 2 Axes>"
      ]
     },
     "metadata": {},
     "output_type": "display_data"
    }
   ],
   "source": [
    "sns.heatmap(correlatio.corr(), annot=True)"
   ]
  },
  {
   "cell_type": "code",
   "execution_count": null,
   "metadata": {},
   "outputs": [],
   "source": []
  },
  {
   "cell_type": "code",
   "execution_count": null,
   "metadata": {},
   "outputs": [],
   "source": [
    "X = train[['Soil_Type38', 'Soil_Type39', 'Wilderness_Area1', 'Soil_Type40', 'Soil_Type22' ]]\n",
    "y = train['Cover_Type']"
   ]
  },
  {
   "cell_type": "code",
   "execution_count": null,
   "metadata": {},
   "outputs": [],
   "source": []
  },
  {
   "cell_type": "code",
   "execution_count": null,
   "metadata": {},
   "outputs": [],
   "source": []
  },
  {
   "cell_type": "code",
   "execution_count": 117,
   "metadata": {},
   "outputs": [],
   "source": [
    "from sklearn.preprocessing import MinMaxScaler\n",
    "\n",
    "scaler_mms = MinMaxScaler()\n",
    "\n",
    "test[['Slope','Elevation', 'Aspect', 'Horizontal_Distance_To_Hydrology', 'Vertical_Distance_To_Hydrology', 'Horizontal_Distance_To_Roadways', 'Hillshade_9am', 'Hillshade_Noon', 'Horizontal_Distance_To_Fire_Points']] = scaler_mms.fit_transform(test[['Elevation', 'Aspect', 'Horizontal_Distance_To_Hydrology', 'Vertical_Distance_To_Hydrology', 'Horizontal_Distance_To_Roadways', 'Hillshade_9am', 'Hillshade_Noon', 'Horizontal_Distance_To_Fire_Points']])\n",
    "train[['Slope','Elevation', 'Aspect', 'Horizontal_Distance_To_Hydrology', 'Vertical_Distance_To_Hydrology', 'Horizontal_Distance_To_Roadways', 'Hillshade_9am', 'Hillshade_Noon', 'Horizontal_Distance_To_Fire_Points']] = scaler_mms.fit_transform(train[['Elevation', 'Aspect', 'Horizontal_Distance_To_Hydrology', 'Vertical_Distance_To_Hydrology', 'Horizontal_Distance_To_Roadways', 'Hillshade_9am', 'Hillshade_Noon', 'Horizontal_Distance_To_Fire_Points']])"
   ]
  },
  {
   "cell_type": "code",
   "execution_count": 118,
   "metadata": {},
   "outputs": [],
   "source": [
    "from sklearn.preprocessing import StandardScaler\n",
    "scaler_ss = MinMaxScaler()\n",
    "\n",
    "test[['Hillshade_3pm']] = scaler_ss.fit_transform(test[['Slope', 'Hillshade_3pm']])\n",
    "train[['Hillshade_3pm']] = scaler_ss.fit_transform(train[['Slope', 'Hillshade_3pm']])"
   ]
  },
  {
   "cell_type": "code",
   "execution_count": 138,
   "metadata": {},
   "outputs": [
    {
     "data": {
      "text/plain": [
       "(15120, 56)"
      ]
     },
     "execution_count": 138,
     "metadata": {},
     "output_type": "execute_result"
    }
   ],
   "source": [
    "train.shape"
   ]
  },
  {
   "cell_type": "code",
   "execution_count": 139,
   "metadata": {},
   "outputs": [
    {
     "data": {
      "text/plain": [
       "(565892, 55)"
      ]
     },
     "execution_count": 139,
     "metadata": {},
     "output_type": "execute_result"
    }
   ],
   "source": [
    "test.shape"
   ]
  },
  {
   "cell_type": "code",
   "execution_count": 141,
   "metadata": {},
   "outputs": [],
   "source": [
    "train.to_csv('train_scaled.csv', index=False)"
   ]
  },
  {
   "cell_type": "code",
   "execution_count": 142,
   "metadata": {},
   "outputs": [],
   "source": [
    "test.to_csv('test_scaled.csv', index=False)"
   ]
  },
  {
   "cell_type": "code",
   "execution_count": null,
   "metadata": {},
   "outputs": [],
   "source": []
  },
  {
   "cell_type": "code",
   "execution_count": 119,
   "metadata": {},
   "outputs": [
    {
     "data": {
      "text/html": [
       "<div>\n",
       "<style scoped>\n",
       "    .dataframe tbody tr th:only-of-type {\n",
       "        vertical-align: middle;\n",
       "    }\n",
       "\n",
       "    .dataframe tbody tr th {\n",
       "        vertical-align: top;\n",
       "    }\n",
       "\n",
       "    .dataframe thead th {\n",
       "        text-align: right;\n",
       "    }\n",
       "</style>\n",
       "<table border=\"1\" class=\"dataframe\">\n",
       "  <thead>\n",
       "    <tr style=\"text-align: right;\">\n",
       "      <th></th>\n",
       "      <th>Id</th>\n",
       "      <th>Elevation</th>\n",
       "      <th>Aspect</th>\n",
       "      <th>Slope</th>\n",
       "      <th>Horizontal_Distance_To_Hydrology</th>\n",
       "      <th>Vertical_Distance_To_Hydrology</th>\n",
       "      <th>Horizontal_Distance_To_Roadways</th>\n",
       "      <th>Hillshade_9am</th>\n",
       "      <th>Hillshade_Noon</th>\n",
       "      <th>Hillshade_3pm</th>\n",
       "      <th>...</th>\n",
       "      <th>Soil_Type32</th>\n",
       "      <th>Soil_Type33</th>\n",
       "      <th>Soil_Type34</th>\n",
       "      <th>Soil_Type35</th>\n",
       "      <th>Soil_Type36</th>\n",
       "      <th>Soil_Type37</th>\n",
       "      <th>Soil_Type38</th>\n",
       "      <th>Soil_Type39</th>\n",
       "      <th>Soil_Type40</th>\n",
       "      <th>Cover_Type</th>\n",
       "    </tr>\n",
       "  </thead>\n",
       "  <tbody>\n",
       "    <tr>\n",
       "      <th>0</th>\n",
       "      <td>1</td>\n",
       "      <td>0.369084</td>\n",
       "      <td>0.141667</td>\n",
       "      <td>0.057692</td>\n",
       "      <td>0.192107</td>\n",
       "      <td>0.208571</td>\n",
       "      <td>0.074020</td>\n",
       "      <td>0.870079</td>\n",
       "      <td>0.858065</td>\n",
       "      <td>0.596774</td>\n",
       "      <td>...</td>\n",
       "      <td>0</td>\n",
       "      <td>0</td>\n",
       "      <td>0</td>\n",
       "      <td>0</td>\n",
       "      <td>0</td>\n",
       "      <td>0</td>\n",
       "      <td>0</td>\n",
       "      <td>0</td>\n",
       "      <td>0</td>\n",
       "      <td>5</td>\n",
       "    </tr>\n",
       "    <tr>\n",
       "      <th>1</th>\n",
       "      <td>2</td>\n",
       "      <td>0.366062</td>\n",
       "      <td>0.155556</td>\n",
       "      <td>0.038462</td>\n",
       "      <td>0.157856</td>\n",
       "      <td>0.200000</td>\n",
       "      <td>0.056604</td>\n",
       "      <td>0.866142</td>\n",
       "      <td>0.877419</td>\n",
       "      <td>0.608871</td>\n",
       "      <td>...</td>\n",
       "      <td>0</td>\n",
       "      <td>0</td>\n",
       "      <td>0</td>\n",
       "      <td>0</td>\n",
       "      <td>0</td>\n",
       "      <td>0</td>\n",
       "      <td>0</td>\n",
       "      <td>0</td>\n",
       "      <td>0</td>\n",
       "      <td>5</td>\n",
       "    </tr>\n",
       "    <tr>\n",
       "      <th>2</th>\n",
       "      <td>3</td>\n",
       "      <td>0.473817</td>\n",
       "      <td>0.386111</td>\n",
       "      <td>0.173077</td>\n",
       "      <td>0.199553</td>\n",
       "      <td>0.301429</td>\n",
       "      <td>0.461538</td>\n",
       "      <td>0.921260</td>\n",
       "      <td>0.896774</td>\n",
       "      <td>0.544355</td>\n",
       "      <td>...</td>\n",
       "      <td>0</td>\n",
       "      <td>0</td>\n",
       "      <td>0</td>\n",
       "      <td>0</td>\n",
       "      <td>0</td>\n",
       "      <td>0</td>\n",
       "      <td>0</td>\n",
       "      <td>0</td>\n",
       "      <td>0</td>\n",
       "      <td>2</td>\n",
       "    </tr>\n",
       "    <tr>\n",
       "      <th>3</th>\n",
       "      <td>4</td>\n",
       "      <td>0.464250</td>\n",
       "      <td>0.430556</td>\n",
       "      <td>0.346154</td>\n",
       "      <td>0.180194</td>\n",
       "      <td>0.377143</td>\n",
       "      <td>0.448476</td>\n",
       "      <td>0.937008</td>\n",
       "      <td>0.896774</td>\n",
       "      <td>0.491935</td>\n",
       "      <td>...</td>\n",
       "      <td>0</td>\n",
       "      <td>0</td>\n",
       "      <td>0</td>\n",
       "      <td>0</td>\n",
       "      <td>0</td>\n",
       "      <td>0</td>\n",
       "      <td>0</td>\n",
       "      <td>0</td>\n",
       "      <td>0</td>\n",
       "      <td>2</td>\n",
       "    </tr>\n",
       "    <tr>\n",
       "      <th>4</th>\n",
       "      <td>5</td>\n",
       "      <td>0.368580</td>\n",
       "      <td>0.125000</td>\n",
       "      <td>0.038462</td>\n",
       "      <td>0.113924</td>\n",
       "      <td>0.207143</td>\n",
       "      <td>0.056749</td>\n",
       "      <td>0.866142</td>\n",
       "      <td>0.870968</td>\n",
       "      <td>0.604839</td>\n",
       "      <td>...</td>\n",
       "      <td>0</td>\n",
       "      <td>0</td>\n",
       "      <td>0</td>\n",
       "      <td>0</td>\n",
       "      <td>0</td>\n",
       "      <td>0</td>\n",
       "      <td>0</td>\n",
       "      <td>0</td>\n",
       "      <td>0</td>\n",
       "      <td>5</td>\n",
       "    </tr>\n",
       "  </tbody>\n",
       "</table>\n",
       "<p>5 rows × 56 columns</p>\n",
       "</div>"
      ],
      "text/plain": [
       "   Id  Elevation    Aspect     Slope  Horizontal_Distance_To_Hydrology  \\\n",
       "0   1   0.369084  0.141667  0.057692                          0.192107   \n",
       "1   2   0.366062  0.155556  0.038462                          0.157856   \n",
       "2   3   0.473817  0.386111  0.173077                          0.199553   \n",
       "3   4   0.464250  0.430556  0.346154                          0.180194   \n",
       "4   5   0.368580  0.125000  0.038462                          0.113924   \n",
       "\n",
       "   Vertical_Distance_To_Hydrology  Horizontal_Distance_To_Roadways  \\\n",
       "0                        0.208571                         0.074020   \n",
       "1                        0.200000                         0.056604   \n",
       "2                        0.301429                         0.461538   \n",
       "3                        0.377143                         0.448476   \n",
       "4                        0.207143                         0.056749   \n",
       "\n",
       "   Hillshade_9am  Hillshade_Noon  Hillshade_3pm  ...  Soil_Type32  \\\n",
       "0       0.870079        0.858065       0.596774  ...            0   \n",
       "1       0.866142        0.877419       0.608871  ...            0   \n",
       "2       0.921260        0.896774       0.544355  ...            0   \n",
       "3       0.937008        0.896774       0.491935  ...            0   \n",
       "4       0.866142        0.870968       0.604839  ...            0   \n",
       "\n",
       "   Soil_Type33  Soil_Type34  Soil_Type35  Soil_Type36  Soil_Type37  \\\n",
       "0            0            0            0            0            0   \n",
       "1            0            0            0            0            0   \n",
       "2            0            0            0            0            0   \n",
       "3            0            0            0            0            0   \n",
       "4            0            0            0            0            0   \n",
       "\n",
       "   Soil_Type38  Soil_Type39  Soil_Type40  Cover_Type  \n",
       "0            0            0            0           5  \n",
       "1            0            0            0           5  \n",
       "2            0            0            0           2  \n",
       "3            0            0            0           2  \n",
       "4            0            0            0           5  \n",
       "\n",
       "[5 rows x 56 columns]"
      ]
     },
     "execution_count": 119,
     "metadata": {},
     "output_type": "execute_result"
    }
   ],
   "source": [
    "train.head()"
   ]
  },
  {
   "cell_type": "code",
   "execution_count": null,
   "metadata": {},
   "outputs": [],
   "source": []
  },
  {
   "cell_type": "code",
   "execution_count": 120,
   "metadata": {},
   "outputs": [
    {
     "data": {
      "text/html": [
       "<div>\n",
       "<style scoped>\n",
       "    .dataframe tbody tr th:only-of-type {\n",
       "        vertical-align: middle;\n",
       "    }\n",
       "\n",
       "    .dataframe tbody tr th {\n",
       "        vertical-align: top;\n",
       "    }\n",
       "\n",
       "    .dataframe thead th {\n",
       "        text-align: right;\n",
       "    }\n",
       "</style>\n",
       "<table border=\"1\" class=\"dataframe\">\n",
       "  <thead>\n",
       "    <tr style=\"text-align: right;\">\n",
       "      <th></th>\n",
       "      <th>Id</th>\n",
       "      <th>Elevation</th>\n",
       "      <th>Aspect</th>\n",
       "      <th>Slope</th>\n",
       "      <th>Horizontal_Distance_To_Hydrology</th>\n",
       "      <th>Vertical_Distance_To_Hydrology</th>\n",
       "      <th>Horizontal_Distance_To_Roadways</th>\n",
       "      <th>Hillshade_9am</th>\n",
       "      <th>Hillshade_Noon</th>\n",
       "      <th>Hillshade_3pm</th>\n",
       "      <th>Horizontal_Distance_To_Fire_Points</th>\n",
       "      <th>Wilderness_Area1</th>\n",
       "      <th>Wilderness_Area2</th>\n",
       "      <th>Wilderness_Area3</th>\n",
       "      <th>Wilderness_Area4</th>\n",
       "      <th>Soil_Type1</th>\n",
       "      <th>Soil_Type2</th>\n",
       "      <th>Soil_Type3</th>\n",
       "      <th>Soil_Type4</th>\n",
       "      <th>Soil_Type5</th>\n",
       "    </tr>\n",
       "  </thead>\n",
       "  <tbody>\n",
       "    <tr>\n",
       "      <th>count</th>\n",
       "      <td>15120.00</td>\n",
       "      <td>15120.00</td>\n",
       "      <td>15120.00</td>\n",
       "      <td>15120.00</td>\n",
       "      <td>15120.00</td>\n",
       "      <td>15120.00</td>\n",
       "      <td>15120.00</td>\n",
       "      <td>15120.00</td>\n",
       "      <td>15120.00</td>\n",
       "      <td>15120.00</td>\n",
       "      <td>15120.00</td>\n",
       "      <td>15120.00</td>\n",
       "      <td>15120.00</td>\n",
       "      <td>15120.00</td>\n",
       "      <td>15120.00</td>\n",
       "      <td>15120.00</td>\n",
       "      <td>15120.00</td>\n",
       "      <td>15120.00</td>\n",
       "      <td>15120.00</td>\n",
       "      <td>15120.00</td>\n",
       "    </tr>\n",
       "    <tr>\n",
       "      <th>mean</th>\n",
       "      <td>7560.50</td>\n",
       "      <td>0.45</td>\n",
       "      <td>0.44</td>\n",
       "      <td>0.32</td>\n",
       "      <td>0.17</td>\n",
       "      <td>0.28</td>\n",
       "      <td>0.25</td>\n",
       "      <td>0.84</td>\n",
       "      <td>0.77</td>\n",
       "      <td>0.54</td>\n",
       "      <td>0.22</td>\n",
       "      <td>0.24</td>\n",
       "      <td>0.03</td>\n",
       "      <td>0.42</td>\n",
       "      <td>0.31</td>\n",
       "      <td>0.02</td>\n",
       "      <td>0.04</td>\n",
       "      <td>0.06</td>\n",
       "      <td>0.06</td>\n",
       "      <td>0.01</td>\n",
       "    </tr>\n",
       "    <tr>\n",
       "      <th>std</th>\n",
       "      <td>4364.91</td>\n",
       "      <td>0.21</td>\n",
       "      <td>0.31</td>\n",
       "      <td>0.16</td>\n",
       "      <td>0.16</td>\n",
       "      <td>0.09</td>\n",
       "      <td>0.19</td>\n",
       "      <td>0.12</td>\n",
       "      <td>0.15</td>\n",
       "      <td>0.19</td>\n",
       "      <td>0.16</td>\n",
       "      <td>0.43</td>\n",
       "      <td>0.18</td>\n",
       "      <td>0.49</td>\n",
       "      <td>0.46</td>\n",
       "      <td>0.15</td>\n",
       "      <td>0.20</td>\n",
       "      <td>0.24</td>\n",
       "      <td>0.23</td>\n",
       "      <td>0.10</td>\n",
       "    </tr>\n",
       "    <tr>\n",
       "      <th>min</th>\n",
       "      <td>1.00</td>\n",
       "      <td>0.00</td>\n",
       "      <td>0.00</td>\n",
       "      <td>0.00</td>\n",
       "      <td>0.00</td>\n",
       "      <td>0.00</td>\n",
       "      <td>0.00</td>\n",
       "      <td>0.00</td>\n",
       "      <td>0.00</td>\n",
       "      <td>0.00</td>\n",
       "      <td>0.00</td>\n",
       "      <td>0.00</td>\n",
       "      <td>0.00</td>\n",
       "      <td>0.00</td>\n",
       "      <td>0.00</td>\n",
       "      <td>0.00</td>\n",
       "      <td>0.00</td>\n",
       "      <td>0.00</td>\n",
       "      <td>0.00</td>\n",
       "      <td>0.00</td>\n",
       "    </tr>\n",
       "    <tr>\n",
       "      <th>25%</th>\n",
       "      <td>3780.75</td>\n",
       "      <td>0.26</td>\n",
       "      <td>0.18</td>\n",
       "      <td>0.19</td>\n",
       "      <td>0.05</td>\n",
       "      <td>0.22</td>\n",
       "      <td>0.11</td>\n",
       "      <td>0.77</td>\n",
       "      <td>0.70</td>\n",
       "      <td>0.43</td>\n",
       "      <td>0.10</td>\n",
       "      <td>0.00</td>\n",
       "      <td>0.00</td>\n",
       "      <td>0.00</td>\n",
       "      <td>0.00</td>\n",
       "      <td>0.00</td>\n",
       "      <td>0.00</td>\n",
       "      <td>0.00</td>\n",
       "      <td>0.00</td>\n",
       "      <td>0.00</td>\n",
       "    </tr>\n",
       "    <tr>\n",
       "      <th>50%</th>\n",
       "      <td>7560.50</td>\n",
       "      <td>0.45</td>\n",
       "      <td>0.35</td>\n",
       "      <td>0.29</td>\n",
       "      <td>0.13</td>\n",
       "      <td>0.25</td>\n",
       "      <td>0.19</td>\n",
       "      <td>0.87</td>\n",
       "      <td>0.80</td>\n",
       "      <td>0.56</td>\n",
       "      <td>0.18</td>\n",
       "      <td>0.00</td>\n",
       "      <td>0.00</td>\n",
       "      <td>0.00</td>\n",
       "      <td>0.00</td>\n",
       "      <td>0.00</td>\n",
       "      <td>0.00</td>\n",
       "      <td>0.00</td>\n",
       "      <td>0.00</td>\n",
       "      <td>0.00</td>\n",
       "    </tr>\n",
       "    <tr>\n",
       "      <th>75%</th>\n",
       "      <td>11340.25</td>\n",
       "      <td>0.62</td>\n",
       "      <td>0.72</td>\n",
       "      <td>0.42</td>\n",
       "      <td>0.25</td>\n",
       "      <td>0.32</td>\n",
       "      <td>0.33</td>\n",
       "      <td>0.93</td>\n",
       "      <td>0.88</td>\n",
       "      <td>0.67</td>\n",
       "      <td>0.28</td>\n",
       "      <td>0.00</td>\n",
       "      <td>0.00</td>\n",
       "      <td>1.00</td>\n",
       "      <td>1.00</td>\n",
       "      <td>0.00</td>\n",
       "      <td>0.00</td>\n",
       "      <td>0.00</td>\n",
       "      <td>0.00</td>\n",
       "      <td>0.00</td>\n",
       "    </tr>\n",
       "    <tr>\n",
       "      <th>max</th>\n",
       "      <td>15120.00</td>\n",
       "      <td>1.00</td>\n",
       "      <td>1.00</td>\n",
       "      <td>1.00</td>\n",
       "      <td>1.00</td>\n",
       "      <td>1.00</td>\n",
       "      <td>1.00</td>\n",
       "      <td>1.00</td>\n",
       "      <td>1.00</td>\n",
       "      <td>1.00</td>\n",
       "      <td>1.00</td>\n",
       "      <td>1.00</td>\n",
       "      <td>1.00</td>\n",
       "      <td>1.00</td>\n",
       "      <td>1.00</td>\n",
       "      <td>1.00</td>\n",
       "      <td>1.00</td>\n",
       "      <td>1.00</td>\n",
       "      <td>1.00</td>\n",
       "      <td>1.00</td>\n",
       "    </tr>\n",
       "  </tbody>\n",
       "</table>\n",
       "</div>"
      ],
      "text/plain": [
       "             Id  Elevation    Aspect     Slope  \\\n",
       "count  15120.00   15120.00  15120.00  15120.00   \n",
       "mean    7560.50       0.45      0.44      0.32   \n",
       "std     4364.91       0.21      0.31      0.16   \n",
       "min        1.00       0.00      0.00      0.00   \n",
       "25%     3780.75       0.26      0.18      0.19   \n",
       "50%     7560.50       0.45      0.35      0.29   \n",
       "75%    11340.25       0.62      0.72      0.42   \n",
       "max    15120.00       1.00      1.00      1.00   \n",
       "\n",
       "       Horizontal_Distance_To_Hydrology  Vertical_Distance_To_Hydrology  \\\n",
       "count                          15120.00                        15120.00   \n",
       "mean                               0.17                            0.28   \n",
       "std                                0.16                            0.09   \n",
       "min                                0.00                            0.00   \n",
       "25%                                0.05                            0.22   \n",
       "50%                                0.13                            0.25   \n",
       "75%                                0.25                            0.32   \n",
       "max                                1.00                            1.00   \n",
       "\n",
       "       Horizontal_Distance_To_Roadways  Hillshade_9am  Hillshade_Noon  \\\n",
       "count                         15120.00       15120.00        15120.00   \n",
       "mean                              0.25           0.84            0.77   \n",
       "std                               0.19           0.12            0.15   \n",
       "min                               0.00           0.00            0.00   \n",
       "25%                               0.11           0.77            0.70   \n",
       "50%                               0.19           0.87            0.80   \n",
       "75%                               0.33           0.93            0.88   \n",
       "max                               1.00           1.00            1.00   \n",
       "\n",
       "       Hillshade_3pm  Horizontal_Distance_To_Fire_Points  Wilderness_Area1  \\\n",
       "count       15120.00                            15120.00          15120.00   \n",
       "mean            0.54                                0.22              0.24   \n",
       "std             0.19                                0.16              0.43   \n",
       "min             0.00                                0.00              0.00   \n",
       "25%             0.43                                0.10              0.00   \n",
       "50%             0.56                                0.18              0.00   \n",
       "75%             0.67                                0.28              0.00   \n",
       "max             1.00                                1.00              1.00   \n",
       "\n",
       "       Wilderness_Area2  Wilderness_Area3  Wilderness_Area4  Soil_Type1  \\\n",
       "count          15120.00          15120.00          15120.00    15120.00   \n",
       "mean               0.03              0.42              0.31        0.02   \n",
       "std                0.18              0.49              0.46        0.15   \n",
       "min                0.00              0.00              0.00        0.00   \n",
       "25%                0.00              0.00              0.00        0.00   \n",
       "50%                0.00              0.00              0.00        0.00   \n",
       "75%                0.00              1.00              1.00        0.00   \n",
       "max                1.00              1.00              1.00        1.00   \n",
       "\n",
       "       Soil_Type2  Soil_Type3  Soil_Type4  Soil_Type5  \n",
       "count    15120.00    15120.00    15120.00    15120.00  \n",
       "mean         0.04        0.06        0.06        0.01  \n",
       "std          0.20        0.24        0.23        0.10  \n",
       "min          0.00        0.00        0.00        0.00  \n",
       "25%          0.00        0.00        0.00        0.00  \n",
       "50%          0.00        0.00        0.00        0.00  \n",
       "75%          0.00        0.00        0.00        0.00  \n",
       "max          1.00        1.00        1.00        1.00  "
      ]
     },
     "execution_count": 120,
     "metadata": {},
     "output_type": "execute_result"
    }
   ],
   "source": [
    "train.iloc[:, :20].describe().round(2)"
   ]
  },
  {
   "cell_type": "code",
   "execution_count": null,
   "metadata": {},
   "outputs": [],
   "source": []
  },
  {
   "cell_type": "code",
   "execution_count": 126,
   "metadata": {},
   "outputs": [
    {
     "data": {
      "text/plain": [
       "Cover_Type          1.000000\n",
       "Soil_Type38         0.257810\n",
       "Soil_Type39         0.240384\n",
       "Wilderness_Area1    0.230117\n",
       "Soil_Type29         0.218564\n",
       "Soil_Type40         0.205851\n",
       "Soil_Type22         0.195993\n",
       "dtype: float64"
      ]
     },
     "execution_count": 126,
     "metadata": {},
     "output_type": "execute_result"
    }
   ],
   "source": [
    "abs(train.corrwith(train['Cover_Type'])).sort_values(ascending=False).head(7)"
   ]
  },
  {
   "cell_type": "code",
   "execution_count": 136,
   "metadata": {},
   "outputs": [],
   "source": [
    "correlatio = train[['Cover_Type','Soil_Type38', 'Soil_Type39', 'Wilderness_Area1', 'Soil_Type29', 'Soil_Type40', 'Soil_Type22']]"
   ]
  },
  {
   "cell_type": "code",
   "execution_count": 137,
   "metadata": {},
   "outputs": [
    {
     "data": {
      "text/plain": [
       "<AxesSubplot:>"
      ]
     },
     "execution_count": 137,
     "metadata": {},
     "output_type": "execute_result"
    },
    {
     "data": {
      "image/png": "[encoded data removed]",
      "text/plain": [
       "<Figure size 432x288 with 2 Axes>"
      ]
     },
     "metadata": {},
     "output_type": "display_data"
    }
   ],
   "source": [
    "sns.heatmap(correlatio.corr(), annot=True)"
   ]
  },
  {
   "cell_type": "code",
   "execution_count": null,
   "metadata": {},
   "outputs": [],
   "source": [
    "# Soil_Type38         0.257810\n",
    "# Soil_Type39         0.240384\n",
    "# Wilderness_Area1    0.230117"
   ]
  },
  {
   "cell_type": "code",
   "execution_count": null,
   "metadata": {},
   "outputs": [],
   "source": []
  },
  {
   "cell_type": "code",
   "execution_count": 132,
   "metadata": {},
   "outputs": [
    {
     "name": "stderr",
     "output_type": "stream",
     "text": [
      "c:\\Users\\IRENE\\AppData\\Local\\Programs\\Python\\Python37\\lib\\site-packages\\statsmodels\\stats\\outliers_influence.py:195: RuntimeWarning: divide by zero encountered in double_scalars\n",
      "  vif = 1. / (1. - r_squared_i)\n",
      "c:\\Users\\IRENE\\AppData\\Local\\Programs\\Python\\Python37\\lib\\site-packages\\statsmodels\\regression\\linear_model.py:1736: RuntimeWarning: invalid value encountered in double_scalars\n",
      "  return 1 - self.ssr/self.centered_tss\n"
     ]
    },
    {
     "name": "stdout",
     "output_type": "stream",
     "text": [
      "                               feature         VIF\n",
      "0                                   Id    1.395556\n",
      "1                            Elevation   12.210669\n",
      "2                               Aspect    1.958110\n",
      "3                                Slope    9.372777\n",
      "4     Horizontal_Distance_To_Hydrology    2.459628\n",
      "5       Vertical_Distance_To_Hydrology    2.247968\n",
      "6      Horizontal_Distance_To_Roadways    2.094913\n",
      "7                        Hillshade_9am  121.233223\n",
      "8                       Hillshade_Noon   46.393454\n",
      "9                        Hillshade_3pm  183.408121\n",
      "10  Horizontal_Distance_To_Fire_Points    1.739212\n",
      "11                    Wilderness_Area1         inf\n",
      "12                    Wilderness_Area2         inf\n",
      "13                    Wilderness_Area3         inf\n",
      "14                    Wilderness_Area4         inf\n",
      "15                          Soil_Type1         inf\n",
      "16                          Soil_Type2         inf\n",
      "17                          Soil_Type3         inf\n",
      "18                          Soil_Type4         inf\n",
      "19                          Soil_Type5         inf\n",
      "20                          Soil_Type6         inf\n",
      "21                          Soil_Type7         NaN\n",
      "22                          Soil_Type8         inf\n",
      "23                          Soil_Type9         inf\n",
      "24                         Soil_Type10         inf\n",
      "25                         Soil_Type11         inf\n",
      "26                         Soil_Type12         inf\n",
      "27                         Soil_Type13         inf\n",
      "28                         Soil_Type14         inf\n",
      "29                         Soil_Type15         NaN\n",
      "30                         Soil_Type16         inf\n",
      "31                         Soil_Type17         inf\n",
      "32                         Soil_Type18         inf\n",
      "33                         Soil_Type19         inf\n",
      "34                         Soil_Type20         inf\n",
      "35                         Soil_Type21         inf\n",
      "36                         Soil_Type22         inf\n",
      "37                         Soil_Type23         inf\n",
      "38                         Soil_Type24         inf\n",
      "39                         Soil_Type25         inf\n",
      "40                         Soil_Type26         inf\n",
      "41                         Soil_Type27         inf\n",
      "42                         Soil_Type28         inf\n",
      "43                         Soil_Type29         inf\n",
      "44                         Soil_Type30         inf\n",
      "45                         Soil_Type31         inf\n",
      "46                         Soil_Type32         inf\n",
      "47                         Soil_Type33         inf\n",
      "48                         Soil_Type34         inf\n",
      "49                         Soil_Type35         inf\n",
      "50                         Soil_Type36         inf\n",
      "51                         Soil_Type37         inf\n",
      "52                         Soil_Type38         inf\n",
      "53                         Soil_Type39         inf\n",
      "54                         Soil_Type40         inf\n"
     ]
    }
   ],
   "source": [
    "from statsmodels.stats.outliers_influence import variance_inflation_factor\n",
    "\n",
    "\n",
    "X, y = train.drop(\"Cover_Type\", axis=1), train[\"Cover_Type\"]\n",
    "\n",
    "# VIF dataframe\n",
    "vif_data = pd.DataFrame()\n",
    "vif_data[\"feature\"] = X.columns\n",
    "  \n",
    "# calculating VIF for each feature\n",
    "vif_data[\"VIF\"] = [variance_inflation_factor(X.values, i)\n",
    "                          for i in range(len(X.columns))]\n",
    "  \n",
    "print(vif_data)"
   ]
  },
  {
   "cell_type": "code",
   "execution_count": null,
   "metadata": {},
   "outputs": [],
   "source": []
  },
  {
   "cell_type": "markdown",
   "metadata": {},
   "source": [
    "- create new features from those"
   ]
  },
  {
   "cell_type": "code",
   "execution_count": 54,
   "metadata": {},
   "outputs": [],
   "source": [
    "# none works, NO RELATED with feat with corr\n",
    "# # add new features from feature engineering\n",
    "# train['Elev_to_Horizontal_Hyd'] = train.Elevation - 0.2 * train.Horizontal_Distance_To_Hydrology \n",
    "# train['Elev_to_Horizontal_Road'] = train.Elevation - 0.05 * train.Horizontal_Distance_To_Roadways  \n",
    "# train['Elev_to_Verticle_Hyd'] = train.Elevation - train.Vertical_Distance_To_Hydrology \n",
    "# train['Mean_Horizontal_Dist'] = (train.Horizontal_Distance_To_Fire_Points + train.Horizontal_Distance_To_Hydrology + \n",
    "#                                  train.Horizontal_Distance_To_Roadways)/3 \n",
    "# train['Mean_Fire_Hydro'] = (train.Horizontal_Distance_To_Fire_Points + train.Horizontal_Distance_To_Hydrology)/2"
   ]
  },
  {
   "cell_type": "code",
   "execution_count": null,
   "metadata": {},
   "outputs": [],
   "source": []
  },
  {
   "cell_type": "code",
   "execution_count": 125,
   "metadata": {},
   "outputs": [
    {
     "data": {
      "text/plain": [
       "array([[1.00000000e+00, 3.69083585e-01, 1.41666667e-01, ...,\n",
       "        0.00000000e+00, 0.00000000e+00, 0.00000000e+00],\n",
       "       [2.00000000e+00, 3.66062437e-01, 1.55555556e-01, ...,\n",
       "        0.00000000e+00, 0.00000000e+00, 0.00000000e+00],\n",
       "       [3.00000000e+00, 4.73816717e-01, 3.86111111e-01, ...,\n",
       "        0.00000000e+00, 0.00000000e+00, 0.00000000e+00],\n",
       "       ...,\n",
       "       [1.51180000e+04, 3.16717019e-01, 3.72222222e-01, ...,\n",
       "        0.00000000e+00, 0.00000000e+00, 0.00000000e+00],\n",
       "       [1.51190000e+04, 3.14199396e-01, 4.63888889e-01, ...,\n",
       "        0.00000000e+00, 0.00000000e+00, 0.00000000e+00],\n",
       "       [1.51200000e+04, 3.08157100e-01, 5.47222222e-01, ...,\n",
       "        0.00000000e+00, 0.00000000e+00, 0.00000000e+00]])"
      ]
     },
     "execution_count": 125,
     "metadata": {},
     "output_type": "execute_result"
    }
   ],
   "source": [
    "X, y = train.drop(\"Cover_Type\", axis=1), train[\"Cover_Type\"]\n",
    "X.values"
   ]
  },
  {
   "cell_type": "code",
   "execution_count": 122,
   "metadata": {},
   "outputs": [
    {
     "name": "stderr",
     "output_type": "stream",
     "text": [
      "c:\\Users\\IRENE\\AppData\\Local\\Programs\\Python\\Python37\\lib\\site-packages\\statsmodels\\stats\\outliers_influence.py:195: RuntimeWarning: divide by zero encountered in double_scalars\n",
      "  vif = 1. / (1. - r_squared_i)\n",
      "c:\\Users\\IRENE\\AppData\\Local\\Programs\\Python\\Python37\\lib\\site-packages\\statsmodels\\regression\\linear_model.py:1736: RuntimeWarning: invalid value encountered in double_scalars\n",
      "  return 1 - self.ssr/self.centered_tss\n"
     ]
    },
    {
     "data": {
      "text/html": [
       "<div>\n",
       "<style scoped>\n",
       "    .dataframe tbody tr th:only-of-type {\n",
       "        vertical-align: middle;\n",
       "    }\n",
       "\n",
       "    .dataframe tbody tr th {\n",
       "        vertical-align: top;\n",
       "    }\n",
       "\n",
       "    .dataframe thead th {\n",
       "        text-align: right;\n",
       "    }\n",
       "</style>\n",
       "<table border=\"1\" class=\"dataframe\">\n",
       "  <thead>\n",
       "    <tr style=\"text-align: right;\">\n",
       "      <th></th>\n",
       "      <th>feature</th>\n",
       "      <th>VIF</th>\n",
       "      <th>corr_target</th>\n",
       "    </tr>\n",
       "  </thead>\n",
       "  <tbody>\n",
       "  </tbody>\n",
       "</table>\n",
       "</div>"
      ],
      "text/plain": [
       "Empty DataFrame\n",
       "Columns: [feature, VIF, corr_target]\n",
       "Index: []"
      ]
     },
     "execution_count": 122,
     "metadata": {},
     "output_type": "execute_result"
    }
   ],
   "source": [
    "from statsmodels.stats.outliers_influence import variance_inflation_factor\n",
    "# the independent variables set\n",
    "X, y = train.drop(\"Cover_Type\", axis=1), train[\"Cover_Type\"]\n",
    "\n",
    "# VIF dataframe\n",
    "vif_data = pd.DataFrame()\n",
    "vif_data[\"feature\"] = X.columns\n",
    "  \n",
    "# calculating VIF for each feature\n",
    "vif_data[\"VIF\"] = [variance_inflation_factor(X.values, i)\n",
    "                          for i in range(len(X.columns))]\n",
    "  \n",
    "cor = pd.DataFrame(data=train.copy().corrwith(train['Cover_Type']))\n",
    "cor['feature'] = cor.index\n",
    "cor.rename(columns = {0:'corr_target'}, inplace = True)\n",
    "\n",
    "feat_cor = pd.merge(vif_data, cor, on=\"feature\")\n",
    "# feat_cor.head()\n",
    "best_feat = feat_cor[(feat_cor['VIF'] < 7) & (feat_cor['corr_target'] > 0.2)]\n",
    "best_feat"
   ]
  },
  {
   "cell_type": "code",
   "execution_count": null,
   "metadata": {},
   "outputs": [],
   "source": []
  },
  {
   "cell_type": "code",
   "execution_count": null,
   "metadata": {},
   "outputs": [],
   "source": []
  },
  {
   "cell_type": "code",
   "execution_count": null,
   "metadata": {},
   "outputs": [],
   "source": []
  },
  {
   "cell_type": "code",
   "execution_count": null,
   "metadata": {},
   "outputs": [],
   "source": []
  },
  {
   "cell_type": "code",
   "execution_count": null,
   "metadata": {},
   "outputs": [],
   "source": []
  },
  {
   "cell_type": "code",
   "execution_count": null,
   "metadata": {},
   "outputs": [],
   "source": []
  },
  {
   "cell_type": "code",
   "execution_count": null,
   "metadata": {},
   "outputs": [],
   "source": []
  },
  {
   "cell_type": "code",
   "execution_count": null,
   "metadata": {},
   "outputs": [],
   "source": [
    "# from https://scikit-learn.org/stable/auto_examples/preprocessing/plot_scaling_importance.html"
   ]
  },
  {
   "cell_type": "code",
   "execution_count": 23,
   "metadata": {},
   "outputs": [],
   "source": [
    "from sklearn.model_selection import train_test_split\n",
    "from sklearn.preprocessing import StandardScaler\n",
    "from sklearn.decomposition import PCA\n",
    "from sklearn.naive_bayes import GaussianNB\n",
    "from sklearn.metrics import accuracy_score\n",
    "from sklearn.datasets import load_wine\n",
    "from sklearn.pipeline import make_pipeline"
   ]
  },
  {
   "cell_type": "code",
   "execution_count": 25,
   "metadata": {},
   "outputs": [
    {
     "name": "stdout",
     "output_type": "stream",
     "text": [
      "\n",
      "Prediction accuracy for the normal test dataset with PCA\n",
      "31.66%\n",
      "\n",
      "\n",
      "Prediction accuracy for the standardized test dataset with PCA\n",
      "46.27%\n",
      "\n",
      "\n",
      "PC 1 without scaling:\n",
      "[-9.99630997e-01 -1.76156988e-02 -6.57256362e-04  2.54357578e-05\n",
      " -4.62791415e-03 -7.71635796e-04  9.86196444e-03 -1.07439553e-05\n",
      " -3.71074028e-04 -4.18582655e-04  1.75366838e-02  3.29513853e-05\n",
      " -6.27466346e-06 -4.34509238e-05  1.67742019e-05  2.43530712e-06\n",
      " -1.65958827e-06  2.32276158e-06 -6.17773188e-06  1.12164852e-06\n",
      "  2.10850910e-06  0.00000000e+00  3.57014278e-08  6.78391003e-09\n",
      " -2.53000910e-06 -2.03574030e-06  3.45410523e-06 -5.18618028e-07\n",
      "  2.45301654e-07  0.00000000e+00  1.03249945e-08 -8.82981077e-08\n",
      "  1.13702099e-06  3.96824319e-07  1.28161801e-06 -1.42230886e-07\n",
      " -1.37857067e-06  8.77162292e-07 -1.11431110e-06 -1.48888057e-08\n",
      " -4.84864520e-07 -1.53583577e-07  6.46649323e-08  1.49651038e-05\n",
      "  7.42475681e-06 -7.96323108e-07 -3.25965431e-06 -3.29798406e-06\n",
      " -2.13882402e-07 -1.09235065e-06 -3.83634541e-08 -1.89910664e-07\n",
      " -3.78768471e-06 -4.19140550e-06 -4.72160062e-06]\n",
      "\n",
      "PC 1 with scaling:\n",
      "[-6.13218829e-02 -4.35802942e-01 -3.21145601e-02  2.58403749e-01\n",
      " -1.86093366e-01 -9.99672414e-03 -3.32348084e-01 -3.16393809e-02\n",
      " -2.16303986e-01 -1.30942950e-01 -2.89572103e-01 -1.98985592e-01\n",
      " -7.47789786e-02 -1.83497180e-01  4.08510616e-01  1.15770752e-01\n",
      "  3.66795035e-02  1.82618286e-01  2.45007189e-02  7.81398762e-02\n",
      "  1.00140828e-01 -0.00000000e+00 -8.68762199e-03 -5.52066018e-05\n",
      "  2.01059876e-01 -8.37939074e-03 -5.46724640e-02 -1.41534181e-02\n",
      "  6.02873044e-02 -0.00000000e+00  1.69261020e-02  5.72010832e-02\n",
      " -2.40425456e-02 -2.30232508e-02 -2.89479575e-02 -1.17380741e-02\n",
      " -6.77878406e-02 -9.57121019e-02 -3.52635979e-02 -1.77901471e-03\n",
      " -2.45741284e-02 -1.74240890e-02 -2.32431385e-03 -1.22023983e-01\n",
      " -3.78762404e-03 -4.54087545e-02 -8.53355250e-02 -5.03915151e-02\n",
      " -1.78091389e-02 -4.03625769e-02 -1.68149205e-02 -2.30396221e-02\n",
      " -1.31311860e-01 -8.03066401e-02 -1.08516156e-01]\n"
     ]
    },
    {
     "data": {
      "image/png": "[encoded data removed]",
      "text/plain": [
       "<Figure size 720x504 with 2 Axes>"
      ]
     },
     "metadata": {},
     "output_type": "display_data"
    }
   ],
   "source": [
    "X, y = train.drop(\"Cover_Type\", axis=1), train[\"Cover_Type\"]\n",
    "\n",
    "RANDOM_STATE = 4\n",
    "FIG_SIZE = (10, 7)\n",
    "\n",
    "# Make a train/test split using 30% test size\n",
    "X_train, X_test, y_train, y_test = train_test_split(\n",
    "    X, y, test_size=0.30, random_state=RANDOM_STATE\n",
    ")\n",
    "\n",
    "# Fit to data and predict using pipelined GNB and PCA\n",
    "unscaled_clf = make_pipeline(PCA(n_components=2), GaussianNB())\n",
    "unscaled_clf.fit(X_train, y_train)\n",
    "pred_test = unscaled_clf.predict(X_test)\n",
    "\n",
    "# Fit to data and predict using pipelined scaling, GNB and PCA\n",
    "std_clf = make_pipeline(StandardScaler(), PCA(n_components=2), GaussianNB())\n",
    "std_clf.fit(X_train, y_train)\n",
    "pred_test_std = std_clf.predict(X_test)\n",
    "\n",
    "# Show prediction accuracies in scaled and unscaled data.\n",
    "print(\"\\nPrediction accuracy for the normal test dataset with PCA\")\n",
    "print(f\"{accuracy_score(y_test, pred_test):.2%}\\n\")\n",
    "\n",
    "print(\"\\nPrediction accuracy for the standardized test dataset with PCA\")\n",
    "print(f\"{accuracy_score(y_test, pred_test_std):.2%}\\n\")\n",
    "\n",
    "# Extract PCA from pipeline\n",
    "pca = unscaled_clf.named_steps[\"pca\"]\n",
    "pca_std = std_clf.named_steps[\"pca\"]\n",
    "\n",
    "# Show first principal components\n",
    "print(f\"\\nPC 1 without scaling:\\n{pca.components_[0]}\")\n",
    "print(f\"\\nPC 1 with scaling:\\n{pca_std.components_[0]}\")\n",
    "\n",
    "# Use PCA without and with scale on X_train data for visualization.\n",
    "X_train_transformed = pca.transform(X_train)\n",
    "\n",
    "scaler = std_clf.named_steps[\"standardscaler\"]\n",
    "scaled_X_train = scaler.transform(X_train)\n",
    "X_train_std_transformed = pca_std.transform(scaled_X_train)\n",
    "\n",
    "# visualize standardized vs. untouched dataset with PCA performed\n",
    "fig, (ax1, ax2) = plt.subplots(ncols=2, figsize=FIG_SIZE)\n",
    "\n",
    "target_classes = range(0, 3)\n",
    "colors = (\"blue\", \"red\", \"green\")\n",
    "markers = (\"^\", \"s\", \"o\")\n",
    "\n",
    "for target_class, color, marker in zip(target_classes, colors, markers):\n",
    "    ax1.scatter(\n",
    "        x=X_train_transformed[y_train == target_class, 0],\n",
    "        y=X_train_transformed[y_train == target_class, 1],\n",
    "        color=color,\n",
    "        label=f\"class {target_class}\",\n",
    "        alpha=0.5,\n",
    "        marker=marker,\n",
    "    )\n",
    "\n",
    "    ax2.scatter(\n",
    "        x=X_train_std_transformed[y_train == target_class, 0],\n",
    "        y=X_train_std_transformed[y_train == target_class, 1],\n",
    "        color=color,\n",
    "        label=f\"class {target_class}\",\n",
    "        alpha=0.5,\n",
    "        marker=marker,\n",
    "    )\n",
    "\n",
    "ax1.set_title(\"Training dataset after PCA\")\n",
    "ax2.set_title(\"Standardized training dataset after PCA\")\n",
    "\n",
    "for ax in (ax1, ax2):\n",
    "    ax.set_xlabel(\"1st principal component\")\n",
    "    ax.set_ylabel(\"2nd principal component\")\n",
    "    ax.legend(loc=\"upper right\")\n",
    "    ax.grid()\n",
    "\n",
    "plt.tight_layout()\n",
    "\n",
    "plt.show()"
   ]
  },
  {
   "cell_type": "code",
   "execution_count": null,
   "metadata": {},
   "outputs": [],
   "source": []
  },
  {
   "cell_type": "code",
   "execution_count": 4,
   "metadata": {},
   "outputs": [],
   "source": [
    "from sklearn.model_selection import train_test_split\n",
    "X=train.drop(['Id','Cover_Type'],axis=1)\n",
    "Y=train['Cover_Type']\n",
    "Xtrain,Xtest,ytrain,ytest=train_test_split(X,Y)"
   ]
  },
  {
   "cell_type": "code",
   "execution_count": 5,
   "metadata": {},
   "outputs": [
    {
     "data": {
      "text/plain": [
       "KNeighborsClassifier(n_neighbors=2)"
      ]
     },
     "execution_count": 5,
     "metadata": {},
     "output_type": "execute_result"
    }
   ],
   "source": [
    "from sklearn.neighbors import KNeighborsClassifier\n",
    "knn=KNeighborsClassifier(n_neighbors=2)\n",
    "knn.fit(Xtrain,ytrain)"
   ]
  },
  {
   "cell_type": "code",
   "execution_count": 6,
   "metadata": {},
   "outputs": [
    {
     "data": {
      "text/plain": [
       "0.81005291005291"
      ]
     },
     "execution_count": 6,
     "metadata": {},
     "output_type": "execute_result"
    }
   ],
   "source": [
    "knn.score(Xtest,ytest)"
   ]
  },
  {
   "cell_type": "code",
   "execution_count": null,
   "metadata": {},
   "outputs": [],
   "source": []
  },
  {
   "cell_type": "code",
   "execution_count": null,
   "metadata": {},
   "outputs": [],
   "source": []
  },
  {
   "cell_type": "code",
   "execution_count": 7,
   "metadata": {},
   "outputs": [
    {
     "name": "stdout",
     "output_type": "stream",
     "text": [
      "Index(['Elevation', 'Aspect', 'Slope', 'Horizontal_Distance_To_Hydrology',\n",
      "       'Vertical_Distance_To_Hydrology', 'Horizontal_Distance_To_Roadways',\n",
      "       'Hillshade_9am', 'Hillshade_Noon', 'Hillshade_3pm',\n",
      "       'Horizontal_Distance_To_Fire_Points', 'Wilderness_Area1',\n",
      "       'Wilderness_Area2', 'Wilderness_Area3', 'Wilderness_Area4',\n",
      "       'Soil_Type1'],\n",
      "      dtype='object')\n"
     ]
    }
   ],
   "source": [
    "non_categorical=train.drop(['Id','Cover_Type'],axis=1).columns[:15]\n",
    "print(non_categorical)"
   ]
  },
  {
   "cell_type": "markdown",
   "metadata": {},
   "source": [
    "## knn escalado"
   ]
  },
  {
   "cell_type": "code",
   "execution_count": 8,
   "metadata": {},
   "outputs": [],
   "source": [
    "from sklearn.preprocessing import StandardScaler\n",
    "scaler = StandardScaler()\n",
    "for col in non_categorical:\n",
    "    train[col]=scaler.fit_transform(train[col].to_frame())\n",
    "    test[col]=scaler.transform(test[col].to_frame())"
   ]
  },
  {
   "cell_type": "code",
   "execution_count": 9,
   "metadata": {},
   "outputs": [],
   "source": [
    "from sklearn.model_selection import train_test_split\n",
    "X=train.drop(['Id','Cover_Type'],axis=1)\n",
    "y=train['Cover_Type']"
   ]
  },
  {
   "cell_type": "code",
   "execution_count": 10,
   "metadata": {},
   "outputs": [],
   "source": [
    "X_train,X_test,y_train,y_test=train_test_split(X,y,random_state=42)"
   ]
  },
  {
   "cell_type": "code",
   "execution_count": 17,
   "metadata": {},
   "outputs": [
    {
     "data": {
      "text/plain": [
       "KNeighborsClassifier(n_neighbors=2)"
      ]
     },
     "execution_count": 17,
     "metadata": {},
     "output_type": "execute_result"
    }
   ],
   "source": [
    "from sklearn.neighbors import KNeighborsClassifier\n",
    "KNN=KNeighborsClassifier(n_neighbors=2)\n",
    "KNN.fit(X_train,y_train)"
   ]
  },
  {
   "cell_type": "code",
   "execution_count": 18,
   "metadata": {},
   "outputs": [
    {
     "data": {
      "text/plain": [
       "0.7753968253968254"
      ]
     },
     "execution_count": 18,
     "metadata": {},
     "output_type": "execute_result"
    }
   ],
   "source": [
    "KNN.score(X_test,y_test)"
   ]
  },
  {
   "cell_type": "code",
   "execution_count": null,
   "metadata": {},
   "outputs": [],
   "source": []
  },
  {
   "cell_type": "code",
   "execution_count": 19,
   "metadata": {},
   "outputs": [
    {
     "name": "stdout",
     "output_type": "stream",
     "text": [
      "                Id     Elevation        Aspect         Slope  \\\n",
      "count  15120.00000  1.512000e+04  1.512000e+04  1.512000e+04   \n",
      "mean    7560.50000  3.609106e-16  1.203035e-16 -2.048920e-16   \n",
      "std     4364.91237  1.000033e+00  1.000033e+00  1.000033e+00   \n",
      "min        1.00000 -2.122093e+00 -1.423270e+00 -1.952008e+00   \n",
      "25%     3780.75000 -8.938338e-01 -8.328021e-01 -7.690867e-01   \n",
      "50%     7560.50000  6.410523e-03 -2.786705e-01 -1.776260e-01   \n",
      "75%    11340.25000  8.491925e-01  9.476862e-01  6.504190e-01   \n",
      "max    15120.00000  2.632921e+00  1.847014e+00  4.199183e+00   \n",
      "\n",
      "       Horizontal_Distance_To_Hydrology  Vertical_Distance_To_Hydrology  \\\n",
      "count                      1.512000e+04                    1.512000e+04   \n",
      "mean                       4.511382e-17                   -3.759485e-18   \n",
      "std                        1.000033e+00                    1.000033e+00   \n",
      "min                       -1.081532e+00                   -3.218239e+00   \n",
      "25%                       -7.625885e-01                   -7.524248e-01   \n",
      "50%                       -2.246683e-01                   -3.115176e-01   \n",
      "75%                        4.893850e-01                    4.559875e-01   \n",
      "max                        5.311625e+00                    8.212688e+00   \n",
      "\n",
      "       Horizontal_Distance_To_Roadways  Hillshade_9am  Hillshade_Noon  \\\n",
      "count                     1.512000e+04   1.512000e+04    1.512000e+04   \n",
      "mean                      8.270868e-17  -3.637302e-16    4.812141e-16   \n",
      "std                       1.000033e+00   1.000033e+00    1.000033e+00   \n",
      "min                      -1.293580e+00  -6.960156e+00   -5.261370e+00   \n",
      "25%                      -7.169865e-01  -5.466017e-01   -5.247795e-01   \n",
      "50%                      -3.003898e-01   2.387315e-01    1.769376e-01   \n",
      "75%                       4.195980e-01   7.295648e-01    7.032254e-01   \n",
      "max                       3.906331e+00   1.351287e+00    1.536514e+00   \n",
      "\n",
      "       Hillshade_3pm  Horizontal_Distance_To_Fire_Points  Wilderness_Area1  \\\n",
      "count   1.512000e+04                        1.512000e+04      1.512000e+04   \n",
      "mean    6.015177e-17                        9.022765e-17     -1.804553e-16   \n",
      "std     1.000033e+00                        1.000033e+00      1.000033e+00   \n",
      "min    -2.943587e+00                       -1.373895e+00     -5.587113e-01   \n",
      "25%    -6.339000e-01                       -7.101984e-01     -5.587113e-01   \n",
      "50%     6.336391e-02                       -2.319731e-01     -5.587113e-01   \n",
      "75%     6.952593e-01                        4.337691e-01     -5.587113e-01   \n",
      "max     2.460209e+00                        4.983955e+00      1.789833e+00   \n",
      "\n",
      "       Wilderness_Area2  Wilderness_Area3  Wilderness_Area4    Soil_Type1  \\\n",
      "count      1.512000e+04      1.512000e+04      15120.000000  1.512000e+04   \n",
      "mean      -6.015177e-17      6.015177e-17          0.000000  2.255691e-17   \n",
      "std        1.000033e+00      1.000033e+00          1.000033  1.000033e+00   \n",
      "min       -1.847403e-01     -8.508012e-01         -0.669016 -1.550592e-01   \n",
      "25%       -1.847403e-01     -8.508012e-01         -0.669016 -1.550592e-01   \n",
      "50%       -1.847403e-01     -8.508012e-01         -0.669016 -1.550592e-01   \n",
      "75%       -1.847403e-01      1.175363e+00          1.494732 -1.550592e-01   \n",
      "max        5.413003e+00      1.175363e+00          1.494732  6.449151e+00   \n",
      "\n",
      "         Soil_Type2    Soil_Type3    Soil_Type4    Soil_Type5    Soil_Type6  \\\n",
      "count  15120.000000  15120.000000  15120.000000  15120.000000  15120.000000   \n",
      "mean       0.041204      0.063624      0.055754      0.010913      0.042989   \n",
      "std        0.198768      0.244091      0.229454      0.103896      0.202840   \n",
      "min        0.000000      0.000000      0.000000      0.000000      0.000000   \n",
      "25%        0.000000      0.000000      0.000000      0.000000      0.000000   \n",
      "50%        0.000000      0.000000      0.000000      0.000000      0.000000   \n",
      "75%        0.000000      0.000000      0.000000      0.000000      0.000000   \n",
      "max        1.000000      1.000000      1.000000      1.000000      1.000000   \n",
      "\n",
      "       Soil_Type7    Soil_Type8    Soil_Type9   Soil_Type10   Soil_Type11  \\\n",
      "count     15120.0  15120.000000  15120.000000  15120.000000  15120.000000   \n",
      "mean          0.0      0.000066      0.000661      0.141667      0.026852   \n",
      "std           0.0      0.008133      0.025710      0.348719      0.161656   \n",
      "min           0.0      0.000000      0.000000      0.000000      0.000000   \n",
      "25%           0.0      0.000000      0.000000      0.000000      0.000000   \n",
      "50%           0.0      0.000000      0.000000      0.000000      0.000000   \n",
      "75%           0.0      0.000000      0.000000      0.000000      0.000000   \n",
      "max           0.0      1.000000      1.000000      1.000000      1.000000   \n",
      "\n",
      "        Soil_Type12   Soil_Type13   Soil_Type14  Soil_Type15   Soil_Type16  \\\n",
      "count  15120.000000  15120.000000  15120.000000      15120.0  15120.000000   \n",
      "mean       0.015013      0.031481      0.011177          0.0      0.007540   \n",
      "std        0.121609      0.174621      0.105133          0.0      0.086506   \n",
      "min        0.000000      0.000000      0.000000          0.0      0.000000   \n",
      "25%        0.000000      0.000000      0.000000          0.0      0.000000   \n",
      "50%        0.000000      0.000000      0.000000          0.0      0.000000   \n",
      "75%        0.000000      0.000000      0.000000          0.0      0.000000   \n",
      "max        1.000000      1.000000      1.000000          0.0      1.000000   \n",
      "\n",
      "        Soil_Type17   Soil_Type18   Soil_Type19   Soil_Type20   Soil_Type21  \\\n",
      "count  15120.000000  15120.000000  15120.000000  15120.000000  15120.000000   \n",
      "mean       0.040476      0.003968      0.003042      0.009193      0.001058   \n",
      "std        0.197080      0.062871      0.055075      0.095442      0.032514   \n",
      "min        0.000000      0.000000      0.000000      0.000000      0.000000   \n",
      "25%        0.000000      0.000000      0.000000      0.000000      0.000000   \n",
      "50%        0.000000      0.000000      0.000000      0.000000      0.000000   \n",
      "75%        0.000000      0.000000      0.000000      0.000000      0.000000   \n",
      "max        1.000000      1.000000      1.000000      1.000000      1.000000   \n",
      "\n",
      "        Soil_Type22   Soil_Type23   Soil_Type24   Soil_Type25   Soil_Type26  \\\n",
      "count  15120.000000  15120.000000  15120.000000  15120.000000  15120.000000   \n",
      "mean       0.022817      0.050066      0.016997      0.000066      0.003571   \n",
      "std        0.149326      0.218089      0.129265      0.008133      0.059657   \n",
      "min        0.000000      0.000000      0.000000      0.000000      0.000000   \n",
      "25%        0.000000      0.000000      0.000000      0.000000      0.000000   \n",
      "50%        0.000000      0.000000      0.000000      0.000000      0.000000   \n",
      "75%        0.000000      0.000000      0.000000      0.000000      0.000000   \n",
      "max        1.000000      1.000000      1.000000      1.000000      1.000000   \n",
      "\n",
      "        Soil_Type27   Soil_Type28   Soil_Type29   Soil_Type30   Soil_Type31  \\\n",
      "count  15120.000000  15120.000000  15120.000000  15120.000000  15120.000000   \n",
      "mean       0.000992      0.000595      0.085384      0.047950      0.021958   \n",
      "std        0.031482      0.024391      0.279461      0.213667      0.146550   \n",
      "min        0.000000      0.000000      0.000000      0.000000      0.000000   \n",
      "25%        0.000000      0.000000      0.000000      0.000000      0.000000   \n",
      "50%        0.000000      0.000000      0.000000      0.000000      0.000000   \n",
      "75%        0.000000      0.000000      0.000000      0.000000      0.000000   \n",
      "max        1.000000      1.000000      1.000000      1.000000      1.000000   \n",
      "\n",
      "        Soil_Type32   Soil_Type33   Soil_Type34   Soil_Type35   Soil_Type36  \\\n",
      "count  15120.000000  15120.000000  15120.000000  15120.000000  15120.000000   \n",
      "mean       0.045635      0.040741      0.001455      0.006746      0.000661   \n",
      "std        0.208699      0.197696      0.038118      0.081859      0.025710   \n",
      "min        0.000000      0.000000      0.000000      0.000000      0.000000   \n",
      "25%        0.000000      0.000000      0.000000      0.000000      0.000000   \n",
      "50%        0.000000      0.000000      0.000000      0.000000      0.000000   \n",
      "75%        0.000000      0.000000      0.000000      0.000000      0.000000   \n",
      "max        1.000000      1.000000      1.000000      1.000000      1.000000   \n",
      "\n",
      "        Soil_Type37   Soil_Type38   Soil_Type39   Soil_Type40    Cover_Type  \n",
      "count  15120.000000  15120.000000  15120.000000  15120.000000  15120.000000  \n",
      "mean       0.002249      0.048148      0.043452      0.030357      4.000000  \n",
      "std        0.047368      0.214086      0.203880      0.171574      2.000066  \n",
      "min        0.000000      0.000000      0.000000      0.000000      1.000000  \n",
      "25%        0.000000      0.000000      0.000000      0.000000      2.000000  \n",
      "50%        0.000000      0.000000      0.000000      0.000000      4.000000  \n",
      "75%        0.000000      0.000000      0.000000      0.000000      6.000000  \n",
      "max        1.000000      1.000000      1.000000      1.000000      7.000000  \n"
     ]
    }
   ],
   "source": [
    "pd.set_option('display.max_columns', None)\n",
    "print(train.describe())\n",
    "\n",
    "#Soil_Type7 and Soil_Type15 are 0s for every row hence can be dropped"
   ]
  },
  {
   "cell_type": "code",
   "execution_count": 20,
   "metadata": {},
   "outputs": [],
   "source": [
    "train.drop(['Soil_Type7','Soil_Type15'],axis='columns',inplace=True)"
   ]
  },
  {
   "cell_type": "code",
   "execution_count": 21,
   "metadata": {},
   "outputs": [],
   "source": [
    "from sklearn.model_selection import train_test_split\n",
    "X=train.drop(['Id','Cover_Type'],axis=1)\n",
    "Y=train['Cover_Type']\n",
    "Xtrain,Xtest,ytrain,ytest=train_test_split(X,Y)"
   ]
  },
  {
   "cell_type": "code",
   "execution_count": 22,
   "metadata": {},
   "outputs": [
    {
     "data": {
      "text/plain": [
       "KNeighborsClassifier(n_neighbors=2)"
      ]
     },
     "execution_count": 22,
     "metadata": {},
     "output_type": "execute_result"
    }
   ],
   "source": [
    "from sklearn.neighbors import KNeighborsClassifier\n",
    "knnn=KNeighborsClassifier(n_neighbors=2)\n",
    "knnn.fit(Xtrain,ytrain)"
   ]
  },
  {
   "cell_type": "code",
   "execution_count": 23,
   "metadata": {},
   "outputs": [
    {
     "data": {
      "text/plain": [
       "0.7595238095238095"
      ]
     },
     "execution_count": 23,
     "metadata": {},
     "output_type": "execute_result"
    }
   ],
   "source": [
    "knnn.score(Xtest,ytest)"
   ]
  }
 ],
 "metadata": {
  "kernelspec": {
   "display_name": "Python 3.7.4 64-bit",
   "language": "python",
   "name": "python3"
  },
  "language_info": {
   "codemirror_mode": {
    "name": "ipython",
    "version": 3
   },
   "file_extension": ".py",
   "mimetype": "text/x-python",
   "name": "python",
   "nbconvert_exporter": "python",
   "pygments_lexer": "ipython3",
   "version": "3.7.4"
  },
  "orig_nbformat": 4,
  "vscode": {
   "interpreter": {
    "hash": "f9d13b5290330b663afaff99531415167a1442545ab466441da89c47cd128532"
   }
  }
 },
 "nbformat": 4,
 "nbformat_minor": 2
}
