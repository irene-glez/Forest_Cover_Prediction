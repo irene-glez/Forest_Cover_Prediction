{
 "cells": [
  {
   "cell_type": "code",
   "execution_count": 1,
   "metadata": {},
   "outputs": [],
   "source": [
    "import numpy as np\n",
    "import pandas as pd\n",
    "\n",
    "import phik\n",
    "import math\n",
    "\n",
    "import matplotlib.pyplot as plt \n",
    "import seaborn as sns \n",
    "\n",
    "%matplotlib inline\n",
    "\n",
    "sns.set_style('whitegrid')\n",
    "plt.style.use(\"fivethirtyeight\")"
   ]
  },
  {
   "cell_type": "code",
   "execution_count": 4,
   "metadata": {},
   "outputs": [
    {
     "data": {
      "text/plain": [
       "(565892, 55)"
      ]
     },
     "execution_count": 4,
     "metadata": {},
     "output_type": "execute_result"
    }
   ],
   "source": [
    "test = pd.read_csv('../data/test.csv')\n",
    "test.shape"
   ]
  },
  {
   "cell_type": "code",
   "execution_count": 3,
   "metadata": {},
   "outputs": [
    {
     "data": {
      "text/plain": [
       "(15120, 56)"
      ]
     },
     "execution_count": 3,
     "metadata": {},
     "output_type": "execute_result"
    }
   ],
   "source": [
    "train = pd.read_csv('../data/train.csv')\n",
    "train.shape"
   ]
  },
  {
   "cell_type": "markdown",
   "metadata": {},
   "source": [
    "## Conclusions from the EDA:\n",
    "\n",
    "- there's two types of quantitative/numerical data: continuous and discrete (binary)\n",
    "- the dataset is free of nulls and duplicates\n",
    "- the features 'Elevation', 'Horizontal Distance To Fire Points' and 'Horizontal Distance To Roadways' present high cardinality, but not enough to be removed\n",
    "- only 'Vertical Distance To Hydrology' has negative values\n",
    "- there's two colums ('Soil Type15' and 'Soil Type7') only with 0s, and many others with few 1s\n",
    "- few features have correlation with the target\n",
    "- hte target is perfectly balanced"
   ]
  },
  {
   "cell_type": "markdown",
   "metadata": {},
   "source": [
    " - the target is balanced:"
   ]
  },
  {
   "cell_type": "code",
   "execution_count": 5,
   "metadata": {},
   "outputs": [
    {
     "data": {
      "text/plain": [
       "5    2160\n",
       "2    2160\n",
       "1    2160\n",
       "7    2160\n",
       "3    2160\n",
       "6    2160\n",
       "4    2160\n",
       "Name: Cover_Type, dtype: int64"
      ]
     },
     "execution_count": 5,
     "metadata": {},
     "output_type": "execute_result"
    }
   ],
   "source": [
    "train['Cover_Type'].value_counts()"
   ]
  },
  {
   "cell_type": "markdown",
   "metadata": {},
   "source": [
    " - outliers:"
   ]
  },
  {
   "cell_type": "code",
   "execution_count": 7,
   "metadata": {},
   "outputs": [],
   "source": [
    "def number_of_outliers(df):\n",
    "    \n",
    "    df = df.select_dtypes(exclude = 'object')\n",
    "    \n",
    "    Q1 = df.quantile(0.25)\n",
    "    Q3 = df.quantile(0.75)\n",
    "    IQR = Q3 - Q1\n",
    "    \n",
    "    return ((df < (Q1 - 1.5 * IQR)) | (df > (Q3 + 1.5 * IQR))).sum()"
   ]
  },
  {
   "cell_type": "code",
   "execution_count": 8,
   "metadata": {},
   "outputs": [
    {
     "data": {
      "text/plain": [
       "Soil_Type32                         690\n",
       "Soil_Type30                         725\n",
       "Soil_Type38                         728\n",
       "Soil_Type23                         757\n",
       "Horizontal_Distance_To_Roadways     830\n",
       "Soil_Type4                          843\n",
       "Soil_Type3                          962\n",
       "Soil_Type29                        1291\n",
       "Soil_Type10                        2142\n",
       "Wilderness_Area1                   3597\n",
       "dtype: int64"
      ]
     },
     "execution_count": 8,
     "metadata": {},
     "output_type": "execute_result"
    }
   ],
   "source": [
    "number_of_outliers(train).sort_values().tail(10)"
   ]
  },
  {
   "cell_type": "code",
   "execution_count": 13,
   "metadata": {},
   "outputs": [
    {
     "name": "stdout",
     "output_type": "stream",
     "text": [
      "outliers in Wilderness_Area1: 0.23789682539682538 %\n"
     ]
    }
   ],
   "source": [
    "print('outliers in Wilderness Area 1: ' + str(3597/len(train)) + ' %')"
   ]
  },
  {
   "cell_type": "markdown",
   "metadata": {},
   "source": [
    " - As the outliers reflect the amplitude of the forest, we decide to keep them, and to choose robust algorithms based in decision trees. "
   ]
  },
  {
   "cell_type": "code",
   "execution_count": null,
   "metadata": {},
   "outputs": [],
   "source": []
  },
  {
   "cell_type": "markdown",
   "metadata": {},
   "source": [
    "## 1. Drop features with constant (or almost constant) values and id"
   ]
  },
  {
   "cell_type": "code",
   "execution_count": 20,
   "metadata": {},
   "outputs": [
    {
     "data": {
      "text/plain": [
       "(15120, 56)"
      ]
     },
     "execution_count": 20,
     "metadata": {},
     "output_type": "execute_result"
    }
   ],
   "source": [
    "train.shape"
   ]
  },
  {
   "cell_type": "code",
   "execution_count": 26,
   "metadata": {},
   "outputs": [
    {
     "data": {
      "text/plain": [
       "Soil_Type7      0\n",
       "Soil_Type15     0\n",
       "Soil_Type25     1\n",
       "Soil_Type8      1\n",
       "Soil_Type28     9\n",
       "Soil_Type36    10\n",
       "Soil_Type9     10\n",
       "Soil_Type27    15\n",
       "Soil_Type21    16\n",
       "Soil_Type34    22\n",
       "dtype: int64"
      ]
     },
     "execution_count": 26,
     "metadata": {},
     "output_type": "execute_result"
    }
   ],
   "source": [
    "train.sum().sort_values().head(10)"
   ]
  },
  {
   "cell_type": "code",
   "execution_count": 24,
   "metadata": {},
   "outputs": [],
   "source": [
    "df = train.drop(columns= ['Soil_Type7', 'Soil_Type15', 'Soil_Type25', 'Soil_Type8', 'Id'])\n",
    "df.shape"
   ]
  },
  {
   "cell_type": "markdown",
   "metadata": {},
   "source": [
    "## 2. Correlations:"
   ]
  },
  {
   "cell_type": "code",
   "execution_count": 28,
   "metadata": {},
   "outputs": [],
   "source": [
    "train = df"
   ]
  },
  {
   "cell_type": "markdown",
   "metadata": {},
   "source": [
    " - Pearson correlation:"
   ]
  },
  {
   "cell_type": "code",
   "execution_count": 31,
   "metadata": {},
   "outputs": [
    {
     "data": {
      "text/plain": [
       "Wilderness_Area1                     -0.230117\n",
       "Soil_Type29                          -0.218564\n",
       "Soil_Type22                          -0.195993\n",
       "Soil_Type23                          -0.158762\n",
       "Soil_Type32                          -0.132312\n",
       "Soil_Type12                          -0.129985\n",
       "Horizontal_Distance_To_Roadways      -0.105662\n",
       "Soil_Type24                          -0.100797\n",
       "Hillshade_Noon                       -0.098905\n",
       "Horizontal_Distance_To_Fire_Points   -0.089389\n",
       "dtype: float64"
      ]
     },
     "execution_count": 31,
     "metadata": {},
     "output_type": "execute_result"
    }
   ],
   "source": [
    "train.corrwith(train['Cover_Type']).sort_values().head(10)"
   ]
  },
  {
   "cell_type": "code",
   "execution_count": 32,
   "metadata": {},
   "outputs": [
    {
     "data": {
      "text/plain": [
       "Vertical_Distance_To_Hydrology    0.075647\n",
       "Wilderness_Area4                  0.075774\n",
       "Slope                             0.087722\n",
       "Soil_Type35                       0.114327\n",
       "Wilderness_Area3                  0.122146\n",
       "Soil_Type10                       0.128972\n",
       "Soil_Type40                       0.205851\n",
       "Soil_Type39                       0.240384\n",
       "Soil_Type38                       0.257810\n",
       "Cover_Type                        1.000000\n",
       "dtype: float64"
      ]
     },
     "execution_count": 32,
     "metadata": {},
     "output_type": "execute_result"
    }
   ],
   "source": [
    "train.corrwith(train['Cover_Type']).sort_values().tail(10)"
   ]
  },
  {
   "cell_type": "markdown",
   "metadata": {},
   "source": [
    "- Phik correlation:"
   ]
  },
  {
   "cell_type": "code",
   "execution_count": 42,
   "metadata": {},
   "outputs": [
    {
     "name": "stdout",
     "output_type": "stream",
     "text": [
      "interval columns not set, guessing: ['Elevation', 'Aspect', 'Slope', 'Horizontal_Distance_To_Hydrology', 'Vertical_Distance_To_Hydrology', 'Horizontal_Distance_To_Roadways', 'Hillshade_9am', 'Hillshade_Noon', 'Hillshade_3pm', 'Horizontal_Distance_To_Fire_Points', 'Wilderness_Area1', 'Wilderness_Area2', 'Wilderness_Area3', 'Wilderness_Area4', 'Soil_Type1', 'Soil_Type2', 'Soil_Type3', 'Soil_Type4', 'Soil_Type5', 'Soil_Type6', 'Soil_Type9', 'Soil_Type10', 'Soil_Type11', 'Soil_Type12', 'Soil_Type13', 'Soil_Type14', 'Soil_Type16', 'Soil_Type17', 'Soil_Type18', 'Soil_Type19', 'Soil_Type20', 'Soil_Type21', 'Soil_Type22', 'Soil_Type23', 'Soil_Type24', 'Soil_Type26', 'Soil_Type27', 'Soil_Type28', 'Soil_Type29', 'Soil_Type30', 'Soil_Type31', 'Soil_Type32', 'Soil_Type33', 'Soil_Type34', 'Soil_Type35', 'Soil_Type36', 'Soil_Type37', 'Soil_Type38', 'Soil_Type39', 'Soil_Type40', 'Cover_Type']\n"
     ]
    },
    {
     "data": {
      "text/plain": [
       "Cover_Type                            1.000000\n",
       "Elevation                             0.801070\n",
       "Wilderness_Area4                      0.754222\n",
       "Horizontal_Distance_To_Roadways       0.494676\n",
       "Soil_Type10                           0.492620\n",
       "Soil_Type3                            0.483691\n",
       "Wilderness_Area1                      0.483618\n",
       "Soil_Type38                           0.445401\n",
       "Horizontal_Distance_To_Fire_Points    0.440710\n",
       "Soil_Type39                           0.419907\n",
       "Wilderness_Area3                      0.361451\n",
       "Soil_Type40                           0.353390\n",
       "Soil_Type30                           0.326813\n",
       "Soil_Type29                           0.322441\n",
       "Horizontal_Distance_To_Hydrology      0.311203\n",
       "Hillshade_9am                         0.303495\n",
       "Hillshade_3pm                         0.292085\n",
       "Aspect                                0.291317\n",
       "Slope                                 0.281308\n",
       "Soil_Type4                            0.279328\n",
       "Soil_Type22                           0.271595\n",
       "Soil_Type17                           0.255233\n",
       "Soil_Type13                           0.251266\n",
       "Soil_Type23                           0.249768\n",
       "Soil_Type12                           0.248816\n",
       "Name: Cover_Type, dtype: float64"
      ]
     },
     "execution_count": 42,
     "metadata": {},
     "output_type": "execute_result"
    }
   ],
   "source": [
    "train.phik_matrix()['Cover_Type'].sort_values(ascending = False).head(25)"
   ]
  },
  {
   "cell_type": "markdown",
   "metadata": {},
   "source": [
    " - Thanks to the Phik correlation, we see that there are high correlations with the target, which helps us for the creation of new features."
   ]
  },
  {
   "cell_type": "markdown",
   "metadata": {},
   "source": [
    "## 3. Create new features:"
   ]
  },
  {
   "cell_type": "code",
   "execution_count": 44,
   "metadata": {},
   "outputs": [],
   "source": []
  },
  {
   "cell_type": "code",
   "execution_count": 45,
   "metadata": {},
   "outputs": [],
   "source": [
    "train['eDist_to_Hydrology'] = (train['Horizontal_Distance_To_Hydrology']**2 + train['Vertical_Distance_To_Hydrology']**2)**0.5 \n",
    "train['human_presence'] = train['Horizontal_Distance_To_Roadways'] + train['Horizontal_Distance_To_Fire_Points']\n",
    "train['Total_Hillshade_mean'] = (train['Hillshade_9am'] + train['Hillshade_3pm'] + train['Hillshade_Noon']) / 3\n",
    "train['Elevation_Aspect_ratio'] = train['Elevation']/(train['Aspect']+1)\n",
    "train['Horizontal_Distance_To_Roadways_Log'] = [math.log(v+1) for v in train['Horizontal_Distance_To_Roadways']]\n",
    "train['Hillshade_Noon_Aspect_ratio'] = train['Hillshade_Noon']/(train['Aspect']+1)\n",
    "train['Hillshade_Noon_Elevation_ratio'] = train['Hillshade_Noon']/(train['Elevation']+1)\n",
    "train['Hillshade_9am_Elevation_ratio'] = train['Hillshade_9am']/(train['Elevation']+1)\n"
   ]
  },
  {
   "cell_type": "code",
   "execution_count": 46,
   "metadata": {},
   "outputs": [
    {
     "name": "stdout",
     "output_type": "stream",
     "text": [
      "interval columns not set, guessing: ['Elevation', 'Aspect', 'Slope', 'Horizontal_Distance_To_Hydrology', 'Vertical_Distance_To_Hydrology', 'Horizontal_Distance_To_Roadways', 'Hillshade_9am', 'Hillshade_Noon', 'Hillshade_3pm', 'Horizontal_Distance_To_Fire_Points', 'Wilderness_Area1', 'Wilderness_Area2', 'Wilderness_Area3', 'Wilderness_Area4', 'Soil_Type1', 'Soil_Type2', 'Soil_Type3', 'Soil_Type4', 'Soil_Type5', 'Soil_Type6', 'Soil_Type9', 'Soil_Type10', 'Soil_Type11', 'Soil_Type12', 'Soil_Type13', 'Soil_Type14', 'Soil_Type16', 'Soil_Type17', 'Soil_Type18', 'Soil_Type19', 'Soil_Type20', 'Soil_Type21', 'Soil_Type22', 'Soil_Type23', 'Soil_Type24', 'Soil_Type26', 'Soil_Type27', 'Soil_Type28', 'Soil_Type29', 'Soil_Type30', 'Soil_Type31', 'Soil_Type32', 'Soil_Type33', 'Soil_Type34', 'Soil_Type35', 'Soil_Type36', 'Soil_Type37', 'Soil_Type38', 'Soil_Type39', 'Soil_Type40', 'Cover_Type', 'eDist_to_Hydrology', 'human_presence', 'Total_Hillshade_mean', 'Elevation_Aspect_ratio', 'Horizontal_Distance_To_Roadways_Log', 'Hillshade_Noon_Aspect_ratio', 'Hillshade_Noon_Elevation_ratio', 'Hillshade_9am_Elevation_ratio']\n"
     ]
    },
    {
     "data": {
      "text/plain": [
       "Cover_Type                             1.000000\n",
       "Elevation                              0.801070\n",
       "Wilderness_Area4                       0.754222\n",
       "Hillshade_Noon_Elevation_ratio         0.617592\n",
       "Hillshade_9am_Elevation_ratio          0.616461\n",
       "human_presence                         0.527059\n",
       "Horizontal_Distance_To_Roadways        0.494676\n",
       "Soil_Type10                            0.492620\n",
       "Soil_Type3                             0.483691\n",
       "Wilderness_Area1                       0.483618\n",
       "Soil_Type38                            0.445401\n",
       "Horizontal_Distance_To_Fire_Points     0.440710\n",
       "Horizontal_Distance_To_Roadways_Log    0.434802\n",
       "Soil_Type39                            0.419907\n",
       "Wilderness_Area3                       0.361451\n",
       "Soil_Type40                            0.353390\n",
       "Soil_Type30                            0.326813\n",
       "Soil_Type29                            0.322441\n",
       "Horizontal_Distance_To_Hydrology       0.311203\n",
       "eDist_to_Hydrology                     0.308649\n",
       "Hillshade_9am                          0.303495\n",
       "Hillshade_3pm                          0.292085\n",
       "Aspect                                 0.291317\n",
       "Slope                                  0.281308\n",
       "Soil_Type4                             0.279328\n",
       "Name: Cover_Type, dtype: float64"
      ]
     },
     "execution_count": 46,
     "metadata": {},
     "output_type": "execute_result"
    }
   ],
   "source": [
    "train.phik_matrix()['Cover_Type'].sort_values(ascending = False).head(25)"
   ]
  },
  {
   "cell_type": "code",
   "execution_count": 47,
   "metadata": {},
   "outputs": [],
   "source": [
    "# train.to_csv('../data/train_newfeats.csv', index = False)"
   ]
  },
  {
   "cell_type": "code",
   "execution_count": null,
   "metadata": {},
   "outputs": [],
   "source": []
  },
  {
   "cell_type": "code",
   "execution_count": 22,
   "metadata": {},
   "outputs": [],
   "source": [
    "train = pd.read_csv('../data/train_newfeats.csv')"
   ]
  },
  {
   "cell_type": "code",
   "execution_count": 23,
   "metadata": {},
   "outputs": [],
   "source": [
    "from sklearn.ensemble import RandomForestClassifier\n",
    "from sklearn.ensemble import AdaBoostClassifier, GradientBoostingClassifier, ExtraTreesClassifier\n",
    "import lightgbm as lgb\n",
    "import xgboost\n",
    "\n",
    "\n",
    "from sklearn.model_selection import train_test_split\n",
    "from sklearn.model_selection import cross_val_score, GridSearchCV, RandomizedSearchCV, RepeatedKFold\n",
    "from sklearn.metrics import accuracy_score, precision_score, recall_score, f1_score, classification_report, confusion_matrix\n",
    "\n",
    "from sklearn.preprocessing import StandardScaler, RobustScaler\n",
    "\n",
    "from sklearn.feature_selection import SelectKBest\n",
    "\n",
    "from sklearn.pipeline import Pipeline"
   ]
  },
  {
   "cell_type": "code",
   "execution_count": 24,
   "metadata": {},
   "outputs": [],
   "source": [
    "\n",
    "X= train.drop(['Cover_Type'], axis=1) \n",
    "y= train['Cover_Type']\n",
    "X_train, X_test, y_train, y_test= train_test_split(X,y, test_size= 0.2)"
   ]
  },
  {
   "cell_type": "code",
   "execution_count": 25,
   "metadata": {},
   "outputs": [],
   "source": [
    "# initialize the classificators\n",
    "rfc= RandomForestClassifier(random_state=77)\n",
    "gbc= GradientBoostingClassifier(random_state=77)\n",
    "ada = AdaBoostClassifier(random_state=77)\n",
    "etc = ExtraTreesClassifier(random_state=77)\n",
    "lgbm = lgb.LGBMClassifier(random_state=77)\n",
    "\n",
    "# now, create a list with the objects \n",
    "models= [rfc, gbc, ada, etc, lgbm]"
   ]
  },
  {
   "cell_type": "code",
   "execution_count": 27,
   "metadata": {},
   "outputs": [
    {
     "name": "stdout",
     "output_type": "stream",
     "text": [
      "The score in train of model RandomForestClassifier is 1.00\n",
      "The score in test of model RandomForestClassifier is 0.86\n",
      "\n",
      "\n",
      "The score in train of model GradientBoostingClassifier is 0.86\n",
      "The score in test of model GradientBoostingClassifier is 0.80\n",
      "\n",
      "\n",
      "The score in train of model AdaBoostClassifier is 0.35\n",
      "The score in test of model AdaBoostClassifier is 0.35\n",
      "\n",
      "\n",
      "The score in train of model ExtraTreesClassifier is 1.00\n",
      "The score in test of model ExtraTreesClassifier is 0.87\n",
      "\n",
      "\n",
      "The score in train of model LGBMClassifier is 0.99\n",
      "The score in test of model LGBMClassifier is 0.86\n",
      "\n",
      "\n"
     ]
    }
   ],
   "source": [
    "for model in models:\n",
    "    model.fit(X_train, y_train) \n",
    "    train_score= model.score(X_train, y_train) \n",
    "    test_score= model.score(X_test, y_test)\n",
    "    #clf_report= classification_report(y_test, y_pred) # with the report, we have a bigger picture, with precision and recall for each class\n",
    "    print(f\"The score in train of model {type(model).__name__} is {train_score:.2f}\")\n",
    "    print(f\"The score in test of model {type(model).__name__} is {test_score:.2f}\")\n",
    "    #print(clf_report)\n",
    "    print(\"\\n\")"
   ]
  },
  {
   "cell_type": "markdown",
   "metadata": {},
   "source": []
  },
  {
   "cell_type": "code",
   "execution_count": 28,
   "metadata": {},
   "outputs": [
    {
     "name": "stdout",
     "output_type": "stream",
     "text": [
      "(15120, 58)\n",
      "(15120, 5)\n"
     ]
    },
    {
     "data": {
      "text/html": [
       "<div>\n",
       "<style scoped>\n",
       "    .dataframe tbody tr th:only-of-type {\n",
       "        vertical-align: middle;\n",
       "    }\n",
       "\n",
       "    .dataframe tbody tr th {\n",
       "        vertical-align: top;\n",
       "    }\n",
       "\n",
       "    .dataframe thead th {\n",
       "        text-align: right;\n",
       "    }\n",
       "</style>\n",
       "<table border=\"1\" class=\"dataframe\">\n",
       "  <thead>\n",
       "    <tr style=\"text-align: right;\">\n",
       "      <th></th>\n",
       "      <th>column</th>\n",
       "      <th>score</th>\n",
       "    </tr>\n",
       "  </thead>\n",
       "  <tbody>\n",
       "    <tr>\n",
       "      <th>0</th>\n",
       "      <td>Elevation</td>\n",
       "      <td>16241.233317</td>\n",
       "    </tr>\n",
       "    <tr>\n",
       "      <th>13</th>\n",
       "      <td>Wilderness_Area4</td>\n",
       "      <td>5072.497908</td>\n",
       "    </tr>\n",
       "    <tr>\n",
       "      <th>56</th>\n",
       "      <td>Hillshade_Noon_Elevation_ratio</td>\n",
       "      <td>3253.727103</td>\n",
       "    </tr>\n",
       "    <tr>\n",
       "      <th>57</th>\n",
       "      <td>Hillshade_9am_Elevation_ratio</td>\n",
       "      <td>2644.415899</td>\n",
       "    </tr>\n",
       "    <tr>\n",
       "      <th>51</th>\n",
       "      <td>human_presence</td>\n",
       "      <td>1469.962628</td>\n",
       "    </tr>\n",
       "    <tr>\n",
       "      <th>5</th>\n",
       "      <td>Horizontal_Distance_To_Roadways</td>\n",
       "      <td>1223.070458</td>\n",
       "    </tr>\n",
       "    <tr>\n",
       "      <th>21</th>\n",
       "      <td>Soil_Type10</td>\n",
       "      <td>977.737621</td>\n",
       "    </tr>\n",
       "    <tr>\n",
       "      <th>54</th>\n",
       "      <td>Horizontal_Distance_To_Roadways_Log</td>\n",
       "      <td>972.271891</td>\n",
       "    </tr>\n",
       "    <tr>\n",
       "      <th>16</th>\n",
       "      <td>Soil_Type3</td>\n",
       "      <td>929.217593</td>\n",
       "    </tr>\n",
       "    <tr>\n",
       "      <th>10</th>\n",
       "      <td>Wilderness_Area1</td>\n",
       "      <td>928.831132</td>\n",
       "    </tr>\n",
       "  </tbody>\n",
       "</table>\n",
       "</div>"
      ],
      "text/plain": [
       "                                 column         score\n",
       "0                             Elevation  16241.233317\n",
       "13                     Wilderness_Area4   5072.497908\n",
       "56       Hillshade_Noon_Elevation_ratio   3253.727103\n",
       "57        Hillshade_9am_Elevation_ratio   2644.415899\n",
       "51                       human_presence   1469.962628\n",
       "5       Horizontal_Distance_To_Roadways   1223.070458\n",
       "21                          Soil_Type10    977.737621\n",
       "54  Horizontal_Distance_To_Roadways_Log    972.271891\n",
       "16                           Soil_Type3    929.217593\n",
       "10                     Wilderness_Area1    928.831132"
      ]
     },
     "execution_count": 28,
     "metadata": {},
     "output_type": "execute_result"
    }
   ],
   "source": [
    "from sklearn.feature_selection import SelectKBest\n",
    "\n",
    "print(X.shape)\n",
    "sel = SelectKBest(k=5)\n",
    "X_new = sel.fit_transform(X, y)\n",
    "names = X.columns\n",
    "\n",
    "print(X_new.shape)\n",
    "\n",
    "best_feats = pd.DataFrame({'column': names, 'score': sel.scores_}).sort_values('score', ascending=False)\n",
    "best_feats.head(10)"
   ]
  },
  {
   "cell_type": "code",
   "execution_count": 18,
   "metadata": {},
   "outputs": [],
   "source": [
    "X= train[['Elevation', 'Hillshade_Noon_Elevation_ratio', 'Hillshade_9am_Elevation_ratio', 'human_presence', 'Horizontal_Distance_To_Roadways', \n",
    " 'Horizontal_Distance_To_Roadways_Log']]\n",
    "y= train['Cover_Type']\n",
    "X_train, X_test, y_train, y_test= train_test_split(X,y, test_size= 0.2)"
   ]
  },
  {
   "cell_type": "code",
   "execution_count": 19,
   "metadata": {},
   "outputs": [
    {
     "name": "stdout",
     "output_type": "stream",
     "text": [
      "The score in train of model RandomForestClassifier is 1.00\n",
      "The score in test of model RandomForestClassifier is 0.81\n",
      "\n",
      "\n",
      "The score in train of model GradientBoostingClassifier is 0.79\n",
      "The score in test of model GradientBoostingClassifier is 0.74\n",
      "\n",
      "\n",
      "The score in train of model AdaBoostClassifier is 0.43\n",
      "The score in test of model AdaBoostClassifier is 0.43\n",
      "\n",
      "\n",
      "The score in train of model ExtraTreesClassifier is 1.00\n",
      "The score in test of model ExtraTreesClassifier is 0.82\n",
      "\n",
      "\n",
      "The score in train of model LGBMClassifier is 0.95\n",
      "The score in test of model LGBMClassifier is 0.80\n",
      "\n",
      "\n"
     ]
    }
   ],
   "source": [
    "for model in models:\n",
    "    model.fit(X_train, y_train) \n",
    "    train_score= model.score(X_train, y_train) \n",
    "    test_score= model.score(X_test, y_test)\n",
    "    #clf_report= classification_report(y_test, y_pred) # with the report, we have a bigger picture, with precision and recall for each class\n",
    "    print(f\"The score in train of model {type(model).__name__} is {train_score:.2f}\")\n",
    "    print(f\"The score in test of model {type(model).__name__} is {test_score:.2f}\")\n",
    "    #print(clf_report)\n",
    "    print(\"\\n\")"
   ]
  },
  {
   "cell_type": "code",
   "execution_count": null,
   "metadata": {},
   "outputs": [],
   "source": []
  },
  {
   "cell_type": "code",
   "execution_count": null,
   "metadata": {},
   "outputs": [],
   "source": []
  },
  {
   "cell_type": "code",
   "execution_count": null,
   "metadata": {},
   "outputs": [],
   "source": []
  },
  {
   "cell_type": "code",
   "execution_count": null,
   "metadata": {},
   "outputs": [],
   "source": []
  },
  {
   "cell_type": "markdown",
   "metadata": {},
   "source": [
    "\n",
    "- non-gaussian dist (apply MinMaxScaling)\n",
    "- gaussian dist (apply StandardScaler) : Slope and Hillshade_3pm"
   ]
  },
  {
   "cell_type": "code",
   "execution_count": null,
   "metadata": {},
   "outputs": [],
   "source": [
    "# 'Elevation', 'Aspect', 'Horizontal_Distance_To_Hydrology', 'Vertical_Distance_To_Hydrology', 'Horizontal_Distance_To_Roadways', 'Hillshade_9am', 'Hillshade_Noon', 'Horizontal_Distance_To_Fire_Points'"
   ]
  },
  {
   "cell_type": "code",
   "execution_count": 117,
   "metadata": {},
   "outputs": [],
   "source": [
    "from sklearn.preprocessing import MinMaxScaler\n",
    "\n",
    "scaler_mms = MinMaxScaler()\n",
    "\n",
    "test[['Elevation', 'Aspect', 'Horizontal_Distance_To_Hydrology', 'Vertical_Distance_To_Hydrology', 'Horizontal_Distance_To_Roadways', 'Hillshade_9am', 'Hillshade_Noon', 'Horizontal_Distance_To_Fire_Points']] = scaler_mms.fit_transform(test[['Elevation', 'Aspect', 'Horizontal_Distance_To_Hydrology', 'Vertical_Distance_To_Hydrology', 'Horizontal_Distance_To_Roadways', 'Hillshade_9am', 'Hillshade_Noon', 'Horizontal_Distance_To_Fire_Points']])\n",
    "train[['Elevation', 'Aspect', 'Horizontal_Distance_To_Hydrology', 'Vertical_Distance_To_Hydrology', 'Horizontal_Distance_To_Roadways', 'Hillshade_9am', 'Hillshade_Noon', 'Horizontal_Distance_To_Fire_Points']] = scaler_mms.fit_transform(train[['Elevation', 'Aspect', 'Horizontal_Distance_To_Hydrology', 'Vertical_Distance_To_Hydrology', 'Horizontal_Distance_To_Roadways', 'Hillshade_9am', 'Hillshade_Noon', 'Horizontal_Distance_To_Fire_Points']])"
   ]
  },
  {
   "cell_type": "code",
   "execution_count": 118,
   "metadata": {},
   "outputs": [],
   "source": [
    "from sklearn.preprocessing import StandardScaler\n",
    "scaler_ss = MinMaxScaler()\n",
    "\n",
    "test[['Slope', 'Hillshade_3pm']] = scaler_ss.fit_transform(test[['Slope', 'Hillshade_3pm']])\n",
    "train[['Slope', 'Hillshade_3pm']] = scaler_ss.fit_transform(train[['Slope', 'Hillshade_3pm']])"
   ]
  },
  {
   "cell_type": "code",
   "execution_count": 138,
   "metadata": {},
   "outputs": [
    {
     "data": {
      "text/plain": [
       "(15120, 56)"
      ]
     },
     "execution_count": 138,
     "metadata": {},
     "output_type": "execute_result"
    }
   ],
   "source": [
    "train.shape"
   ]
  },
  {
   "cell_type": "code",
   "execution_count": 139,
   "metadata": {},
   "outputs": [
    {
     "data": {
      "text/plain": [
       "(565892, 55)"
      ]
     },
     "execution_count": 139,
     "metadata": {},
     "output_type": "execute_result"
    }
   ],
   "source": [
    "test.shape"
   ]
  },
  {
   "cell_type": "code",
   "execution_count": 141,
   "metadata": {},
   "outputs": [],
   "source": [
    "train.to_csv('train_scaled.csv', index=False)"
   ]
  },
  {
   "cell_type": "code",
   "execution_count": 142,
   "metadata": {},
   "outputs": [],
   "source": [
    "test.to_csv('test_scaled.csv', index=False)"
   ]
  },
  {
   "cell_type": "code",
   "execution_count": null,
   "metadata": {},
   "outputs": [],
   "source": []
  },
  {
   "cell_type": "code",
   "execution_count": 119,
   "metadata": {},
   "outputs": [
    {
     "data": {
      "text/html": [
       "<div>\n",
       "<style scoped>\n",
       "    .dataframe tbody tr th:only-of-type {\n",
       "        vertical-align: middle;\n",
       "    }\n",
       "\n",
       "    .dataframe tbody tr th {\n",
       "        vertical-align: top;\n",
       "    }\n",
       "\n",
       "    .dataframe thead th {\n",
       "        text-align: right;\n",
       "    }\n",
       "</style>\n",
       "<table border=\"1\" class=\"dataframe\">\n",
       "  <thead>\n",
       "    <tr style=\"text-align: right;\">\n",
       "      <th></th>\n",
       "      <th>Id</th>\n",
       "      <th>Elevation</th>\n",
       "      <th>Aspect</th>\n",
       "      <th>Slope</th>\n",
       "      <th>Horizontal_Distance_To_Hydrology</th>\n",
       "      <th>Vertical_Distance_To_Hydrology</th>\n",
       "      <th>Horizontal_Distance_To_Roadways</th>\n",
       "      <th>Hillshade_9am</th>\n",
       "      <th>Hillshade_Noon</th>\n",
       "      <th>Hillshade_3pm</th>\n",
       "      <th>...</th>\n",
       "      <th>Soil_Type32</th>\n",
       "      <th>Soil_Type33</th>\n",
       "      <th>Soil_Type34</th>\n",
       "      <th>Soil_Type35</th>\n",
       "      <th>Soil_Type36</th>\n",
       "      <th>Soil_Type37</th>\n",
       "      <th>Soil_Type38</th>\n",
       "      <th>Soil_Type39</th>\n",
       "      <th>Soil_Type40</th>\n",
       "      <th>Cover_Type</th>\n",
       "    </tr>\n",
       "  </thead>\n",
       "  <tbody>\n",
       "    <tr>\n",
       "      <th>0</th>\n",
       "      <td>1</td>\n",
       "      <td>0.369084</td>\n",
       "      <td>0.141667</td>\n",
       "      <td>0.057692</td>\n",
       "      <td>0.192107</td>\n",
       "      <td>0.208571</td>\n",
       "      <td>0.074020</td>\n",
       "      <td>0.870079</td>\n",
       "      <td>0.858065</td>\n",
       "      <td>0.596774</td>\n",
       "      <td>...</td>\n",
       "      <td>0</td>\n",
       "      <td>0</td>\n",
       "      <td>0</td>\n",
       "      <td>0</td>\n",
       "      <td>0</td>\n",
       "      <td>0</td>\n",
       "      <td>0</td>\n",
       "      <td>0</td>\n",
       "      <td>0</td>\n",
       "      <td>5</td>\n",
       "    </tr>\n",
       "    <tr>\n",
       "      <th>1</th>\n",
       "      <td>2</td>\n",
       "      <td>0.366062</td>\n",
       "      <td>0.155556</td>\n",
       "      <td>0.038462</td>\n",
       "      <td>0.157856</td>\n",
       "      <td>0.200000</td>\n",
       "      <td>0.056604</td>\n",
       "      <td>0.866142</td>\n",
       "      <td>0.877419</td>\n",
       "      <td>0.608871</td>\n",
       "      <td>...</td>\n",
       "      <td>0</td>\n",
       "      <td>0</td>\n",
       "      <td>0</td>\n",
       "      <td>0</td>\n",
       "      <td>0</td>\n",
       "      <td>0</td>\n",
       "      <td>0</td>\n",
       "      <td>0</td>\n",
       "      <td>0</td>\n",
       "      <td>5</td>\n",
       "    </tr>\n",
       "    <tr>\n",
       "      <th>2</th>\n",
       "      <td>3</td>\n",
       "      <td>0.473817</td>\n",
       "      <td>0.386111</td>\n",
       "      <td>0.173077</td>\n",
       "      <td>0.199553</td>\n",
       "      <td>0.301429</td>\n",
       "      <td>0.461538</td>\n",
       "      <td>0.921260</td>\n",
       "      <td>0.896774</td>\n",
       "      <td>0.544355</td>\n",
       "      <td>...</td>\n",
       "      <td>0</td>\n",
       "      <td>0</td>\n",
       "      <td>0</td>\n",
       "      <td>0</td>\n",
       "      <td>0</td>\n",
       "      <td>0</td>\n",
       "      <td>0</td>\n",
       "      <td>0</td>\n",
       "      <td>0</td>\n",
       "      <td>2</td>\n",
       "    </tr>\n",
       "    <tr>\n",
       "      <th>3</th>\n",
       "      <td>4</td>\n",
       "      <td>0.464250</td>\n",
       "      <td>0.430556</td>\n",
       "      <td>0.346154</td>\n",
       "      <td>0.180194</td>\n",
       "      <td>0.377143</td>\n",
       "      <td>0.448476</td>\n",
       "      <td>0.937008</td>\n",
       "      <td>0.896774</td>\n",
       "      <td>0.491935</td>\n",
       "      <td>...</td>\n",
       "      <td>0</td>\n",
       "      <td>0</td>\n",
       "      <td>0</td>\n",
       "      <td>0</td>\n",
       "      <td>0</td>\n",
       "      <td>0</td>\n",
       "      <td>0</td>\n",
       "      <td>0</td>\n",
       "      <td>0</td>\n",
       "      <td>2</td>\n",
       "    </tr>\n",
       "    <tr>\n",
       "      <th>4</th>\n",
       "      <td>5</td>\n",
       "      <td>0.368580</td>\n",
       "      <td>0.125000</td>\n",
       "      <td>0.038462</td>\n",
       "      <td>0.113924</td>\n",
       "      <td>0.207143</td>\n",
       "      <td>0.056749</td>\n",
       "      <td>0.866142</td>\n",
       "      <td>0.870968</td>\n",
       "      <td>0.604839</td>\n",
       "      <td>...</td>\n",
       "      <td>0</td>\n",
       "      <td>0</td>\n",
       "      <td>0</td>\n",
       "      <td>0</td>\n",
       "      <td>0</td>\n",
       "      <td>0</td>\n",
       "      <td>0</td>\n",
       "      <td>0</td>\n",
       "      <td>0</td>\n",
       "      <td>5</td>\n",
       "    </tr>\n",
       "  </tbody>\n",
       "</table>\n",
       "<p>5 rows × 56 columns</p>\n",
       "</div>"
      ],
      "text/plain": [
       "   Id  Elevation    Aspect     Slope  Horizontal_Distance_To_Hydrology  \\\n",
       "0   1   0.369084  0.141667  0.057692                          0.192107   \n",
       "1   2   0.366062  0.155556  0.038462                          0.157856   \n",
       "2   3   0.473817  0.386111  0.173077                          0.199553   \n",
       "3   4   0.464250  0.430556  0.346154                          0.180194   \n",
       "4   5   0.368580  0.125000  0.038462                          0.113924   \n",
       "\n",
       "   Vertical_Distance_To_Hydrology  Horizontal_Distance_To_Roadways  \\\n",
       "0                        0.208571                         0.074020   \n",
       "1                        0.200000                         0.056604   \n",
       "2                        0.301429                         0.461538   \n",
       "3                        0.377143                         0.448476   \n",
       "4                        0.207143                         0.056749   \n",
       "\n",
       "   Hillshade_9am  Hillshade_Noon  Hillshade_3pm  ...  Soil_Type32  \\\n",
       "0       0.870079        0.858065       0.596774  ...            0   \n",
       "1       0.866142        0.877419       0.608871  ...            0   \n",
       "2       0.921260        0.896774       0.544355  ...            0   \n",
       "3       0.937008        0.896774       0.491935  ...            0   \n",
       "4       0.866142        0.870968       0.604839  ...            0   \n",
       "\n",
       "   Soil_Type33  Soil_Type34  Soil_Type35  Soil_Type36  Soil_Type37  \\\n",
       "0            0            0            0            0            0   \n",
       "1            0            0            0            0            0   \n",
       "2            0            0            0            0            0   \n",
       "3            0            0            0            0            0   \n",
       "4            0            0            0            0            0   \n",
       "\n",
       "   Soil_Type38  Soil_Type39  Soil_Type40  Cover_Type  \n",
       "0            0            0            0           5  \n",
       "1            0            0            0           5  \n",
       "2            0            0            0           2  \n",
       "3            0            0            0           2  \n",
       "4            0            0            0           5  \n",
       "\n",
       "[5 rows x 56 columns]"
      ]
     },
     "execution_count": 119,
     "metadata": {},
     "output_type": "execute_result"
    }
   ],
   "source": [
    "train.head()"
   ]
  },
  {
   "cell_type": "code",
   "execution_count": null,
   "metadata": {},
   "outputs": [],
   "source": []
  },
  {
   "cell_type": "code",
   "execution_count": 120,
   "metadata": {},
   "outputs": [
    {
     "data": {
      "text/html": [
       "<div>\n",
       "<style scoped>\n",
       "    .dataframe tbody tr th:only-of-type {\n",
       "        vertical-align: middle;\n",
       "    }\n",
       "\n",
       "    .dataframe tbody tr th {\n",
       "        vertical-align: top;\n",
       "    }\n",
       "\n",
       "    .dataframe thead th {\n",
       "        text-align: right;\n",
       "    }\n",
       "</style>\n",
       "<table border=\"1\" class=\"dataframe\">\n",
       "  <thead>\n",
       "    <tr style=\"text-align: right;\">\n",
       "      <th></th>\n",
       "      <th>Id</th>\n",
       "      <th>Elevation</th>\n",
       "      <th>Aspect</th>\n",
       "      <th>Slope</th>\n",
       "      <th>Horizontal_Distance_To_Hydrology</th>\n",
       "      <th>Vertical_Distance_To_Hydrology</th>\n",
       "      <th>Horizontal_Distance_To_Roadways</th>\n",
       "      <th>Hillshade_9am</th>\n",
       "      <th>Hillshade_Noon</th>\n",
       "      <th>Hillshade_3pm</th>\n",
       "      <th>Horizontal_Distance_To_Fire_Points</th>\n",
       "      <th>Wilderness_Area1</th>\n",
       "      <th>Wilderness_Area2</th>\n",
       "      <th>Wilderness_Area3</th>\n",
       "      <th>Wilderness_Area4</th>\n",
       "      <th>Soil_Type1</th>\n",
       "      <th>Soil_Type2</th>\n",
       "      <th>Soil_Type3</th>\n",
       "      <th>Soil_Type4</th>\n",
       "      <th>Soil_Type5</th>\n",
       "    </tr>\n",
       "  </thead>\n",
       "  <tbody>\n",
       "    <tr>\n",
       "      <th>count</th>\n",
       "      <td>15120.00</td>\n",
       "      <td>15120.00</td>\n",
       "      <td>15120.00</td>\n",
       "      <td>15120.00</td>\n",
       "      <td>15120.00</td>\n",
       "      <td>15120.00</td>\n",
       "      <td>15120.00</td>\n",
       "      <td>15120.00</td>\n",
       "      <td>15120.00</td>\n",
       "      <td>15120.00</td>\n",
       "      <td>15120.00</td>\n",
       "      <td>15120.00</td>\n",
       "      <td>15120.00</td>\n",
       "      <td>15120.00</td>\n",
       "      <td>15120.00</td>\n",
       "      <td>15120.00</td>\n",
       "      <td>15120.00</td>\n",
       "      <td>15120.00</td>\n",
       "      <td>15120.00</td>\n",
       "      <td>15120.00</td>\n",
       "    </tr>\n",
       "    <tr>\n",
       "      <th>mean</th>\n",
       "      <td>7560.50</td>\n",
       "      <td>0.45</td>\n",
       "      <td>0.44</td>\n",
       "      <td>0.32</td>\n",
       "      <td>0.17</td>\n",
       "      <td>0.28</td>\n",
       "      <td>0.25</td>\n",
       "      <td>0.84</td>\n",
       "      <td>0.77</td>\n",
       "      <td>0.54</td>\n",
       "      <td>0.22</td>\n",
       "      <td>0.24</td>\n",
       "      <td>0.03</td>\n",
       "      <td>0.42</td>\n",
       "      <td>0.31</td>\n",
       "      <td>0.02</td>\n",
       "      <td>0.04</td>\n",
       "      <td>0.06</td>\n",
       "      <td>0.06</td>\n",
       "      <td>0.01</td>\n",
       "    </tr>\n",
       "    <tr>\n",
       "      <th>std</th>\n",
       "      <td>4364.91</td>\n",
       "      <td>0.21</td>\n",
       "      <td>0.31</td>\n",
       "      <td>0.16</td>\n",
       "      <td>0.16</td>\n",
       "      <td>0.09</td>\n",
       "      <td>0.19</td>\n",
       "      <td>0.12</td>\n",
       "      <td>0.15</td>\n",
       "      <td>0.19</td>\n",
       "      <td>0.16</td>\n",
       "      <td>0.43</td>\n",
       "      <td>0.18</td>\n",
       "      <td>0.49</td>\n",
       "      <td>0.46</td>\n",
       "      <td>0.15</td>\n",
       "      <td>0.20</td>\n",
       "      <td>0.24</td>\n",
       "      <td>0.23</td>\n",
       "      <td>0.10</td>\n",
       "    </tr>\n",
       "    <tr>\n",
       "      <th>min</th>\n",
       "      <td>1.00</td>\n",
       "      <td>0.00</td>\n",
       "      <td>0.00</td>\n",
       "      <td>0.00</td>\n",
       "      <td>0.00</td>\n",
       "      <td>0.00</td>\n",
       "      <td>0.00</td>\n",
       "      <td>0.00</td>\n",
       "      <td>0.00</td>\n",
       "      <td>0.00</td>\n",
       "      <td>0.00</td>\n",
       "      <td>0.00</td>\n",
       "      <td>0.00</td>\n",
       "      <td>0.00</td>\n",
       "      <td>0.00</td>\n",
       "      <td>0.00</td>\n",
       "      <td>0.00</td>\n",
       "      <td>0.00</td>\n",
       "      <td>0.00</td>\n",
       "      <td>0.00</td>\n",
       "    </tr>\n",
       "    <tr>\n",
       "      <th>25%</th>\n",
       "      <td>3780.75</td>\n",
       "      <td>0.26</td>\n",
       "      <td>0.18</td>\n",
       "      <td>0.19</td>\n",
       "      <td>0.05</td>\n",
       "      <td>0.22</td>\n",
       "      <td>0.11</td>\n",
       "      <td>0.77</td>\n",
       "      <td>0.70</td>\n",
       "      <td>0.43</td>\n",
       "      <td>0.10</td>\n",
       "      <td>0.00</td>\n",
       "      <td>0.00</td>\n",
       "      <td>0.00</td>\n",
       "      <td>0.00</td>\n",
       "      <td>0.00</td>\n",
       "      <td>0.00</td>\n",
       "      <td>0.00</td>\n",
       "      <td>0.00</td>\n",
       "      <td>0.00</td>\n",
       "    </tr>\n",
       "    <tr>\n",
       "      <th>50%</th>\n",
       "      <td>7560.50</td>\n",
       "      <td>0.45</td>\n",
       "      <td>0.35</td>\n",
       "      <td>0.29</td>\n",
       "      <td>0.13</td>\n",
       "      <td>0.25</td>\n",
       "      <td>0.19</td>\n",
       "      <td>0.87</td>\n",
       "      <td>0.80</td>\n",
       "      <td>0.56</td>\n",
       "      <td>0.18</td>\n",
       "      <td>0.00</td>\n",
       "      <td>0.00</td>\n",
       "      <td>0.00</td>\n",
       "      <td>0.00</td>\n",
       "      <td>0.00</td>\n",
       "      <td>0.00</td>\n",
       "      <td>0.00</td>\n",
       "      <td>0.00</td>\n",
       "      <td>0.00</td>\n",
       "    </tr>\n",
       "    <tr>\n",
       "      <th>75%</th>\n",
       "      <td>11340.25</td>\n",
       "      <td>0.62</td>\n",
       "      <td>0.72</td>\n",
       "      <td>0.42</td>\n",
       "      <td>0.25</td>\n",
       "      <td>0.32</td>\n",
       "      <td>0.33</td>\n",
       "      <td>0.93</td>\n",
       "      <td>0.88</td>\n",
       "      <td>0.67</td>\n",
       "      <td>0.28</td>\n",
       "      <td>0.00</td>\n",
       "      <td>0.00</td>\n",
       "      <td>1.00</td>\n",
       "      <td>1.00</td>\n",
       "      <td>0.00</td>\n",
       "      <td>0.00</td>\n",
       "      <td>0.00</td>\n",
       "      <td>0.00</td>\n",
       "      <td>0.00</td>\n",
       "    </tr>\n",
       "    <tr>\n",
       "      <th>max</th>\n",
       "      <td>15120.00</td>\n",
       "      <td>1.00</td>\n",
       "      <td>1.00</td>\n",
       "      <td>1.00</td>\n",
       "      <td>1.00</td>\n",
       "      <td>1.00</td>\n",
       "      <td>1.00</td>\n",
       "      <td>1.00</td>\n",
       "      <td>1.00</td>\n",
       "      <td>1.00</td>\n",
       "      <td>1.00</td>\n",
       "      <td>1.00</td>\n",
       "      <td>1.00</td>\n",
       "      <td>1.00</td>\n",
       "      <td>1.00</td>\n",
       "      <td>1.00</td>\n",
       "      <td>1.00</td>\n",
       "      <td>1.00</td>\n",
       "      <td>1.00</td>\n",
       "      <td>1.00</td>\n",
       "    </tr>\n",
       "  </tbody>\n",
       "</table>\n",
       "</div>"
      ],
      "text/plain": [
       "             Id  Elevation    Aspect     Slope  \\\n",
       "count  15120.00   15120.00  15120.00  15120.00   \n",
       "mean    7560.50       0.45      0.44      0.32   \n",
       "std     4364.91       0.21      0.31      0.16   \n",
       "min        1.00       0.00      0.00      0.00   \n",
       "25%     3780.75       0.26      0.18      0.19   \n",
       "50%     7560.50       0.45      0.35      0.29   \n",
       "75%    11340.25       0.62      0.72      0.42   \n",
       "max    15120.00       1.00      1.00      1.00   \n",
       "\n",
       "       Horizontal_Distance_To_Hydrology  Vertical_Distance_To_Hydrology  \\\n",
       "count                          15120.00                        15120.00   \n",
       "mean                               0.17                            0.28   \n",
       "std                                0.16                            0.09   \n",
       "min                                0.00                            0.00   \n",
       "25%                                0.05                            0.22   \n",
       "50%                                0.13                            0.25   \n",
       "75%                                0.25                            0.32   \n",
       "max                                1.00                            1.00   \n",
       "\n",
       "       Horizontal_Distance_To_Roadways  Hillshade_9am  Hillshade_Noon  \\\n",
       "count                         15120.00       15120.00        15120.00   \n",
       "mean                              0.25           0.84            0.77   \n",
       "std                               0.19           0.12            0.15   \n",
       "min                               0.00           0.00            0.00   \n",
       "25%                               0.11           0.77            0.70   \n",
       "50%                               0.19           0.87            0.80   \n",
       "75%                               0.33           0.93            0.88   \n",
       "max                               1.00           1.00            1.00   \n",
       "\n",
       "       Hillshade_3pm  Horizontal_Distance_To_Fire_Points  Wilderness_Area1  \\\n",
       "count       15120.00                            15120.00          15120.00   \n",
       "mean            0.54                                0.22              0.24   \n",
       "std             0.19                                0.16              0.43   \n",
       "min             0.00                                0.00              0.00   \n",
       "25%             0.43                                0.10              0.00   \n",
       "50%             0.56                                0.18              0.00   \n",
       "75%             0.67                                0.28              0.00   \n",
       "max             1.00                                1.00              1.00   \n",
       "\n",
       "       Wilderness_Area2  Wilderness_Area3  Wilderness_Area4  Soil_Type1  \\\n",
       "count          15120.00          15120.00          15120.00    15120.00   \n",
       "mean               0.03              0.42              0.31        0.02   \n",
       "std                0.18              0.49              0.46        0.15   \n",
       "min                0.00              0.00              0.00        0.00   \n",
       "25%                0.00              0.00              0.00        0.00   \n",
       "50%                0.00              0.00              0.00        0.00   \n",
       "75%                0.00              1.00              1.00        0.00   \n",
       "max                1.00              1.00              1.00        1.00   \n",
       "\n",
       "       Soil_Type2  Soil_Type3  Soil_Type4  Soil_Type5  \n",
       "count    15120.00    15120.00    15120.00    15120.00  \n",
       "mean         0.04        0.06        0.06        0.01  \n",
       "std          0.20        0.24        0.23        0.10  \n",
       "min          0.00        0.00        0.00        0.00  \n",
       "25%          0.00        0.00        0.00        0.00  \n",
       "50%          0.00        0.00        0.00        0.00  \n",
       "75%          0.00        0.00        0.00        0.00  \n",
       "max          1.00        1.00        1.00        1.00  "
      ]
     },
     "execution_count": 120,
     "metadata": {},
     "output_type": "execute_result"
    }
   ],
   "source": [
    "train.iloc[:, :20].describe().round(2)"
   ]
  },
  {
   "cell_type": "code",
   "execution_count": null,
   "metadata": {},
   "outputs": [],
   "source": []
  },
  {
   "cell_type": "code",
   "execution_count": 126,
   "metadata": {},
   "outputs": [
    {
     "data": {
      "text/plain": [
       "Cover_Type          1.000000\n",
       "Soil_Type38         0.257810\n",
       "Soil_Type39         0.240384\n",
       "Wilderness_Area1    0.230117\n",
       "Soil_Type29         0.218564\n",
       "Soil_Type40         0.205851\n",
       "Soil_Type22         0.195993\n",
       "dtype: float64"
      ]
     },
     "execution_count": 126,
     "metadata": {},
     "output_type": "execute_result"
    }
   ],
   "source": [
    "abs(train.corrwith(train['Cover_Type'])).sort_values(ascending=False).head(7)"
   ]
  },
  {
   "cell_type": "code",
   "execution_count": 136,
   "metadata": {},
   "outputs": [],
   "source": [
    "correlatio = train[['Cover_Type','Soil_Type38', 'Soil_Type39', 'Wilderness_Area1', 'Soil_Type29', 'Soil_Type40', 'Soil_Type22']]"
   ]
  },
  {
   "cell_type": "code",
   "execution_count": 137,
   "metadata": {},
   "outputs": [
    {
     "data": {
      "text/plain": [
       "<AxesSubplot:>"
      ]
     },
     "execution_count": 137,
     "metadata": {},
     "output_type": "execute_result"
    },
    {
     "data": {
      "image/png": "[encoded data removed]",
      "text/plain": [
       "<Figure size 432x288 with 2 Axes>"
      ]
     },
     "metadata": {},
     "output_type": "display_data"
    }
   ],
   "source": [
    "sns.heatmap(correlatio.corr(), annot=True)"
   ]
  },
  {
   "cell_type": "code",
   "execution_count": null,
   "metadata": {},
   "outputs": [],
   "source": [
    "# Soil_Type38         0.257810\n",
    "# Soil_Type39         0.240384\n",
    "# Wilderness_Area1    0.230117"
   ]
  },
  {
   "cell_type": "code",
   "execution_count": null,
   "metadata": {},
   "outputs": [],
   "source": []
  },
  {
   "cell_type": "code",
   "execution_count": 132,
   "metadata": {},
   "outputs": [
    {
     "name": "stderr",
     "output_type": "stream",
     "text": [
      "c:\\Users\\IRENE\\AppData\\Local\\Programs\\Python\\Python37\\lib\\site-packages\\statsmodels\\stats\\outliers_influence.py:195: RuntimeWarning: divide by zero encountered in double_scalars\n",
      "  vif = 1. / (1. - r_squared_i)\n",
      "c:\\Users\\IRENE\\AppData\\Local\\Programs\\Python\\Python37\\lib\\site-packages\\statsmodels\\regression\\linear_model.py:1736: RuntimeWarning: invalid value encountered in double_scalars\n",
      "  return 1 - self.ssr/self.centered_tss\n"
     ]
    },
    {
     "name": "stdout",
     "output_type": "stream",
     "text": [
      "                               feature         VIF\n",
      "0                                   Id    1.395556\n",
      "1                            Elevation   12.210669\n",
      "2                               Aspect    1.958110\n",
      "3                                Slope    9.372777\n",
      "4     Horizontal_Distance_To_Hydrology    2.459628\n",
      "5       Vertical_Distance_To_Hydrology    2.247968\n",
      "6      Horizontal_Distance_To_Roadways    2.094913\n",
      "7                        Hillshade_9am  121.233223\n",
      "8                       Hillshade_Noon   46.393454\n",
      "9                        Hillshade_3pm  183.408121\n",
      "10  Horizontal_Distance_To_Fire_Points    1.739212\n",
      "11                    Wilderness_Area1         inf\n",
      "12                    Wilderness_Area2         inf\n",
      "13                    Wilderness_Area3         inf\n",
      "14                    Wilderness_Area4         inf\n",
      "15                          Soil_Type1         inf\n",
      "16                          Soil_Type2         inf\n",
      "17                          Soil_Type3         inf\n",
      "18                          Soil_Type4         inf\n",
      "19                          Soil_Type5         inf\n",
      "20                          Soil_Type6         inf\n",
      "21                          Soil_Type7         NaN\n",
      "22                          Soil_Type8         inf\n",
      "23                          Soil_Type9         inf\n",
      "24                         Soil_Type10         inf\n",
      "25                         Soil_Type11         inf\n",
      "26                         Soil_Type12         inf\n",
      "27                         Soil_Type13         inf\n",
      "28                         Soil_Type14         inf\n",
      "29                         Soil_Type15         NaN\n",
      "30                         Soil_Type16         inf\n",
      "31                         Soil_Type17         inf\n",
      "32                         Soil_Type18         inf\n",
      "33                         Soil_Type19         inf\n",
      "34                         Soil_Type20         inf\n",
      "35                         Soil_Type21         inf\n",
      "36                         Soil_Type22         inf\n",
      "37                         Soil_Type23         inf\n",
      "38                         Soil_Type24         inf\n",
      "39                         Soil_Type25         inf\n",
      "40                         Soil_Type26         inf\n",
      "41                         Soil_Type27         inf\n",
      "42                         Soil_Type28         inf\n",
      "43                         Soil_Type29         inf\n",
      "44                         Soil_Type30         inf\n",
      "45                         Soil_Type31         inf\n",
      "46                         Soil_Type32         inf\n",
      "47                         Soil_Type33         inf\n",
      "48                         Soil_Type34         inf\n",
      "49                         Soil_Type35         inf\n",
      "50                         Soil_Type36         inf\n",
      "51                         Soil_Type37         inf\n",
      "52                         Soil_Type38         inf\n",
      "53                         Soil_Type39         inf\n",
      "54                         Soil_Type40         inf\n"
     ]
    }
   ],
   "source": [
    "# from statsmodels.stats.outliers_influence import variance_inflation_factor\n",
    "\n",
    "\n",
    "# X, y = train.drop(\"Cover_Type\", axis=1), train[\"Cover_Type\"]\n",
    "\n",
    "# # VIF dataframe\n",
    "# vif_data = pd.DataFrame()\n",
    "# vif_data[\"feature\"] = X.columns\n",
    "  \n",
    "# # calculating VIF for each feature\n",
    "# vif_data[\"VIF\"] = [variance_inflation_factor(X.values, i)\n",
    "#                           for i in range(len(X.columns))]\n",
    "  \n",
    "# print(vif_data)"
   ]
  },
  {
   "cell_type": "code",
   "execution_count": null,
   "metadata": {},
   "outputs": [],
   "source": []
  },
  {
   "cell_type": "markdown",
   "metadata": {},
   "source": [
    "- create new features from those"
   ]
  },
  {
   "cell_type": "code",
   "execution_count": 54,
   "metadata": {},
   "outputs": [],
   "source": [
    "# none works, NO RELATED with feat with corr\n",
    "# # add new features from feature engineering\n",
    "# train['Elev_to_Horizontal_Hyd'] = train.Elevation - 0.2 * train.Horizontal_Distance_To_Hydrology \n",
    "# train['Elev_to_Horizontal_Road'] = train.Elevation - 0.05 * train.Horizontal_Distance_To_Roadways  \n",
    "# train['Elev_to_Verticle_Hyd'] = train.Elevation - train.Vertical_Distance_To_Hydrology \n",
    "# train['Mean_Horizontal_Dist'] = (train.Horizontal_Distance_To_Fire_Points + train.Horizontal_Distance_To_Hydrology + \n",
    "#                                  train.Horizontal_Distance_To_Roadways)/3 \n",
    "# train['Mean_Fire_Hydro'] = (train.Horizontal_Distance_To_Fire_Points + train.Horizontal_Distance_To_Hydrology)/2"
   ]
  },
  {
   "cell_type": "code",
   "execution_count": null,
   "metadata": {},
   "outputs": [],
   "source": []
  },
  {
   "cell_type": "code",
   "execution_count": 122,
   "metadata": {},
   "outputs": [
    {
     "name": "stderr",
     "output_type": "stream",
     "text": [
      "c:\\Users\\IRENE\\AppData\\Local\\Programs\\Python\\Python37\\lib\\site-packages\\statsmodels\\stats\\outliers_influence.py:195: RuntimeWarning: divide by zero encountered in double_scalars\n",
      "  vif = 1. / (1. - r_squared_i)\n",
      "c:\\Users\\IRENE\\AppData\\Local\\Programs\\Python\\Python37\\lib\\site-packages\\statsmodels\\regression\\linear_model.py:1736: RuntimeWarning: invalid value encountered in double_scalars\n",
      "  return 1 - self.ssr/self.centered_tss\n"
     ]
    },
    {
     "data": {
      "text/html": [
       "<div>\n",
       "<style scoped>\n",
       "    .dataframe tbody tr th:only-of-type {\n",
       "        vertical-align: middle;\n",
       "    }\n",
       "\n",
       "    .dataframe tbody tr th {\n",
       "        vertical-align: top;\n",
       "    }\n",
       "\n",
       "    .dataframe thead th {\n",
       "        text-align: right;\n",
       "    }\n",
       "</style>\n",
       "<table border=\"1\" class=\"dataframe\">\n",
       "  <thead>\n",
       "    <tr style=\"text-align: right;\">\n",
       "      <th></th>\n",
       "      <th>feature</th>\n",
       "      <th>VIF</th>\n",
       "      <th>corr_target</th>\n",
       "    </tr>\n",
       "  </thead>\n",
       "  <tbody>\n",
       "  </tbody>\n",
       "</table>\n",
       "</div>"
      ],
      "text/plain": [
       "Empty DataFrame\n",
       "Columns: [feature, VIF, corr_target]\n",
       "Index: []"
      ]
     },
     "execution_count": 122,
     "metadata": {},
     "output_type": "execute_result"
    }
   ],
   "source": [
    "# from statsmodels.stats.outliers_influence import variance_inflation_factor\n",
    "# # the independent variables set\n",
    "# X, y = train.drop(\"Cover_Type\", axis=1), train[\"Cover_Type\"]\n",
    "\n",
    "# # VIF dataframe\n",
    "# vif_data = pd.DataFrame()\n",
    "# vif_data[\"feature\"] = X.columns\n",
    "  \n",
    "# # calculating VIF for each feature\n",
    "# vif_data[\"VIF\"] = [variance_inflation_factor(X.values, i)\n",
    "#                           for i in range(len(X.columns))]\n",
    "  \n",
    "# cor = pd.DataFrame(data=train.copy().corrwith(train['Cover_Type']))\n",
    "# cor['feature'] = cor.index\n",
    "# cor.rename(columns = {0:'corr_target'}, inplace = True)\n",
    "\n",
    "# feat_cor = pd.merge(vif_data, cor, on=\"feature\")\n",
    "# # feat_cor.head()\n",
    "# best_feat = feat_cor[(feat_cor['VIF'] < 7) & (feat_cor['corr_target'] > 0.2)]\n",
    "# best_feat"
   ]
  },
  {
   "cell_type": "code",
   "execution_count": null,
   "metadata": {},
   "outputs": [],
   "source": []
  },
  {
   "cell_type": "code",
   "execution_count": null,
   "metadata": {},
   "outputs": [],
   "source": []
  },
  {
   "cell_type": "code",
   "execution_count": null,
   "metadata": {},
   "outputs": [],
   "source": []
  },
  {
   "cell_type": "code",
   "execution_count": null,
   "metadata": {},
   "outputs": [],
   "source": []
  },
  {
   "cell_type": "code",
   "execution_count": null,
   "metadata": {},
   "outputs": [],
   "source": []
  },
  {
   "cell_type": "code",
   "execution_count": null,
   "metadata": {},
   "outputs": [],
   "source": []
  },
  {
   "cell_type": "code",
   "execution_count": null,
   "metadata": {},
   "outputs": [],
   "source": []
  }
 ],
 "metadata": {
  "kernelspec": {
   "display_name": "Python 3.7.4 64-bit",
   "language": "python",
   "name": "python3"
  },
  "language_info": {
   "codemirror_mode": {
    "name": "ipython",
    "version": 3
   },
   "file_extension": ".py",
   "mimetype": "text/x-python",
   "name": "python",
   "nbconvert_exporter": "python",
   "pygments_lexer": "ipython3",
   "version": "3.7.4"
  },
  "orig_nbformat": 4,
  "vscode": {
   "interpreter": {
    "hash": "f9d13b5290330b663afaff99531415167a1442545ab466441da89c47cd128532"
   }
  }
 },
 "nbformat": 4,
 "nbformat_minor": 2
}
