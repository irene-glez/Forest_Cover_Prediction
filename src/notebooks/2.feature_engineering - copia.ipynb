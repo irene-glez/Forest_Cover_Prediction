{
 "cells": [
  {
   "cell_type": "code",
   "execution_count": 1,
   "metadata": {},
   "outputs": [],
   "source": [
    "import numpy as np\n",
    "import pandas as pd\n",
    "\n",
    "import phik\n",
    "import math\n",
    "\n",
    "import matplotlib.pyplot as plt \n",
    "import seaborn as sns \n",
    "\n",
    "from scipy.stats import skew\n",
    "from sklearn.preprocessing import MinMaxScaler\n",
    "from sklearn.decomposition import PCA\n",
    "from sklearn.model_selection import train_test_split\n",
    "# from sklearn.model_selection import cross_val_score, GridSearchCV, RandomizedSearchCV, RepeatedKFold\n",
    "# from sklearn.metrics import accuracy_score, precision_score, recall_score, f1_score, classification_report, confusion_matrix\n",
    "from sklearn.preprocessing import StandardScaler, RobustScaler\n",
    "from sklearn.feature_selection import SelectKBest\n",
    "\n",
    "from sklearn.ensemble import RandomForestClassifier\n",
    "from sklearn.ensemble import AdaBoostClassifier, GradientBoostingClassifier, ExtraTreesClassifier\n",
    "import lightgbm as lgb\n",
    "from sklearn.neighbors import KNeighborsClassifier\n",
    "from sklearn.svm import LinearSVC\n",
    "\n",
    "%matplotlib inline\n",
    "\n",
    "sns.set_style('whitegrid')\n",
    "plt.style.use(\"fivethirtyeight\")"
   ]
  },
  {
   "cell_type": "code",
   "execution_count": 2,
   "metadata": {},
   "outputs": [
    {
     "data": {
      "text/plain": [
       "(565892, 55)"
      ]
     },
     "execution_count": 2,
     "metadata": {},
     "output_type": "execute_result"
    }
   ],
   "source": [
    "test = pd.read_csv('../data/test.csv')\n",
    "test.shape"
   ]
  },
  {
   "cell_type": "code",
   "execution_count": 2,
   "metadata": {},
   "outputs": [
    {
     "data": {
      "text/plain": [
       "(15120, 56)"
      ]
     },
     "execution_count": 2,
     "metadata": {},
     "output_type": "execute_result"
    }
   ],
   "source": [
    "train = pd.read_csv('../data/train.csv')\n",
    "train.shape"
   ]
  },
  {
   "cell_type": "markdown",
   "metadata": {},
   "source": [
    "## 1. Conclusions from the previous EDA:\n",
    "\n",
    "- there's two types of quantitative/numerical data: continuous and discrete (binary)\n",
    "- the dataset is free of nulls and duplicates\n",
    "- the features 'Elevation', 'Horizontal Distance To Fire Points' and 'Horizontal Distance To Roadways' present high cardinality, but not enough to be removed\n",
    "- only 'Vertical Distance To Hydrology' has negative values\n",
    "- there's two colums ('Soil Type15' and 'Soil Type7') only with 0s\n",
    "- few features have correlation with the target\n",
    "- the target is perfectly balanced"
   ]
  },
  {
   "cell_type": "markdown",
   "metadata": {},
   "source": [
    "## 2. Outliers:"
   ]
  },
  {
   "cell_type": "code",
   "execution_count": 7,
   "metadata": {},
   "outputs": [],
   "source": [
    "def number_of_outliers(df):\n",
    "    \n",
    "    df = df.select_dtypes(exclude = 'object')\n",
    "    \n",
    "    Q1 = df.quantile(0.25)\n",
    "    Q3 = df.quantile(0.75)\n",
    "    IQR = Q3 - Q1\n",
    "    \n",
    "    return ((df < (Q1 - 1.5 * IQR)) | (df > (Q3 + 1.5 * IQR))).sum()"
   ]
  },
  {
   "cell_type": "code",
   "execution_count": 8,
   "metadata": {},
   "outputs": [
    {
     "data": {
      "text/plain": [
       "Soil_Type32                         690\n",
       "Soil_Type30                         725\n",
       "Soil_Type38                         728\n",
       "Soil_Type23                         757\n",
       "Horizontal_Distance_To_Roadways     830\n",
       "Soil_Type4                          843\n",
       "Soil_Type3                          962\n",
       "Soil_Type29                        1291\n",
       "Soil_Type10                        2142\n",
       "Wilderness_Area1                   3597\n",
       "dtype: int64"
      ]
     },
     "execution_count": 8,
     "metadata": {},
     "output_type": "execute_result"
    }
   ],
   "source": [
    "number_of_outliers(train).sort_values().tail(10)"
   ]
  },
  {
   "cell_type": "code",
   "execution_count": 13,
   "metadata": {},
   "outputs": [
    {
     "name": "stdout",
     "output_type": "stream",
     "text": [
      "outliers in Wilderness_Area1: 0.23789682539682538 %\n"
     ]
    }
   ],
   "source": [
    "print('outliers in Wilderness Area 1: ' + str(3597/len(train)) + ' %')"
   ]
  },
  {
   "cell_type": "markdown",
   "metadata": {},
   "source": [
    " - As the outliers reflect the amplitude of the forest, we decide to keep them, and to choose outlier robust algorithms based in decision trees. "
   ]
  },
  {
   "cell_type": "markdown",
   "metadata": {},
   "source": [
    "## 2. Drop features with constant (or almost constant) values and id"
   ]
  },
  {
   "cell_type": "code",
   "execution_count": 3,
   "metadata": {},
   "outputs": [
    {
     "data": {
      "text/plain": [
       "(15120, 56)"
      ]
     },
     "execution_count": 3,
     "metadata": {},
     "output_type": "execute_result"
    }
   ],
   "source": [
    "train.shape"
   ]
  },
  {
   "cell_type": "code",
   "execution_count": 3,
   "metadata": {},
   "outputs": [
    {
     "data": {
      "text/plain": [
       "Soil_Type7       0\n",
       "Soil_Type15      0\n",
       "Soil_Type25      1\n",
       "Soil_Type8       1\n",
       "Soil_Type28      9\n",
       "Soil_Type36     10\n",
       "Soil_Type9      10\n",
       "Soil_Type27     15\n",
       "Soil_Type21     16\n",
       "Soil_Type34     22\n",
       "Soil_Type37     34\n",
       "Soil_Type19     46\n",
       "Soil_Type26     54\n",
       "Soil_Type18     60\n",
       "Soil_Type35    102\n",
       "Soil_Type16    114\n",
       "Soil_Type20    139\n",
       "Soil_Type5     165\n",
       "Soil_Type14    169\n",
       "Soil_Type12    227\n",
       "dtype: int64"
      ]
     },
     "execution_count": 3,
     "metadata": {},
     "output_type": "execute_result"
    }
   ],
   "source": [
    "train.sum().sort_values().head(20)"
   ]
  },
  {
   "cell_type": "code",
   "execution_count": 4,
   "metadata": {},
   "outputs": [
    {
     "data": {
      "text/plain": [
       "(15120, 41)"
      ]
     },
     "execution_count": 4,
     "metadata": {},
     "output_type": "execute_result"
    }
   ],
   "source": [
    "df = train.drop(columns= ['Soil_Type7', 'Soil_Type15', 'Soil_Type25', 'Soil_Type8', 'Soil_Type28', 'Soil_Type36', 'Soil_Type9', 'Soil_Type27', \n",
    "'Soil_Type21', 'Soil_Type34', 'Soil_Type37', 'Soil_Type19','Soil_Type26', 'Soil_Type18','Id'])\n",
    "df.shape"
   ]
  },
  {
   "cell_type": "markdown",
   "metadata": {},
   "source": [
    "## 3. Correlations:"
   ]
  },
  {
   "cell_type": "code",
   "execution_count": 5,
   "metadata": {},
   "outputs": [],
   "source": [
    "train = df"
   ]
  },
  {
   "cell_type": "markdown",
   "metadata": {},
   "source": [
    " - Pearson correlation:"
   ]
  },
  {
   "cell_type": "code",
   "execution_count": 6,
   "metadata": {},
   "outputs": [
    {
     "data": {
      "text/plain": [
       "Soil_Type24                        0.100797\n",
       "Horizontal_Distance_To_Roadways    0.105662\n",
       "Soil_Type35                        0.114327\n",
       "Wilderness_Area3                   0.122146\n",
       "Soil_Type10                        0.128972\n",
       "Soil_Type12                        0.129985\n",
       "Soil_Type32                        0.132312\n",
       "Soil_Type23                        0.158762\n",
       "Soil_Type22                        0.195993\n",
       "Soil_Type40                        0.205851\n",
       "Soil_Type29                        0.218564\n",
       "Wilderness_Area1                   0.230117\n",
       "Soil_Type39                        0.240384\n",
       "Soil_Type38                        0.257810\n",
       "Cover_Type                         1.000000\n",
       "dtype: float64"
      ]
     },
     "execution_count": 6,
     "metadata": {},
     "output_type": "execute_result"
    }
   ],
   "source": [
    "abs(train.corrwith(train['Cover_Type'])).sort_values().tail(15)"
   ]
  },
  {
   "cell_type": "code",
   "execution_count": 7,
   "metadata": {},
   "outputs": [
    {
     "data": {
      "text/plain": [
       "Soil_Type30    0.001393\n",
       "Soil_Type6     0.006521\n",
       "Aspect         0.008015\n",
       "Soil_Type16    0.008793\n",
       "Soil_Type11    0.010228\n",
       "dtype: float64"
      ]
     },
     "execution_count": 7,
     "metadata": {},
     "output_type": "execute_result"
    }
   ],
   "source": [
    "abs(train.corrwith(train['Cover_Type'])).sort_values().head()"
   ]
  },
  {
   "cell_type": "markdown",
   "metadata": {},
   "source": [
    "- Phik correlation:"
   ]
  },
  {
   "cell_type": "code",
   "execution_count": 8,
   "metadata": {},
   "outputs": [
    {
     "name": "stdout",
     "output_type": "stream",
     "text": [
      "interval columns not set, guessing: ['Elevation', 'Aspect', 'Slope', 'Horizontal_Distance_To_Hydrology', 'Vertical_Distance_To_Hydrology', 'Horizontal_Distance_To_Roadways', 'Hillshade_9am', 'Hillshade_Noon', 'Hillshade_3pm', 'Horizontal_Distance_To_Fire_Points', 'Wilderness_Area1', 'Wilderness_Area2', 'Wilderness_Area3', 'Wilderness_Area4', 'Soil_Type1', 'Soil_Type2', 'Soil_Type3', 'Soil_Type4', 'Soil_Type5', 'Soil_Type6', 'Soil_Type10', 'Soil_Type11', 'Soil_Type12', 'Soil_Type13', 'Soil_Type14', 'Soil_Type16', 'Soil_Type17', 'Soil_Type20', 'Soil_Type22', 'Soil_Type23', 'Soil_Type24', 'Soil_Type29', 'Soil_Type30', 'Soil_Type31', 'Soil_Type32', 'Soil_Type33', 'Soil_Type35', 'Soil_Type38', 'Soil_Type39', 'Soil_Type40', 'Cover_Type']\n"
     ]
    },
    {
     "data": {
      "text/plain": [
       "Cover_Type                            1.000000\n",
       "Elevation                             0.801070\n",
       "Wilderness_Area4                      0.754222\n",
       "Horizontal_Distance_To_Roadways       0.494676\n",
       "Soil_Type10                           0.492620\n",
       "Soil_Type3                            0.483691\n",
       "Wilderness_Area1                      0.483618\n",
       "Soil_Type38                           0.445401\n",
       "Horizontal_Distance_To_Fire_Points    0.440710\n",
       "Soil_Type39                           0.419907\n",
       "Wilderness_Area3                      0.361451\n",
       "Soil_Type40                           0.353390\n",
       "Soil_Type30                           0.326813\n",
       "Soil_Type29                           0.322441\n",
       "Horizontal_Distance_To_Hydrology      0.311203\n",
       "Hillshade_9am                         0.303495\n",
       "Hillshade_3pm                         0.292085\n",
       "Aspect                                0.291317\n",
       "Slope                                 0.281308\n",
       "Soil_Type4                            0.279328\n",
       "Soil_Type22                           0.271595\n",
       "Soil_Type17                           0.255233\n",
       "Soil_Type13                           0.251266\n",
       "Soil_Type23                           0.249768\n",
       "Soil_Type12                           0.248816\n",
       "Name: Cover_Type, dtype: float64"
      ]
     },
     "execution_count": 8,
     "metadata": {},
     "output_type": "execute_result"
    }
   ],
   "source": [
    "train.phik_matrix()['Cover_Type'].sort_values(ascending = False).head(25)"
   ]
  },
  {
   "cell_type": "code",
   "execution_count": 9,
   "metadata": {},
   "outputs": [
    {
     "name": "stdout",
     "output_type": "stream",
     "text": [
      "interval columns not set, guessing: ['Elevation', 'Aspect', 'Slope', 'Horizontal_Distance_To_Hydrology', 'Vertical_Distance_To_Hydrology', 'Horizontal_Distance_To_Roadways', 'Hillshade_9am', 'Hillshade_Noon', 'Hillshade_3pm', 'Horizontal_Distance_To_Fire_Points', 'Wilderness_Area1', 'Wilderness_Area2', 'Wilderness_Area3', 'Wilderness_Area4', 'Soil_Type1', 'Soil_Type2', 'Soil_Type3', 'Soil_Type4', 'Soil_Type5', 'Soil_Type6', 'Soil_Type10', 'Soil_Type11', 'Soil_Type12', 'Soil_Type13', 'Soil_Type14', 'Soil_Type16', 'Soil_Type17', 'Soil_Type20', 'Soil_Type22', 'Soil_Type23', 'Soil_Type24', 'Soil_Type29', 'Soil_Type30', 'Soil_Type31', 'Soil_Type32', 'Soil_Type33', 'Soil_Type35', 'Soil_Type38', 'Soil_Type39', 'Soil_Type40', 'Cover_Type']\n"
     ]
    },
    {
     "data": {
      "text/plain": [
       "Soil_Type31    0.135432\n",
       "Soil_Type11    0.133181\n",
       "Soil_Type5     0.117353\n",
       "Soil_Type20    0.097430\n",
       "Soil_Type16    0.070697\n",
       "Name: Cover_Type, dtype: float64"
      ]
     },
     "execution_count": 9,
     "metadata": {},
     "output_type": "execute_result"
    }
   ],
   "source": [
    "train.phik_matrix()['Cover_Type'].sort_values(ascending = False).tail()"
   ]
  },
  {
   "cell_type": "code",
   "execution_count": null,
   "metadata": {},
   "outputs": [],
   "source": [
    "# pearson\n",
    "# Soil_Type22                        0.195993\n",
    "# Soil_Type40                        0.205851\n",
    "# Soil_Type29                        0.218564\n",
    "# Wilderness_Area1                   0.230117\n",
    "# Soil_Type39                        0.240384\n",
    "# Soil_Type38                        0.257810\n",
    "\n",
    "# phik\n",
    "# Elevation                             0.801070\n",
    "# Wilderness_Area4                      0.754222\n",
    "# Horizontal_Distance_To_Roadways       0.494676\n",
    "# Soil_Type10                           0.492620\n",
    "# Soil_Type3                            0.483691\n",
    "# Wilderness_Area1                      0.483618\n",
    "# Soil_Type38                           0.445401\n",
    "# Horizontal_Distance_To_Fire_Points    0.440710\n",
    "# Soil_Type39                           0.419907\n",
    "# Wilderness_Area3                      0.361451\n",
    "# Soil_Type40                           0.353390\n",
    "# Soil_Type30                           0.326813\n",
    "# Soil_Type29                           0.322441\n",
    "# Horizontal_Distance_To_Hydrology      0.311203\n",
    "# Hillshade_9am                         0.303495\n",
    "# Hillshade_3pm                         0.292085\n",
    "# Aspect                                0.291317\n",
    "# Slope                                 0.281308\n",
    "# Soil_Type4                            0.279328\n",
    "# Soil_Type22                           0.271595\n",
    "# Soil_Type17                           0.255233\n",
    "# Soil_Type13                           0.251266\n",
    "# Soil_Type23                           0.249768\n",
    "# Soil_Type12                           0.248816"
   ]
  },
  {
   "cell_type": "markdown",
   "metadata": {},
   "source": [
    " - Thanks to the Phik correlation, we see that there are high correlations with the target, which helps us for the creation of new features."
   ]
  },
  {
   "cell_type": "markdown",
   "metadata": {},
   "source": [
    "## 4. Creation of new features:"
   ]
  },
  {
   "cell_type": "code",
   "execution_count": 10,
   "metadata": {},
   "outputs": [],
   "source": [
    "train['eDist_to_Hydrology'] = (train['Horizontal_Distance_To_Hydrology']**2 + train['Vertical_Distance_To_Hydrology']**2)**0.5 \n",
    "train['human_presence'] = train['Horizontal_Distance_To_Roadways'] + train['Horizontal_Distance_To_Fire_Points']\n",
    "train['Total_Hillshade_mean'] = (train['Hillshade_9am'] + train['Hillshade_3pm'] + train['Hillshade_Noon']) / 3\n",
    "train['Horizontal_Distance_To_Roadways_Log'] = [math.log(v+1) for v in train['Horizontal_Distance_To_Roadways']]\n",
    "train['Hillshade_Noon_Elevation_ratio'] = train['Hillshade_Noon']/(train['Elevation']+1)\n",
    "train['Hillshade_9am_Elevation_ratio'] = train['Hillshade_9am']/(train['Elevation']+1)\n"
   ]
  },
  {
   "cell_type": "code",
   "execution_count": 11,
   "metadata": {},
   "outputs": [
    {
     "name": "stdout",
     "output_type": "stream",
     "text": [
      "interval columns not set, guessing: ['Elevation', 'Aspect', 'Slope', 'Horizontal_Distance_To_Hydrology', 'Vertical_Distance_To_Hydrology', 'Horizontal_Distance_To_Roadways', 'Hillshade_9am', 'Hillshade_Noon', 'Hillshade_3pm', 'Horizontal_Distance_To_Fire_Points', 'Wilderness_Area1', 'Wilderness_Area2', 'Wilderness_Area3', 'Wilderness_Area4', 'Soil_Type1', 'Soil_Type2', 'Soil_Type3', 'Soil_Type4', 'Soil_Type5', 'Soil_Type6', 'Soil_Type10', 'Soil_Type11', 'Soil_Type12', 'Soil_Type13', 'Soil_Type14', 'Soil_Type16', 'Soil_Type17', 'Soil_Type20', 'Soil_Type22', 'Soil_Type23', 'Soil_Type24', 'Soil_Type29', 'Soil_Type30', 'Soil_Type31', 'Soil_Type32', 'Soil_Type33', 'Soil_Type35', 'Soil_Type38', 'Soil_Type39', 'Soil_Type40', 'Cover_Type', 'eDist_to_Hydrology', 'human_presence', 'Total_Hillshade_mean', 'Horizontal_Distance_To_Roadways_Log', 'Hillshade_Noon_Elevation_ratio', 'Hillshade_9am_Elevation_ratio']\n"
     ]
    },
    {
     "data": {
      "text/plain": [
       "Cover_Type                             1.000000\n",
       "Elevation                              0.801070\n",
       "Wilderness_Area4                       0.754222\n",
       "Hillshade_Noon_Elevation_ratio         0.617592\n",
       "Hillshade_9am_Elevation_ratio          0.616461\n",
       "human_presence                         0.527059\n",
       "Horizontal_Distance_To_Roadways        0.494676\n",
       "Soil_Type10                            0.492620\n",
       "Soil_Type3                             0.483691\n",
       "Wilderness_Area1                       0.483618\n",
       "Soil_Type38                            0.445401\n",
       "Horizontal_Distance_To_Fire_Points     0.440710\n",
       "Horizontal_Distance_To_Roadways_Log    0.434802\n",
       "Soil_Type39                            0.419907\n",
       "Wilderness_Area3                       0.361451\n",
       "Soil_Type40                            0.353390\n",
       "Soil_Type30                            0.326813\n",
       "Soil_Type29                            0.322441\n",
       "Horizontal_Distance_To_Hydrology       0.311203\n",
       "eDist_to_Hydrology                     0.308649\n",
       "Hillshade_9am                          0.303495\n",
       "Hillshade_3pm                          0.292085\n",
       "Aspect                                 0.291317\n",
       "Slope                                  0.281308\n",
       "Soil_Type4                             0.279328\n",
       "Name: Cover_Type, dtype: float64"
      ]
     },
     "execution_count": 11,
     "metadata": {},
     "output_type": "execute_result"
    }
   ],
   "source": [
    "train.phik_matrix()['Cover_Type'].sort_values(ascending = False).head(25)"
   ]
  },
  {
   "cell_type": "code",
   "execution_count": 47,
   "metadata": {},
   "outputs": [],
   "source": [
    "# train.to_csv('../data/train_newfeats.csv', index = False)"
   ]
  },
  {
   "cell_type": "code",
   "execution_count": null,
   "metadata": {},
   "outputs": [],
   "source": []
  },
  {
   "cell_type": "markdown",
   "metadata": {},
   "source": [
    "## 5. Transformations:"
   ]
  },
  {
   "cell_type": "code",
   "execution_count": 8,
   "metadata": {},
   "outputs": [],
   "source": [
    "#train = pd.read_csv('../data/train_newfeats.csv')"
   ]
  },
  {
   "cell_type": "code",
   "execution_count": 9,
   "metadata": {},
   "outputs": [
    {
     "name": "stdout",
     "output_type": "stream",
     "text": [
      "<class 'pandas.core.frame.DataFrame'>\n",
      "RangeIndex: 15120 entries, 0 to 15119\n",
      "Data columns (total 59 columns):\n",
      " #   Column                               Non-Null Count  Dtype  \n",
      "---  ------                               --------------  -----  \n",
      " 0   Elevation                            15120 non-null  int64  \n",
      " 1   Aspect                               15120 non-null  int64  \n",
      " 2   Slope                                15120 non-null  int64  \n",
      " 3   Horizontal_Distance_To_Hydrology     15120 non-null  int64  \n",
      " 4   Vertical_Distance_To_Hydrology       15120 non-null  int64  \n",
      " 5   Horizontal_Distance_To_Roadways      15120 non-null  int64  \n",
      " 6   Hillshade_9am                        15120 non-null  int64  \n",
      " 7   Hillshade_Noon                       15120 non-null  int64  \n",
      " 8   Hillshade_3pm                        15120 non-null  int64  \n",
      " 9   Horizontal_Distance_To_Fire_Points   15120 non-null  int64  \n",
      " 10  Wilderness_Area1                     15120 non-null  int64  \n",
      " 11  Wilderness_Area2                     15120 non-null  int64  \n",
      " 12  Wilderness_Area3                     15120 non-null  int64  \n",
      " 13  Wilderness_Area4                     15120 non-null  int64  \n",
      " 14  Soil_Type1                           15120 non-null  int64  \n",
      " 15  Soil_Type2                           15120 non-null  int64  \n",
      " 16  Soil_Type3                           15120 non-null  int64  \n",
      " 17  Soil_Type4                           15120 non-null  int64  \n",
      " 18  Soil_Type5                           15120 non-null  int64  \n",
      " 19  Soil_Type6                           15120 non-null  int64  \n",
      " 20  Soil_Type9                           15120 non-null  int64  \n",
      " 21  Soil_Type10                          15120 non-null  int64  \n",
      " 22  Soil_Type11                          15120 non-null  int64  \n",
      " 23  Soil_Type12                          15120 non-null  int64  \n",
      " 24  Soil_Type13                          15120 non-null  int64  \n",
      " 25  Soil_Type14                          15120 non-null  int64  \n",
      " 26  Soil_Type16                          15120 non-null  int64  \n",
      " 27  Soil_Type17                          15120 non-null  int64  \n",
      " 28  Soil_Type18                          15120 non-null  int64  \n",
      " 29  Soil_Type19                          15120 non-null  int64  \n",
      " 30  Soil_Type20                          15120 non-null  int64  \n",
      " 31  Soil_Type21                          15120 non-null  int64  \n",
      " 32  Soil_Type22                          15120 non-null  int64  \n",
      " 33  Soil_Type23                          15120 non-null  int64  \n",
      " 34  Soil_Type24                          15120 non-null  int64  \n",
      " 35  Soil_Type26                          15120 non-null  int64  \n",
      " 36  Soil_Type27                          15120 non-null  int64  \n",
      " 37  Soil_Type28                          15120 non-null  int64  \n",
      " 38  Soil_Type29                          15120 non-null  int64  \n",
      " 39  Soil_Type30                          15120 non-null  int64  \n",
      " 40  Soil_Type31                          15120 non-null  int64  \n",
      " 41  Soil_Type32                          15120 non-null  int64  \n",
      " 42  Soil_Type33                          15120 non-null  int64  \n",
      " 43  Soil_Type34                          15120 non-null  int64  \n",
      " 44  Soil_Type35                          15120 non-null  int64  \n",
      " 45  Soil_Type36                          15120 non-null  int64  \n",
      " 46  Soil_Type37                          15120 non-null  int64  \n",
      " 47  Soil_Type38                          15120 non-null  int64  \n",
      " 48  Soil_Type39                          15120 non-null  int64  \n",
      " 49  Soil_Type40                          15120 non-null  int64  \n",
      " 50  Cover_Type                           15120 non-null  int64  \n",
      " 51  eDist_to_Hydrology                   15120 non-null  float64\n",
      " 52  human_presence                       15120 non-null  int64  \n",
      " 53  Total_Hillshade_mean                 15120 non-null  float64\n",
      " 54  Elevation_Aspect_ratio               15120 non-null  float64\n",
      " 55  Horizontal_Distance_To_Roadways_Log  15120 non-null  float64\n",
      " 56  Hillshade_Noon_Aspect_ratio          15120 non-null  float64\n",
      " 57  Hillshade_Noon_Elevation_ratio       15120 non-null  float64\n",
      " 58  Hillshade_9am_Elevation_ratio        15120 non-null  float64\n",
      "dtypes: float64(7), int64(52)\n",
      "memory usage: 6.8 MB\n"
     ]
    }
   ],
   "source": [
    "#train.info()"
   ]
  },
  {
   "cell_type": "markdown",
   "metadata": {},
   "source": [
    "- subset with the continuous features:"
   ]
  },
  {
   "cell_type": "code",
   "execution_count": 14,
   "metadata": {},
   "outputs": [
    {
     "data": {
      "text/plain": [
       "Index(['Elevation', 'Aspect', 'Slope', 'Horizontal_Distance_To_Hydrology',\n",
       "       'Vertical_Distance_To_Hydrology', 'Horizontal_Distance_To_Roadways',\n",
       "       'Hillshade_9am', 'Hillshade_Noon', 'Hillshade_3pm',\n",
       "       'Horizontal_Distance_To_Fire_Points', 'Wilderness_Area1',\n",
       "       'Wilderness_Area2', 'Wilderness_Area3', 'Wilderness_Area4',\n",
       "       'Soil_Type1', 'Soil_Type2', 'Soil_Type3', 'Soil_Type4', 'Soil_Type5',\n",
       "       'Soil_Type6', 'Soil_Type10', 'Soil_Type11', 'Soil_Type12',\n",
       "       'Soil_Type13', 'Soil_Type14', 'Soil_Type16', 'Soil_Type17',\n",
       "       'Soil_Type20', 'Soil_Type22', 'Soil_Type23', 'Soil_Type24',\n",
       "       'Soil_Type29', 'Soil_Type30', 'Soil_Type31', 'Soil_Type32',\n",
       "       'Soil_Type33', 'Soil_Type35', 'Soil_Type38', 'Soil_Type39',\n",
       "       'Soil_Type40', 'Cover_Type', 'eDist_to_Hydrology', 'human_presence',\n",
       "       'Total_Hillshade_mean', 'Horizontal_Distance_To_Roadways_Log',\n",
       "       'Hillshade_Noon_Elevation_ratio', 'Hillshade_9am_Elevation_ratio'],\n",
       "      dtype='object')"
      ]
     },
     "execution_count": 14,
     "metadata": {},
     "output_type": "execute_result"
    }
   ],
   "source": [
    "train.columns"
   ]
  },
  {
   "cell_type": "code",
   "execution_count": 19,
   "metadata": {},
   "outputs": [],
   "source": [
    "cont_1 = train.iloc[:, 41:]\n",
    "cont_2 = train.iloc[:, :10]\n",
    "\n",
    "frames = [cont_1, cont_2]\n",
    "\n",
    "cont = pd.concat(frames, axis= 1)\n"
   ]
  },
  {
   "cell_type": "markdown",
   "metadata": {},
   "source": [
    " - chech the distributions"
   ]
  },
  {
   "cell_type": "code",
   "execution_count": 20,
   "metadata": {},
   "outputs": [
    {
     "data": {
      "image/png": "[encoded data removed]",
      "text/plain": [
       "<Figure size 1080x1080 with 16 Axes>"
      ]
     },
     "metadata": {},
     "output_type": "display_data"
    }
   ],
   "source": [
    "sns.set_theme(rc = {'figure.figsize':(15,15)}, palette='crest')\n",
    "\n",
    "cont.hist(figsize=(15,15));"
   ]
  },
  {
   "cell_type": "code",
   "execution_count": 21,
   "metadata": {},
   "outputs": [
    {
     "data": {
      "text/plain": [
       "Horizontal_Distance_To_Fire_Points     1.617099\n",
       "Vertical_Distance_To_Hydrology         1.537776\n",
       "Horizontal_Distance_To_Hydrology       1.488052\n",
       "eDist_to_Hydrology                     1.442072\n",
       "human_presence                         1.301516\n",
       "Horizontal_Distance_To_Roadways        1.247811\n",
       "Slope                                  0.523658\n",
       "Aspect                                 0.450935\n",
       "Hillshade_9am_Elevation_ratio          0.364249\n",
       "Hillshade_Noon_Elevation_ratio         0.329628\n",
       "Elevation                              0.075640\n",
       "Hillshade_3pm                         -0.340827\n",
       "Horizontal_Distance_To_Roadways_Log   -0.689219\n",
       "Hillshade_Noon                        -0.953232\n",
       "Total_Hillshade_mean                  -1.090351\n",
       "Hillshade_9am                         -1.093681\n",
       "dtype: float64"
      ]
     },
     "execution_count": 21,
     "metadata": {},
     "output_type": "execute_result"
    }
   ],
   "source": [
    "# skewness along the index axis\n",
    "# Para comprobar la asimetría de una variable siempre podemos calcular su valor skew\n",
    "# 0 si es simetrica, >0 cola hacia la derecha, <0 cola hacia la izquierda\n",
    "cont.skew(axis = 0, skipna = True).sort_values(ascending = False)"
   ]
  },
  {
   "cell_type": "markdown",
   "metadata": {},
   "source": [
    " - normalizing the skewness:"
   ]
  },
  {
   "cell_type": "code",
   "execution_count": 22,
   "metadata": {},
   "outputs": [],
   "source": [
    "from sklearn.preprocessing import PowerTransformer, QuantileTransformer"
   ]
  },
  {
   "cell_type": "code",
   "execution_count": 23,
   "metadata": {},
   "outputs": [
    {
     "data": {
      "image/png": "[encoded data removed]",
      "text/plain": [
       "<Figure size 1080x1080 with 16 Axes>"
      ]
     },
     "metadata": {},
     "output_type": "display_data"
    }
   ],
   "source": [
    "# perform a normal quantile transform of the cont df\n",
    "\n",
    "trans = QuantileTransformer(n_quantiles=100, output_distribution='normal')\n",
    "data = trans.fit_transform(cont)\n",
    "# convert the array back to a dataframe\n",
    "cont_trans = pd.DataFrame(data)\n",
    "# histograms of the variables\n",
    "\n",
    "# sns.set_theme(rc = {'figure.figsize':(15,15)}, palette='crest')\n",
    "cont_trans.hist(figsize=(15,15));"
   ]
  },
  {
   "cell_type": "markdown",
   "metadata": {},
   "source": [
    "#### Comparing skewness before and after the transformation:"
   ]
  },
  {
   "cell_type": "code",
   "execution_count": 24,
   "metadata": {},
   "outputs": [
    {
     "data": {
      "text/html": [
       "<div>\n",
       "<style scoped>\n",
       "    .dataframe tbody tr th:only-of-type {\n",
       "        vertical-align: middle;\n",
       "    }\n",
       "\n",
       "    .dataframe tbody tr th {\n",
       "        vertical-align: top;\n",
       "    }\n",
       "\n",
       "    .dataframe thead th {\n",
       "        text-align: right;\n",
       "    }\n",
       "</style>\n",
       "<table border=\"1\" class=\"dataframe\">\n",
       "  <thead>\n",
       "    <tr style=\"text-align: right;\">\n",
       "      <th></th>\n",
       "      <th>original</th>\n",
       "      <th>transformed</th>\n",
       "    </tr>\n",
       "  </thead>\n",
       "  <tbody>\n",
       "    <tr>\n",
       "      <th>0</th>\n",
       "      <td>1.442072</td>\n",
       "      <td>-1.685962</td>\n",
       "    </tr>\n",
       "    <tr>\n",
       "      <th>1</th>\n",
       "      <td>1.301516</td>\n",
       "      <td>0.004554</td>\n",
       "    </tr>\n",
       "    <tr>\n",
       "      <th>2</th>\n",
       "      <td>-1.090351</td>\n",
       "      <td>0.035114</td>\n",
       "    </tr>\n",
       "    <tr>\n",
       "      <th>3</th>\n",
       "      <td>-0.689219</td>\n",
       "      <td>-0.008694</td>\n",
       "    </tr>\n",
       "    <tr>\n",
       "      <th>4</th>\n",
       "      <td>0.329628</td>\n",
       "      <td>0.008146</td>\n",
       "    </tr>\n",
       "    <tr>\n",
       "      <th>5</th>\n",
       "      <td>0.364249</td>\n",
       "      <td>0.006744</td>\n",
       "    </tr>\n",
       "    <tr>\n",
       "      <th>6</th>\n",
       "      <td>0.075640</td>\n",
       "      <td>0.025288</td>\n",
       "    </tr>\n",
       "    <tr>\n",
       "      <th>7</th>\n",
       "      <td>0.450935</td>\n",
       "      <td>-0.662534</td>\n",
       "    </tr>\n",
       "    <tr>\n",
       "      <th>8</th>\n",
       "      <td>0.523658</td>\n",
       "      <td>-0.045447</td>\n",
       "    </tr>\n",
       "    <tr>\n",
       "      <th>9</th>\n",
       "      <td>1.488052</td>\n",
       "      <td>-1.693894</td>\n",
       "    </tr>\n",
       "    <tr>\n",
       "      <th>10</th>\n",
       "      <td>1.537776</td>\n",
       "      <td>0.015455</td>\n",
       "    </tr>\n",
       "    <tr>\n",
       "      <th>11</th>\n",
       "      <td>1.247811</td>\n",
       "      <td>-0.028554</td>\n",
       "    </tr>\n",
       "    <tr>\n",
       "      <th>12</th>\n",
       "      <td>-1.093681</td>\n",
       "      <td>1.060878</td>\n",
       "    </tr>\n",
       "    <tr>\n",
       "      <th>13</th>\n",
       "      <td>-0.953232</td>\n",
       "      <td>0.792505</td>\n",
       "    </tr>\n",
       "    <tr>\n",
       "      <th>14</th>\n",
       "      <td>-0.340827</td>\n",
       "      <td>-0.559684</td>\n",
       "    </tr>\n",
       "    <tr>\n",
       "      <th>15</th>\n",
       "      <td>1.617099</td>\n",
       "      <td>-0.005697</td>\n",
       "    </tr>\n",
       "  </tbody>\n",
       "</table>\n",
       "</div>"
      ],
      "text/plain": [
       "    original  transformed\n",
       "0   1.442072    -1.685962\n",
       "1   1.301516     0.004554\n",
       "2  -1.090351     0.035114\n",
       "3  -0.689219    -0.008694\n",
       "4   0.329628     0.008146\n",
       "5   0.364249     0.006744\n",
       "6   0.075640     0.025288\n",
       "7   0.450935    -0.662534\n",
       "8   0.523658    -0.045447\n",
       "9   1.488052    -1.693894\n",
       "10  1.537776     0.015455\n",
       "11  1.247811    -0.028554\n",
       "12 -1.093681     1.060878\n",
       "13 -0.953232     0.792505\n",
       "14 -0.340827    -0.559684\n",
       "15  1.617099    -0.005697"
      ]
     },
     "execution_count": 24,
     "metadata": {},
     "output_type": "execute_result"
    }
   ],
   "source": [
    "data_tuples = list(zip(cont.skew(axis = 0, skipna = True),cont_trans.skew(axis = 0, skipna = True)))\n",
    "comp_skew = pd.DataFrame(data_tuples, columns=['original','transformed'])\n",
    "comp_skew"
   ]
  },
  {
   "cell_type": "markdown",
   "metadata": {},
   "source": [
    "#### Transforming the whote dataset:"
   ]
  },
  {
   "cell_type": "code",
   "execution_count": 26,
   "metadata": {},
   "outputs": [],
   "source": [
    "trans = QuantileTransformer(n_quantiles=100, output_distribution='normal')\n",
    "data = trans.fit_transform(train)\n",
    "# convert the array back to a dataframe\n",
    "trans_train = pd.DataFrame(data)"
   ]
  },
  {
   "cell_type": "code",
   "execution_count": 27,
   "metadata": {},
   "outputs": [
    {
     "data": {
      "text/plain": [
       "RangeIndex(start=0, stop=47, step=1)"
      ]
     },
     "execution_count": 27,
     "metadata": {},
     "output_type": "execute_result"
    }
   ],
   "source": [
    "trans_train.columns"
   ]
  },
  {
   "cell_type": "code",
   "execution_count": 28,
   "metadata": {},
   "outputs": [
    {
     "data": {
      "text/plain": [
       "(15120, 47)"
      ]
     },
     "execution_count": 28,
     "metadata": {},
     "output_type": "execute_result"
    }
   ],
   "source": [
    "train.shape"
   ]
  },
  {
   "cell_type": "code",
   "execution_count": 29,
   "metadata": {},
   "outputs": [
    {
     "data": {
      "text/plain": [
       "Index(['Elevation', 'Aspect', 'Slope', 'Horizontal_Distance_To_Hydrology',\n",
       "       'Vertical_Distance_To_Hydrology', 'Horizontal_Distance_To_Roadways',\n",
       "       'Hillshade_9am', 'Hillshade_Noon', 'Hillshade_3pm',\n",
       "       'Horizontal_Distance_To_Fire_Points', 'Wilderness_Area1',\n",
       "       'Wilderness_Area2', 'Wilderness_Area3', 'Wilderness_Area4',\n",
       "       'Soil_Type1', 'Soil_Type2', 'Soil_Type3', 'Soil_Type4', 'Soil_Type5',\n",
       "       'Soil_Type6', 'Soil_Type10', 'Soil_Type11', 'Soil_Type12',\n",
       "       'Soil_Type13', 'Soil_Type14', 'Soil_Type16', 'Soil_Type17',\n",
       "       'Soil_Type20', 'Soil_Type22', 'Soil_Type23', 'Soil_Type24',\n",
       "       'Soil_Type29', 'Soil_Type30', 'Soil_Type31', 'Soil_Type32',\n",
       "       'Soil_Type33', 'Soil_Type35', 'Soil_Type38', 'Soil_Type39',\n",
       "       'Soil_Type40', 'Cover_Type', 'eDist_to_Hydrology', 'human_presence',\n",
       "       'Total_Hillshade_mean', 'Horizontal_Distance_To_Roadways_Log',\n",
       "       'Hillshade_Noon_Elevation_ratio', 'Hillshade_9am_Elevation_ratio'],\n",
       "      dtype='object')"
      ]
     },
     "execution_count": 29,
     "metadata": {},
     "output_type": "execute_result"
    }
   ],
   "source": [
    "train.columns"
   ]
  },
  {
   "cell_type": "code",
   "execution_count": 30,
   "metadata": {},
   "outputs": [],
   "source": [
    "# renaming the columns of the transformed dataset\n",
    "\n",
    "trans_train.columns = ['Elevation', 'Aspect', 'Slope', 'Horizontal_Distance_To_Hydrology',\n",
    "       'Vertical_Distance_To_Hydrology', 'Horizontal_Distance_To_Roadways',\n",
    "       'Hillshade_9am', 'Hillshade_Noon', 'Hillshade_3pm',\n",
    "       'Horizontal_Distance_To_Fire_Points', 'Wilderness_Area1',\n",
    "       'Wilderness_Area2', 'Wilderness_Area3', 'Wilderness_Area4',\n",
    "       'Soil_Type1', 'Soil_Type2', 'Soil_Type3', 'Soil_Type4', 'Soil_Type5',\n",
    "       'Soil_Type6', 'Soil_Type10', 'Soil_Type11', 'Soil_Type12',\n",
    "       'Soil_Type13', 'Soil_Type14', 'Soil_Type16', 'Soil_Type17',\n",
    "       'Soil_Type20', 'Soil_Type22', 'Soil_Type23', 'Soil_Type24',\n",
    "       'Soil_Type29', 'Soil_Type30', 'Soil_Type31', 'Soil_Type32',\n",
    "       'Soil_Type33', 'Soil_Type35', 'Soil_Type38', 'Soil_Type39',\n",
    "       'Soil_Type40', 'Cover_Type', 'eDist_to_Hydrology', 'human_presence',\n",
    "       'Total_Hillshade_mean', 'Horizontal_Distance_To_Roadways_Log',\n",
    "       'Hillshade_Noon_Elevation_ratio', 'Hillshade_9am_Elevation_ratio']\n"
   ]
  },
  {
   "cell_type": "markdown",
   "metadata": {},
   "source": [
    "# 6. Feature selection:"
   ]
  },
  {
   "cell_type": "markdown",
   "metadata": {},
   "source": [
    "#### PCAs"
   ]
  },
  {
   "cell_type": "code",
   "execution_count": 31,
   "metadata": {},
   "outputs": [
    {
     "data": {
      "image/png": "[encoded data removed]",
      "text/plain": [
       "<Figure size 720x432 with 1 Axes>"
      ]
     },
     "metadata": {},
     "output_type": "display_data"
    }
   ],
   "source": [
    "scaler = StandardScaler()\n",
    "train_scaled = scaler.fit_transform(trans_train)\n",
    "\n",
    "pca = PCA(n_components=30)\n",
    "X_pca = pca.fit_transform(train_scaled)\n",
    "\n",
    "plt.figure(figsize = (10,6))\n",
    "\n",
    "plt.plot(np.cumsum(pca.explained_variance_ratio_))\n",
    "plt.xlabel(\"Number of p components\")\n",
    "plt.ylabel(\"Cumulative explained variance ratio\")\n",
    "plt.xticks(np.arange(0,31));"
   ]
  },
  {
   "cell_type": "markdown",
   "metadata": {},
   "source": [
    "#### Feature Importances"
   ]
  },
  {
   "cell_type": "code",
   "execution_count": 32,
   "metadata": {},
   "outputs": [],
   "source": [
    "trans_train['Cover_Type'] = train['Cover_Type']"
   ]
  },
  {
   "cell_type": "code",
   "execution_count": 33,
   "metadata": {},
   "outputs": [],
   "source": [
    "X= trans_train.drop(['Cover_Type'], axis=1) \n",
    "y= trans_train['Cover_Type']\n",
    "X_train, X_test, y_train, y_test= train_test_split(X,y, test_size= 0.2)\n",
    "\n",
    "\n",
    "# scaler for SVM and KNN\n",
    "\n",
    "scaler = MinMaxScaler()\n",
    "scaler.fit(X_train) \n",
    "\n",
    "X_train_scal = scaler.transform(X_train)\n",
    "X_test_scal = scaler.transform(X_test)"
   ]
  },
  {
   "cell_type": "code",
   "execution_count": 34,
   "metadata": {},
   "outputs": [],
   "source": [
    "# initialize the classificators\n",
    "rfc= RandomForestClassifier(random_state=77)\n",
    "gbc= GradientBoostingClassifier(random_state=77)\n",
    "ada = AdaBoostClassifier(random_state=77)\n",
    "etc = ExtraTreesClassifier(random_state=77)\n",
    "lgbm = lgb.LGBMClassifier(random_state=77)\n",
    "knn = KNeighborsClassifier()\n",
    "lSVC = LinearSVC()\n",
    "\n",
    "\n",
    "# now, create a list with the objects \n",
    "models= [rfc, gbc, ada, etc, lgbm]\n",
    "models_2 = [knn, lSVC]"
   ]
  },
  {
   "cell_type": "code",
   "execution_count": 35,
   "metadata": {},
   "outputs": [
    {
     "name": "stdout",
     "output_type": "stream",
     "text": [
      "The score in train of model RandomForestClassifier is 1.00\n",
      "The score in test of model RandomForestClassifier is 0.86\n",
      "\n",
      "\n",
      "The score in train of model GradientBoostingClassifier is 0.86\n",
      "The score in test of model GradientBoostingClassifier is 0.80\n",
      "\n",
      "\n",
      "The score in train of model AdaBoostClassifier is 0.30\n",
      "The score in test of model AdaBoostClassifier is 0.27\n",
      "\n",
      "\n",
      "The score in train of model ExtraTreesClassifier is 1.00\n",
      "The score in test of model ExtraTreesClassifier is 0.86\n",
      "\n",
      "\n",
      "The score in train of model LGBMClassifier is 0.99\n",
      "The score in test of model LGBMClassifier is 0.85\n",
      "\n",
      "\n"
     ]
    }
   ],
   "source": [
    "for model in models:\n",
    "    model.fit(X_train, y_train) \n",
    "    train_score= model.score(X_train, y_train) \n",
    "    test_score= model.score(X_test, y_test)\n",
    "    #clf_report= classification_report(y_test, y_pred) # with the report, we have a bigger picture, with precision and recall for each class\n",
    "    print(f\"The score in train of model {type(model).__name__} is {train_score:.2f}\")\n",
    "    print(f\"The score in test of model {type(model).__name__} is {test_score:.2f}\")\n",
    "    #print(clf_report)\n",
    "    print(\"\\n\")"
   ]
  },
  {
   "cell_type": "code",
   "execution_count": 36,
   "metadata": {},
   "outputs": [
    {
     "name": "stdout",
     "output_type": "stream",
     "text": [
      "The score in train of model KNeighborsClassifier is 0.87\n",
      "The score in test of model KNeighborsClassifier is 0.79\n",
      "\n",
      "\n",
      "The score in train of model LinearSVC is 0.68\n",
      "The score in test of model LinearSVC is 0.67\n",
      "\n",
      "\n"
     ]
    }
   ],
   "source": [
    "for model in models_2:\n",
    "    model.fit(X_train_scal, y_train)\n",
    "    train_score= model.score(X_train_scal, y_train) \n",
    "    test_score= model.score(X_test_scal, y_test)\n",
    "    #clf_report= classification_report(y_test, y_pred) # with the report, we have a bigger picture, with precision and recall for each class\n",
    "    print(f\"The score in train of model {type(model).__name__} is {train_score:.2f}\")\n",
    "    print(f\"The score in test of model {type(model).__name__} is {test_score:.2f}\")\n",
    "    #print(clf_report)\n",
    "    print(\"\\n\")"
   ]
  },
  {
   "cell_type": "code",
   "execution_count": 37,
   "metadata": {},
   "outputs": [
    {
     "data": {
      "image/png": "[encoded data removed]",
      "text/plain": [
       "<Figure size 720x432 with 1 Axes>"
      ]
     },
     "metadata": {},
     "output_type": "display_data"
    }
   ],
   "source": [
    "importances = pd.DataFrame(data={\n",
    "    'Attribute': X.columns,\n",
    "    'Importance': etc.feature_importances_\n",
    "})\n",
    "importances = importances.sort_values(by='Importance', ascending=False)\n",
    "\n",
    "plt.figure(figsize = (10,6))\n",
    "\n",
    "plt.bar(x=importances['Attribute'], height=importances['Importance'], color='#087E8B')\n",
    "plt.title('Feature importances for ETC', size=20)\n",
    "plt.xticks(rotation='vertical')\n",
    "plt.show()"
   ]
  },
  {
   "cell_type": "code",
   "execution_count": 38,
   "metadata": {},
   "outputs": [],
   "source": [
    "etc_importances = importances\n"
   ]
  },
  {
   "cell_type": "code",
   "execution_count": 39,
   "metadata": {},
   "outputs": [
    {
     "data": {
      "image/png": "[encoded data removed]",
      "text/plain": [
       "<Figure size 720x432 with 1 Axes>"
      ]
     },
     "metadata": {},
     "output_type": "display_data"
    }
   ],
   "source": [
    "importances = pd.DataFrame(data={\n",
    "    'Attribute': X.columns,\n",
    "    'Importance': rfc.feature_importances_\n",
    "})\n",
    "importances = importances.sort_values(by='Importance', ascending=False)\n",
    "\n",
    "plt.figure(figsize = (10,6))\n",
    "\n",
    "plt.bar(x=importances['Attribute'], height=importances['Importance'], color='#087E8B')\n",
    "plt.title('Feature importances for RFC', size=20)\n",
    "plt.xticks(rotation='vertical')\n",
    "plt.show()"
   ]
  },
  {
   "cell_type": "code",
   "execution_count": 40,
   "metadata": {},
   "outputs": [],
   "source": [
    "rfc_importances = importances"
   ]
  },
  {
   "cell_type": "markdown",
   "metadata": {},
   "source": [
    "#### Selekt K best"
   ]
  },
  {
   "cell_type": "code",
   "execution_count": 42,
   "metadata": {},
   "outputs": [
    {
     "name": "stdout",
     "output_type": "stream",
     "text": [
      "(15120, 46)\n",
      "(15120, 5)\n"
     ]
    },
    {
     "data": {
      "text/html": [
       "<div>\n",
       "<style scoped>\n",
       "    .dataframe tbody tr th:only-of-type {\n",
       "        vertical-align: middle;\n",
       "    }\n",
       "\n",
       "    .dataframe tbody tr th {\n",
       "        vertical-align: top;\n",
       "    }\n",
       "\n",
       "    .dataframe thead th {\n",
       "        text-align: right;\n",
       "    }\n",
       "</style>\n",
       "<table border=\"1\" class=\"dataframe\">\n",
       "  <thead>\n",
       "    <tr style=\"text-align: right;\">\n",
       "      <th></th>\n",
       "      <th>column</th>\n",
       "      <th>score</th>\n",
       "    </tr>\n",
       "  </thead>\n",
       "  <tbody>\n",
       "    <tr>\n",
       "      <th>0</th>\n",
       "      <td>Elevation</td>\n",
       "      <td>10145.162072</td>\n",
       "    </tr>\n",
       "    <tr>\n",
       "      <th>13</th>\n",
       "      <td>Wilderness_Area4</td>\n",
       "      <td>5072.497908</td>\n",
       "    </tr>\n",
       "    <tr>\n",
       "      <th>44</th>\n",
       "      <td>Hillshade_Noon_Elevation_ratio</td>\n",
       "      <td>3129.271591</td>\n",
       "    </tr>\n",
       "    <tr>\n",
       "      <th>45</th>\n",
       "      <td>Hillshade_9am_Elevation_ratio</td>\n",
       "      <td>2259.972737</td>\n",
       "    </tr>\n",
       "    <tr>\n",
       "      <th>41</th>\n",
       "      <td>human_presence</td>\n",
       "      <td>1605.027644</td>\n",
       "    </tr>\n",
       "    <tr>\n",
       "      <th>43</th>\n",
       "      <td>Horizontal_Distance_To_Roadways_Log</td>\n",
       "      <td>1097.160226</td>\n",
       "    </tr>\n",
       "    <tr>\n",
       "      <th>5</th>\n",
       "      <td>Horizontal_Distance_To_Roadways</td>\n",
       "      <td>1093.163581</td>\n",
       "    </tr>\n",
       "    <tr>\n",
       "      <th>20</th>\n",
       "      <td>Soil_Type10</td>\n",
       "      <td>977.737621</td>\n",
       "    </tr>\n",
       "    <tr>\n",
       "      <th>16</th>\n",
       "      <td>Soil_Type3</td>\n",
       "      <td>929.217593</td>\n",
       "    </tr>\n",
       "    <tr>\n",
       "      <th>10</th>\n",
       "      <td>Wilderness_Area1</td>\n",
       "      <td>928.831132</td>\n",
       "    </tr>\n",
       "    <tr>\n",
       "      <th>9</th>\n",
       "      <td>Horizontal_Distance_To_Fire_Points</td>\n",
       "      <td>791.456883</td>\n",
       "    </tr>\n",
       "    <tr>\n",
       "      <th>37</th>\n",
       "      <td>Soil_Type38</td>\n",
       "      <td>744.906554</td>\n",
       "    </tr>\n",
       "    <tr>\n",
       "      <th>38</th>\n",
       "      <td>Soil_Type39</td>\n",
       "      <td>640.529899</td>\n",
       "    </tr>\n",
       "    <tr>\n",
       "      <th>3</th>\n",
       "      <td>Horizontal_Distance_To_Hydrology</td>\n",
       "      <td>598.807940</td>\n",
       "    </tr>\n",
       "    <tr>\n",
       "      <th>40</th>\n",
       "      <td>eDist_to_Hydrology</td>\n",
       "      <td>578.323730</td>\n",
       "    </tr>\n",
       "    <tr>\n",
       "      <th>12</th>\n",
       "      <td>Wilderness_Area3</td>\n",
       "      <td>444.959975</td>\n",
       "    </tr>\n",
       "    <tr>\n",
       "      <th>39</th>\n",
       "      <td>Soil_Type40</td>\n",
       "      <td>422.043458</td>\n",
       "    </tr>\n",
       "    <tr>\n",
       "      <th>6</th>\n",
       "      <td>Hillshade_9am</td>\n",
       "      <td>375.645734</td>\n",
       "    </tr>\n",
       "    <tr>\n",
       "      <th>32</th>\n",
       "      <td>Soil_Type30</td>\n",
       "      <td>352.446574</td>\n",
       "    </tr>\n",
       "    <tr>\n",
       "      <th>31</th>\n",
       "      <td>Soil_Type29</td>\n",
       "      <td>341.825668</td>\n",
       "    </tr>\n",
       "    <tr>\n",
       "      <th>2</th>\n",
       "      <td>Slope</td>\n",
       "      <td>277.831201</td>\n",
       "    </tr>\n",
       "    <tr>\n",
       "      <th>17</th>\n",
       "      <td>Soil_Type4</td>\n",
       "      <td>248.325587</td>\n",
       "    </tr>\n",
       "    <tr>\n",
       "      <th>28</th>\n",
       "      <td>Soil_Type22</td>\n",
       "      <td>233.563396</td>\n",
       "    </tr>\n",
       "    <tr>\n",
       "      <th>26</th>\n",
       "      <td>Soil_Type17</td>\n",
       "      <td>204.175621</td>\n",
       "    </tr>\n",
       "    <tr>\n",
       "      <th>23</th>\n",
       "      <td>Soil_Type13</td>\n",
       "      <td>197.416602</td>\n",
       "    </tr>\n",
       "    <tr>\n",
       "      <th>29</th>\n",
       "      <td>Soil_Type23</td>\n",
       "      <td>194.900394</td>\n",
       "    </tr>\n",
       "    <tr>\n",
       "      <th>22</th>\n",
       "      <td>Soil_Type12</td>\n",
       "      <td>193.312894</td>\n",
       "    </tr>\n",
       "    <tr>\n",
       "      <th>8</th>\n",
       "      <td>Hillshade_3pm</td>\n",
       "      <td>181.518885</td>\n",
       "    </tr>\n",
       "    <tr>\n",
       "      <th>11</th>\n",
       "      <td>Wilderness_Area2</td>\n",
       "      <td>167.668321</td>\n",
       "    </tr>\n",
       "    <tr>\n",
       "      <th>19</th>\n",
       "      <td>Soil_Type6</td>\n",
       "      <td>166.973792</td>\n",
       "    </tr>\n",
       "    <tr>\n",
       "      <th>15</th>\n",
       "      <td>Soil_Type2</td>\n",
       "      <td>145.220461</td>\n",
       "    </tr>\n",
       "    <tr>\n",
       "      <th>34</th>\n",
       "      <td>Soil_Type32</td>\n",
       "      <td>122.048655</td>\n",
       "    </tr>\n",
       "    <tr>\n",
       "      <th>42</th>\n",
       "      <td>Total_Hillshade_mean</td>\n",
       "      <td>107.596949</td>\n",
       "    </tr>\n",
       "    <tr>\n",
       "      <th>24</th>\n",
       "      <td>Soil_Type14</td>\n",
       "      <td>99.288307</td>\n",
       "    </tr>\n",
       "    <tr>\n",
       "      <th>36</th>\n",
       "      <td>Soil_Type35</td>\n",
       "      <td>97.160772</td>\n",
       "    </tr>\n",
       "    <tr>\n",
       "      <th>7</th>\n",
       "      <td>Hillshade_Noon</td>\n",
       "      <td>89.586387</td>\n",
       "    </tr>\n",
       "    <tr>\n",
       "      <th>14</th>\n",
       "      <td>Soil_Type1</td>\n",
       "      <td>86.941092</td>\n",
       "    </tr>\n",
       "    <tr>\n",
       "      <th>4</th>\n",
       "      <td>Vertical_Distance_To_Hydrology</td>\n",
       "      <td>80.736138</td>\n",
       "    </tr>\n",
       "    <tr>\n",
       "      <th>35</th>\n",
       "      <td>Soil_Type33</td>\n",
       "      <td>72.216768</td>\n",
       "    </tr>\n",
       "    <tr>\n",
       "      <th>30</th>\n",
       "      <td>Soil_Type24</td>\n",
       "      <td>63.601688</td>\n",
       "    </tr>\n",
       "    <tr>\n",
       "      <th>33</th>\n",
       "      <td>Soil_Type31</td>\n",
       "      <td>55.067971</td>\n",
       "    </tr>\n",
       "    <tr>\n",
       "      <th>21</th>\n",
       "      <td>Soil_Type11</td>\n",
       "      <td>53.249257</td>\n",
       "    </tr>\n",
       "    <tr>\n",
       "      <th>18</th>\n",
       "      <td>Soil_Type5</td>\n",
       "      <td>41.381357</td>\n",
       "    </tr>\n",
       "    <tr>\n",
       "      <th>27</th>\n",
       "      <td>Soil_Type20</td>\n",
       "      <td>28.695745</td>\n",
       "    </tr>\n",
       "    <tr>\n",
       "      <th>25</th>\n",
       "      <td>Soil_Type16</td>\n",
       "      <td>15.508116</td>\n",
       "    </tr>\n",
       "    <tr>\n",
       "      <th>1</th>\n",
       "      <td>Aspect</td>\n",
       "      <td>15.126727</td>\n",
       "    </tr>\n",
       "  </tbody>\n",
       "</table>\n",
       "</div>"
      ],
      "text/plain": [
       "                                 column         score\n",
       "0                             Elevation  10145.162072\n",
       "13                     Wilderness_Area4   5072.497908\n",
       "44       Hillshade_Noon_Elevation_ratio   3129.271591\n",
       "45        Hillshade_9am_Elevation_ratio   2259.972737\n",
       "41                       human_presence   1605.027644\n",
       "43  Horizontal_Distance_To_Roadways_Log   1097.160226\n",
       "5       Horizontal_Distance_To_Roadways   1093.163581\n",
       "20                          Soil_Type10    977.737621\n",
       "16                           Soil_Type3    929.217593\n",
       "10                     Wilderness_Area1    928.831132\n",
       "9    Horizontal_Distance_To_Fire_Points    791.456883\n",
       "37                          Soil_Type38    744.906554\n",
       "38                          Soil_Type39    640.529899\n",
       "3      Horizontal_Distance_To_Hydrology    598.807940\n",
       "40                   eDist_to_Hydrology    578.323730\n",
       "12                     Wilderness_Area3    444.959975\n",
       "39                          Soil_Type40    422.043458\n",
       "6                         Hillshade_9am    375.645734\n",
       "32                          Soil_Type30    352.446574\n",
       "31                          Soil_Type29    341.825668\n",
       "2                                 Slope    277.831201\n",
       "17                           Soil_Type4    248.325587\n",
       "28                          Soil_Type22    233.563396\n",
       "26                          Soil_Type17    204.175621\n",
       "23                          Soil_Type13    197.416602\n",
       "29                          Soil_Type23    194.900394\n",
       "22                          Soil_Type12    193.312894\n",
       "8                         Hillshade_3pm    181.518885\n",
       "11                     Wilderness_Area2    167.668321\n",
       "19                           Soil_Type6    166.973792\n",
       "15                           Soil_Type2    145.220461\n",
       "34                          Soil_Type32    122.048655\n",
       "42                 Total_Hillshade_mean    107.596949\n",
       "24                          Soil_Type14     99.288307\n",
       "36                          Soil_Type35     97.160772\n",
       "7                        Hillshade_Noon     89.586387\n",
       "14                           Soil_Type1     86.941092\n",
       "4        Vertical_Distance_To_Hydrology     80.736138\n",
       "35                          Soil_Type33     72.216768\n",
       "30                          Soil_Type24     63.601688\n",
       "33                          Soil_Type31     55.067971\n",
       "21                          Soil_Type11     53.249257\n",
       "18                           Soil_Type5     41.381357\n",
       "27                          Soil_Type20     28.695745\n",
       "25                          Soil_Type16     15.508116\n",
       "1                                Aspect     15.126727"
      ]
     },
     "execution_count": 42,
     "metadata": {},
     "output_type": "execute_result"
    }
   ],
   "source": [
    "from sklearn.feature_selection import SelectKBest\n",
    "\n",
    "print(X.shape)\n",
    "sel = SelectKBest(k=5)\n",
    "X_new = sel.fit_transform(X, y)\n",
    "names = X.columns\n",
    "\n",
    "print(X_new.shape)\n",
    "\n",
    "best_feats = pd.DataFrame({'column': names, 'score': sel.scores_}).sort_values('score', ascending=False)\n",
    "best_feats"
   ]
  },
  {
   "cell_type": "code",
   "execution_count": 43,
   "metadata": {},
   "outputs": [
    {
     "name": "stdout",
     "output_type": "stream",
     "text": [
      "      Attribute  Importance\n",
      "14   Soil_Type1    0.002324\n",
      "27  Soil_Type20    0.002026\n",
      "18   Soil_Type5    0.001601\n",
      "25  Soil_Type16    0.001375\n",
      "24  Soil_Type14    0.001175\n"
     ]
    }
   ],
   "source": [
    "print(etc_importances.sort_values(by = 'Importance', ascending = False).tail())"
   ]
  },
  {
   "cell_type": "code",
   "execution_count": 44,
   "metadata": {},
   "outputs": [
    {
     "name": "stdout",
     "output_type": "stream",
     "text": [
      "      Attribute  Importance\n",
      "27  Soil_Type20    0.001081\n",
      "36  Soil_Type35    0.000824\n",
      "18   Soil_Type5    0.000763\n",
      "25  Soil_Type16    0.000617\n",
      "24  Soil_Type14    0.000275\n"
     ]
    }
   ],
   "source": [
    "print(rfc_importances.sort_values(by = 'Importance', ascending = False).tail())"
   ]
  },
  {
   "cell_type": "code",
   "execution_count": 45,
   "metadata": {},
   "outputs": [
    {
     "name": "stdout",
     "output_type": "stream",
     "text": [
      "         column      score\n",
      "21  Soil_Type11  53.249257\n",
      "18   Soil_Type5  41.381357\n",
      "27  Soil_Type20  28.695745\n",
      "25  Soil_Type16  15.508116\n",
      "1        Aspect  15.126727\n"
     ]
    }
   ],
   "source": [
    "print(best_feats.sort_values(by = 'score', ascending = False).tail())"
   ]
  },
  {
   "cell_type": "code",
   "execution_count": null,
   "metadata": {},
   "outputs": [],
   "source": [
    "# Soil_Type31    0.135432\n",
    "# Soil_Type11    0.133181\n",
    "# Soil_Type5     0.117353\n",
    "# Soil_Type20    0.097430\n",
    "# Soil_Type16    0.070697"
   ]
  },
  {
   "cell_type": "markdown",
   "metadata": {},
   "source": [
    "## Conclusions:\n",
    "\n",
    " - the PCAs reveals that we need most of the features in order to achieve a good model\n",
    " - the best features for ETC show that certain types of soles are irrelevant for the predictions (5, 14, 16, 20)\n",
    " - the SelectKBest tool includes also the variable 'Aspect' and two more types of soils (11)\n",
    " - the Phik correlation includes all this types of soil (5, 11, 16, 20, 31)\n",
    " - so, we will drop the less significant features"
   ]
  },
  {
   "cell_type": "markdown",
   "metadata": {},
   "source": [
    "We can see that the less relevant soil types only have few values, so let's drop it:"
   ]
  },
  {
   "cell_type": "markdown",
   "metadata": {},
   "source": [
    "We test the data again:"
   ]
  },
  {
   "cell_type": "code",
   "execution_count": 46,
   "metadata": {},
   "outputs": [],
   "source": [
    "X= trans_train.drop(['Cover_Type', 'Soil_Type5', 'Soil_Type11', 'Soil_Type16', 'Soil_Type20'], axis=1) \n",
    "y= trans_train['Cover_Type']\n",
    "X_train, X_test, y_train, y_test= train_test_split(X,y, test_size= 0.2)"
   ]
  },
  {
   "cell_type": "code",
   "execution_count": 47,
   "metadata": {},
   "outputs": [
    {
     "name": "stdout",
     "output_type": "stream",
     "text": [
      "The score in train of model RandomForestClassifier is 1.00\n",
      "The score in test of model RandomForestClassifier is 0.86\n",
      "\n",
      "\n",
      "The score in train of model GradientBoostingClassifier is 0.85\n",
      "The score in test of model GradientBoostingClassifier is 0.80\n",
      "\n",
      "\n",
      "The score in train of model AdaBoostClassifier is 0.36\n",
      "The score in test of model AdaBoostClassifier is 0.35\n",
      "\n",
      "\n",
      "The score in train of model ExtraTreesClassifier is 1.00\n",
      "The score in test of model ExtraTreesClassifier is 0.87\n",
      "\n",
      "\n",
      "The score in train of model LGBMClassifier is 0.99\n",
      "The score in test of model LGBMClassifier is 0.86\n",
      "\n",
      "\n"
     ]
    }
   ],
   "source": [
    "for model in models:\n",
    "    model.fit(X_train, y_train) \n",
    "    train_score= model.score(X_train, y_train) \n",
    "    test_score= model.score(X_test, y_test)\n",
    "    #clf_report= classification_report(y_test, y_pred) # with the report, we have a bigger picture, with precision and recall for each class\n",
    "    print(f\"The score in train of model {type(model).__name__} is {train_score:.2f}\")\n",
    "    print(f\"The score in test of model {type(model).__name__} is {test_score:.2f}\")\n",
    "    #print(clf_report)\n",
    "    print(\"\\n\")"
   ]
  },
  {
   "cell_type": "markdown",
   "metadata": {},
   "source": [
    "As we can see, the score for some ensembles is better now. Let's save the data and open a new notebook to perform the model selection."
   ]
  },
  {
   "cell_type": "code",
   "execution_count": 48,
   "metadata": {},
   "outputs": [],
   "source": [
    "# save the data without transforming\n",
    "\n",
    "# df= train.drop(['Soil_Type5', 'Soil_Type11', 'Soil_Type16', 'Soil_Type20'], axis=1) \n",
    "\n",
    "# df.to_csv('../data/train_newfeats_drop_3_copia.csv', index = False)"
   ]
  },
  {
   "cell_type": "code",
   "execution_count": null,
   "metadata": {},
   "outputs": [],
   "source": [
    "'Soil_Type5', 'Soil_Type11', 'Soil_Type16', 'Soil_Type20'"
   ]
  }
 ],
 "metadata": {
  "kernelspec": {
   "display_name": "Python 3.7.4 64-bit",
   "language": "python",
   "name": "python3"
  },
  "language_info": {
   "codemirror_mode": {
    "name": "ipython",
    "version": 3
   },
   "file_extension": ".py",
   "mimetype": "text/x-python",
   "name": "python",
   "nbconvert_exporter": "python",
   "pygments_lexer": "ipython3",
   "version": "3.7.4"
  },
  "orig_nbformat": 4,
  "vscode": {
   "interpreter": {
    "hash": "f9d13b5290330b663afaff99531415167a1442545ab466441da89c47cd128532"
   }
  }
 },
 "nbformat": 4,
 "nbformat_minor": 2
}
