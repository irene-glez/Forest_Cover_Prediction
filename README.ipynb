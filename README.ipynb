{
 "cells": [
  {
   "cell_type": "markdown",
   "metadata": {},
   "source": [
    "README\n",
    "\n",
    "Gracias por interesarte por este proyecto :)\n",
    "\n",
    "Hemos trabajado sobre los datos del Bosque Roosevelt en Colorado.\n",
    "\n",
    "Poder anticipar qué tipo de vegetación va a crecer en áreas específicas de un bosque es necesario para abordar diferentes problemas:\n",
    "\n",
    "- prevención de incendios\n",
    "- control de plagas\n",
    "- gestión forestal\n",
    "- distribución de recursos\n",
    "\n",
    "Hemos estudiado el problema, y pensamos que desde el Machine Learning podemos contribuir a la salud de los bosques."
   ]
  }
 ],
 "metadata": {
  "kernelspec": {
   "display_name": "Python 3.7.4 64-bit",
   "language": "python",
   "name": "python3"
  },
  "language_info": {
   "name": "python",
   "version": "3.7.4"
  },
  "orig_nbformat": 4,
  "vscode": {
   "interpreter": {
    "hash": "f9d13b5290330b663afaff99531415167a1442545ab466441da89c47cd128532"
   }
  }
 },
 "nbformat": 4,
 "nbformat_minor": 2
}
